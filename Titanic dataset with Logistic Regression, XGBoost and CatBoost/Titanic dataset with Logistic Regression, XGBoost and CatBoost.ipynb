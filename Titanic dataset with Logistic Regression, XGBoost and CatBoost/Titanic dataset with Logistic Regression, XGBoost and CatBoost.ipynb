{
 "cells": [
  {
   "cell_type": "markdown",
   "metadata": {},
   "source": [
    "\n",
    "# Titanic dataset with Logistic Regression, XGBoost and CatBoost\n",
    "\n",
    "For this lecture we will be working with the [Titanic Data Set from Kaggle](https://www.kaggle.com/c/titanic). This is a very famous data set and very often is a student's first step in machine learning! \n",
    "\n",
    "We'll be trying to predict a classification - survival or deceased.\n",
    "Let's begin our understanding of implementing Logistic Regression in Python for classification.\n",
    "\n",
    "We will be training our data on a few models in this notebook:\n",
    "- Logistic Regression\n",
    "- RandomizedSearchCV with XGBClassifier\n",
    "- Hyperopt hyperparameter tuning with XGBClassifier\n",
    "- GridSearchCV with XGBClassifier\n",
    "- Custom made Randomised Search for hyperparameter sets using native XGBoost API\n",
    "- RandomisedSearchCV with CatBoostClassifier\n",
    "\n",
    "## Import Libraries"
   ]
  },
  {
   "cell_type": "code",
   "execution_count": 1,
   "metadata": {},
   "outputs": [],
   "source": [
    "import pandas as pd\n",
    "import numpy as np\n",
    "import matplotlib.pyplot as plt\n",
    "import seaborn as sns\n",
    "%matplotlib inline"
   ]
  },
  {
   "cell_type": "markdown",
   "metadata": {},
   "source": [
    "## Import Data\n",
    "\n",
    "Let's start by reading in the titanic_train.csv file into a pandas dataframe."
   ]
  },
  {
   "cell_type": "code",
   "execution_count": 2,
   "metadata": {},
   "outputs": [],
   "source": [
    "train = pd.read_csv('titanic_train.csv')"
   ]
  },
  {
   "cell_type": "code",
   "execution_count": 4,
   "metadata": {
    "scrolled": false
   },
   "outputs": [
    {
     "data": {
      "text/html": [
       "<div>\n",
       "<style scoped>\n",
       "    .dataframe tbody tr th:only-of-type {\n",
       "        vertical-align: middle;\n",
       "    }\n",
       "\n",
       "    .dataframe tbody tr th {\n",
       "        vertical-align: top;\n",
       "    }\n",
       "\n",
       "    .dataframe thead th {\n",
       "        text-align: right;\n",
       "    }\n",
       "</style>\n",
       "<table border=\"1\" class=\"dataframe\">\n",
       "  <thead>\n",
       "    <tr style=\"text-align: right;\">\n",
       "      <th></th>\n",
       "      <th>PassengerId</th>\n",
       "      <th>Survived</th>\n",
       "      <th>Pclass</th>\n",
       "      <th>Name</th>\n",
       "      <th>Sex</th>\n",
       "      <th>Age</th>\n",
       "      <th>SibSp</th>\n",
       "      <th>Parch</th>\n",
       "      <th>Ticket</th>\n",
       "      <th>Fare</th>\n",
       "      <th>Cabin</th>\n",
       "      <th>Embarked</th>\n",
       "    </tr>\n",
       "  </thead>\n",
       "  <tbody>\n",
       "    <tr>\n",
       "      <th>0</th>\n",
       "      <td>1</td>\n",
       "      <td>0</td>\n",
       "      <td>3</td>\n",
       "      <td>Braund, Mr. Owen Harris</td>\n",
       "      <td>male</td>\n",
       "      <td>22.0</td>\n",
       "      <td>1</td>\n",
       "      <td>0</td>\n",
       "      <td>A/5 21171</td>\n",
       "      <td>7.2500</td>\n",
       "      <td>NaN</td>\n",
       "      <td>S</td>\n",
       "    </tr>\n",
       "    <tr>\n",
       "      <th>1</th>\n",
       "      <td>2</td>\n",
       "      <td>1</td>\n",
       "      <td>1</td>\n",
       "      <td>Cumings, Mrs. John Bradley (Florence Briggs Th...</td>\n",
       "      <td>female</td>\n",
       "      <td>38.0</td>\n",
       "      <td>1</td>\n",
       "      <td>0</td>\n",
       "      <td>PC 17599</td>\n",
       "      <td>71.2833</td>\n",
       "      <td>C85</td>\n",
       "      <td>C</td>\n",
       "    </tr>\n",
       "    <tr>\n",
       "      <th>2</th>\n",
       "      <td>3</td>\n",
       "      <td>1</td>\n",
       "      <td>3</td>\n",
       "      <td>Heikkinen, Miss. Laina</td>\n",
       "      <td>female</td>\n",
       "      <td>26.0</td>\n",
       "      <td>0</td>\n",
       "      <td>0</td>\n",
       "      <td>STON/O2. 3101282</td>\n",
       "      <td>7.9250</td>\n",
       "      <td>NaN</td>\n",
       "      <td>S</td>\n",
       "    </tr>\n",
       "    <tr>\n",
       "      <th>3</th>\n",
       "      <td>4</td>\n",
       "      <td>1</td>\n",
       "      <td>1</td>\n",
       "      <td>Futrelle, Mrs. Jacques Heath (Lily May Peel)</td>\n",
       "      <td>female</td>\n",
       "      <td>35.0</td>\n",
       "      <td>1</td>\n",
       "      <td>0</td>\n",
       "      <td>113803</td>\n",
       "      <td>53.1000</td>\n",
       "      <td>C123</td>\n",
       "      <td>S</td>\n",
       "    </tr>\n",
       "    <tr>\n",
       "      <th>4</th>\n",
       "      <td>5</td>\n",
       "      <td>0</td>\n",
       "      <td>3</td>\n",
       "      <td>Allen, Mr. William Henry</td>\n",
       "      <td>male</td>\n",
       "      <td>35.0</td>\n",
       "      <td>0</td>\n",
       "      <td>0</td>\n",
       "      <td>373450</td>\n",
       "      <td>8.0500</td>\n",
       "      <td>NaN</td>\n",
       "      <td>S</td>\n",
       "    </tr>\n",
       "  </tbody>\n",
       "</table>\n",
       "</div>"
      ],
      "text/plain": [
       "   PassengerId  Survived  Pclass  \\\n",
       "0            1         0       3   \n",
       "1            2         1       1   \n",
       "2            3         1       3   \n",
       "3            4         1       1   \n",
       "4            5         0       3   \n",
       "\n",
       "                                                Name     Sex   Age  SibSp  \\\n",
       "0                            Braund, Mr. Owen Harris    male  22.0      1   \n",
       "1  Cumings, Mrs. John Bradley (Florence Briggs Th...  female  38.0      1   \n",
       "2                             Heikkinen, Miss. Laina  female  26.0      0   \n",
       "3       Futrelle, Mrs. Jacques Heath (Lily May Peel)  female  35.0      1   \n",
       "4                           Allen, Mr. William Henry    male  35.0      0   \n",
       "\n",
       "   Parch            Ticket     Fare Cabin Embarked  \n",
       "0      0         A/5 21171   7.2500   NaN        S  \n",
       "1      0          PC 17599  71.2833   C85        C  \n",
       "2      0  STON/O2. 3101282   7.9250   NaN        S  \n",
       "3      0            113803  53.1000  C123        S  \n",
       "4      0            373450   8.0500   NaN        S  "
      ]
     },
     "execution_count": 4,
     "metadata": {},
     "output_type": "execute_result"
    }
   ],
   "source": [
    "train.head()"
   ]
  },
  {
   "cell_type": "code",
   "execution_count": 5,
   "metadata": {
    "scrolled": false
   },
   "outputs": [
    {
     "name": "stdout",
     "output_type": "stream",
     "text": [
      "<class 'pandas.core.frame.DataFrame'>\n",
      "RangeIndex: 891 entries, 0 to 890\n",
      "Data columns (total 12 columns):\n",
      " #   Column       Non-Null Count  Dtype  \n",
      "---  ------       --------------  -----  \n",
      " 0   PassengerId  891 non-null    int64  \n",
      " 1   Survived     891 non-null    int64  \n",
      " 2   Pclass       891 non-null    int64  \n",
      " 3   Name         891 non-null    object \n",
      " 4   Sex          891 non-null    object \n",
      " 5   Age          714 non-null    float64\n",
      " 6   SibSp        891 non-null    int64  \n",
      " 7   Parch        891 non-null    int64  \n",
      " 8   Ticket       891 non-null    object \n",
      " 9   Fare         891 non-null    float64\n",
      " 10  Cabin        204 non-null    object \n",
      " 11  Embarked     889 non-null    object \n",
      "dtypes: float64(2), int64(5), object(5)\n",
      "memory usage: 83.7+ KB\n"
     ]
    }
   ],
   "source": [
    "train.info()"
   ]
  },
  {
   "cell_type": "markdown",
   "metadata": {},
   "source": [
    "# Exploratory Data Analysis\n",
    "\n",
    "Let's begin some exploratory data analysis! We'll start by checking out missing data!\n",
    "\n",
    "## Missing Data\n",
    "\n",
    "We can use seaborn to create a simple heatmap to see where we are missing data!"
   ]
  },
  {
   "cell_type": "code",
   "execution_count": 6,
   "metadata": {
    "scrolled": true
   },
   "outputs": [
    {
     "data": {
      "text/plain": [
       "PassengerId      0\n",
       "Survived         0\n",
       "Pclass           0\n",
       "Name             0\n",
       "Sex              0\n",
       "Age            177\n",
       "SibSp            0\n",
       "Parch            0\n",
       "Ticket           0\n",
       "Fare             0\n",
       "Cabin          687\n",
       "Embarked         2\n",
       "dtype: int64"
      ]
     },
     "execution_count": 6,
     "metadata": {},
     "output_type": "execute_result"
    }
   ],
   "source": [
    "train.isnull().sum()"
   ]
  },
  {
   "cell_type": "code",
   "execution_count": 81,
   "metadata": {
    "scrolled": false
   },
   "outputs": [
    {
     "data": {
      "text/plain": [
       "<matplotlib.axes._subplots.AxesSubplot at 0x13462e908>"
      ]
     },
     "execution_count": 81,
     "metadata": {},
     "output_type": "execute_result"
    },
    {
     "data": {
      "image/png": "[encoded data removed]",
      "text/plain": [
       "<Figure size 648x504 with 1 Axes>"
      ]
     },
     "metadata": {
      "needs_background": "light"
     },
     "output_type": "display_data"
    }
   ],
   "source": [
    "# plot heatmap and use bird's eye view to find the missing data\n",
    "\n",
    "plt.figure(figsize=(9,7))\n",
    "sns.heatmap(train.isnull(), yticklabels=False, cbar=False, cmap='viridis')"
   ]
  },
  {
   "cell_type": "markdown",
   "metadata": {},
   "source": [
    "Roughly 20 percent of the Age data is missing. The proportion of Age missing is likely small enough for reasonable replacement with some form of imputation. Looking at the Cabin column, it looks like we are just missing too much of that data to do something useful with at a basic level. We'll probably drop this later, or change it to another feature like \"Cabin Known: 1 or 0\"\n"
   ]
  },
  {
   "cell_type": "code",
   "execution_count": 82,
   "metadata": {},
   "outputs": [
    {
     "data": {
      "text/plain": [
       "<matplotlib.axes._subplots.AxesSubplot at 0x1345b30f0>"
      ]
     },
     "execution_count": 82,
     "metadata": {},
     "output_type": "execute_result"
    },
    {
     "data": {
      "image/png": "[encoded data removed]",
      "text/plain": [
       "<Figure size 432x288 with 1 Axes>"
      ]
     },
     "metadata": {},
     "output_type": "display_data"
    }
   ],
   "source": [
    "sns.set_style('whitegrid')\n",
    "sns.countplot(x='Survived',data=train,palette='RdBu_r')"
   ]
  },
  {
   "cell_type": "code",
   "execution_count": 83,
   "metadata": {},
   "outputs": [
    {
     "data": {
      "text/plain": [
       "<matplotlib.axes._subplots.AxesSubplot at 0x13453d828>"
      ]
     },
     "execution_count": 83,
     "metadata": {},
     "output_type": "execute_result"
    },
    {
     "data": {
      "image/png": "[encoded data removed]",
      "text/plain": [
       "<Figure size 432x288 with 1 Axes>"
      ]
     },
     "metadata": {},
     "output_type": "display_data"
    }
   ],
   "source": [
    "sns.set_style('whitegrid')\n",
    "sns.countplot(x='Survived',hue='Sex',data=train,palette='RdBu_r')"
   ]
  },
  {
   "cell_type": "code",
   "execution_count": 84,
   "metadata": {},
   "outputs": [
    {
     "data": {
      "text/plain": [
       "<matplotlib.axes._subplots.AxesSubplot at 0x1346e5e10>"
      ]
     },
     "execution_count": 84,
     "metadata": {},
     "output_type": "execute_result"
    },
    {
     "data": {
      "image/png": "[encoded data removed]",
      "text/plain": [
       "<Figure size 432x288 with 1 Axes>"
      ]
     },
     "metadata": {},
     "output_type": "display_data"
    }
   ],
   "source": [
    "sns.set_style('whitegrid')\n",
    "sns.countplot(x='Survived',hue='Pclass',data=train,palette='rainbow')"
   ]
  },
  {
   "cell_type": "code",
   "execution_count": 85,
   "metadata": {},
   "outputs": [
    {
     "data": {
      "text/plain": [
       "<matplotlib.axes._subplots.AxesSubplot at 0x1347d45c0>"
      ]
     },
     "execution_count": 85,
     "metadata": {},
     "output_type": "execute_result"
    },
    {
     "data": {
      "image/png": "[encoded data removed]",
      "text/plain": [
       "<Figure size 432x288 with 1 Axes>"
      ]
     },
     "metadata": {},
     "output_type": "display_data"
    }
   ],
   "source": [
    "sns.distplot(train['Age'].dropna(),kde=False,color='darkred',bins=30)"
   ]
  },
  {
   "cell_type": "code",
   "execution_count": 86,
   "metadata": {},
   "outputs": [
    {
     "data": {
      "text/plain": [
       "<matplotlib.axes._subplots.AxesSubplot at 0x136181a20>"
      ]
     },
     "execution_count": 86,
     "metadata": {},
     "output_type": "execute_result"
    },
    {
     "data": {
      "image/png": "[encoded data removed]",
      "text/plain": [
       "<Figure size 432x288 with 1 Axes>"
      ]
     },
     "metadata": {},
     "output_type": "display_data"
    }
   ],
   "source": [
    "sns.countplot(x='SibSp',data=train)"
   ]
  },
  {
   "cell_type": "code",
   "execution_count": 87,
   "metadata": {
    "scrolled": true
   },
   "outputs": [
    {
     "data": {
      "text/plain": [
       "<matplotlib.axes._subplots.AxesSubplot at 0x1361b5f28>"
      ]
     },
     "execution_count": 87,
     "metadata": {},
     "output_type": "execute_result"
    },
    {
     "data": {
      "image/png": "[encoded data removed]",
      "text/plain": [
       "<Figure size 576x288 with 1 Axes>"
      ]
     },
     "metadata": {},
     "output_type": "display_data"
    }
   ],
   "source": [
    "train['Fare'].hist(color='green',bins=40,figsize=(8,4))"
   ]
  },
  {
   "cell_type": "markdown",
   "metadata": {},
   "source": [
    "___\n",
    "## Data Cleaning and Feature Engineering"
   ]
  },
  {
   "cell_type": "markdown",
   "metadata": {},
   "source": [
    "### Feature Engineering - extract Title from Name"
   ]
  },
  {
   "cell_type": "code",
   "execution_count": 6,
   "metadata": {
    "scrolled": false
   },
   "outputs": [
    {
     "data": {
      "text/plain": [
       "0                               Braund, Mr. Owen Harris\n",
       "1     Cumings, Mrs. John Bradley (Florence Briggs Th...\n",
       "2                                Heikkinen, Miss. Laina\n",
       "3          Futrelle, Mrs. Jacques Heath (Lily May Peel)\n",
       "4                              Allen, Mr. William Henry\n",
       "5                                      Moran, Mr. James\n",
       "6                               McCarthy, Mr. Timothy J\n",
       "7                        Palsson, Master. Gosta Leonard\n",
       "8     Johnson, Mrs. Oscar W (Elisabeth Vilhelmina Berg)\n",
       "9                   Nasser, Mrs. Nicholas (Adele Achem)\n",
       "10                      Sandstrom, Miss. Marguerite Rut\n",
       "11                             Bonnell, Miss. Elizabeth\n",
       "12                       Saundercock, Mr. William Henry\n",
       "13                          Andersson, Mr. Anders Johan\n",
       "14                 Vestrom, Miss. Hulda Amanda Adolfina\n",
       "15                     Hewlett, Mrs. (Mary D Kingcome) \n",
       "16                                 Rice, Master. Eugene\n",
       "17                         Williams, Mr. Charles Eugene\n",
       "18    Vander Planke, Mrs. Julius (Emelia Maria Vande...\n",
       "19                              Masselmani, Mrs. Fatima\n",
       "Name: Name, dtype: object"
      ]
     },
     "execution_count": 6,
     "metadata": {},
     "output_type": "execute_result"
    }
   ],
   "source": [
    "train['Name'].head(20)"
   ]
  },
  {
   "cell_type": "code",
   "execution_count": 7,
   "metadata": {
    "scrolled": false
   },
   "outputs": [
    {
     "data": {
      "text/plain": [
       "Mr.          517\n",
       "Miss.        182\n",
       "Mrs.         125\n",
       "Master.       40\n",
       "Dr.            7\n",
       "Rev.           6\n",
       "Col.           2\n",
       "Mlle.          2\n",
       "Major.         2\n",
       "Sir.           1\n",
       "Mme.           1\n",
       "Capt.          1\n",
       "Don.           1\n",
       "Jonkheer.      1\n",
       "Ms.            1\n",
       "Lady.          1\n",
       "the            1\n",
       "Name: Name, dtype: int64"
      ]
     },
     "execution_count": 7,
     "metadata": {},
     "output_type": "execute_result"
    }
   ],
   "source": [
    "# extract the title in names\n",
    "\n",
    "train['Name'] = train['Name'].apply(lambda x: x.split(',')[1].split()[0])\n",
    "train['Name'].value_counts()"
   ]
  },
  {
   "cell_type": "code",
   "execution_count": 8,
   "metadata": {},
   "outputs": [],
   "source": [
    "# replace some titles with the same meaning\n",
    "train.loc[train['Name']=='Mlle.', 'Name'] = 'Miss.'\n",
    "train.loc[train['Name']=='Ms.', 'Name'] = 'Miss.'\n",
    "train.loc[train['Name']=='Mme.', 'Name'] = 'Mrs.'"
   ]
  },
  {
   "cell_type": "code",
   "execution_count": 9,
   "metadata": {},
   "outputs": [],
   "source": [
    "# group rare titles into a category of 'Rare_title'\n",
    "rare = ('Lady.', 'the','Capt.', 'Col.', 'Don.', \n",
    "        'Dr.', 'Major.', 'Rev.', 'Sir.', 'Jonkheer.')\n",
    "\n",
    "train.loc[train['Name'].isin(rare), 'Name'] = 'Rare_title'"
   ]
  },
  {
   "cell_type": "code",
   "execution_count": 10,
   "metadata": {
    "scrolled": false
   },
   "outputs": [
    {
     "data": {
      "text/plain": [
       "Mr.           517\n",
       "Miss.         185\n",
       "Mrs.          126\n",
       "Master.        40\n",
       "Rare_title     23\n",
       "Name: Name, dtype: int64"
      ]
     },
     "execution_count": 10,
     "metadata": {},
     "output_type": "execute_result"
    }
   ],
   "source": [
    "train['Name'].value_counts()"
   ]
  },
  {
   "cell_type": "markdown",
   "metadata": {},
   "source": [
    "### Data cleaning - Cabin"
   ]
  },
  {
   "cell_type": "code",
   "execution_count": 11,
   "metadata": {
    "scrolled": true
   },
   "outputs": [
    {
     "data": {
      "text/plain": [
       "687"
      ]
     },
     "execution_count": 11,
     "metadata": {},
     "output_type": "execute_result"
    }
   ],
   "source": [
    "train['Cabin'].isnull().sum()   # there are a lot of missing values"
   ]
  },
  {
   "cell_type": "code",
   "execution_count": 12,
   "metadata": {},
   "outputs": [
    {
     "data": {
      "text/plain": [
       "147"
      ]
     },
     "execution_count": 12,
     "metadata": {},
     "output_type": "execute_result"
    }
   ],
   "source": [
    "train['Cabin'].nunique()   # there are many distinct values in Cabin"
   ]
  },
  {
   "cell_type": "code",
   "execution_count": 13,
   "metadata": {
    "scrolled": true
   },
   "outputs": [
    {
     "data": {
      "text/plain": [
       "nonCabin    687\n",
       "hasCabin    204\n",
       "Name: Cabin, dtype: int64"
      ]
     },
     "execution_count": 13,
     "metadata": {},
     "output_type": "execute_result"
    }
   ],
   "source": [
    "# We will simply split Cabin col into 2 groups - hasCabin / nonCabin\n",
    "\n",
    "train.loc[train['Cabin'].notnull(), 'Cabin'] = 'hasCabin'\n",
    "train['Cabin'].fillna('nonCabin', inplace=True)\n",
    "train['Cabin'].value_counts()"
   ]
  },
  {
   "cell_type": "markdown",
   "metadata": {},
   "source": [
    "### Feature Engineering - create Famsize and Famsize_grp feature"
   ]
  },
  {
   "cell_type": "code",
   "execution_count": 14,
   "metadata": {},
   "outputs": [
    {
     "data": {
      "text/plain": [
       "1     537\n",
       "2     161\n",
       "3     102\n",
       "4      29\n",
       "6      22\n",
       "5      15\n",
       "7      12\n",
       "11      7\n",
       "8       6\n",
       "Name: Famsize, dtype: int64"
      ]
     },
     "execution_count": 14,
     "metadata": {},
     "output_type": "execute_result"
    }
   ],
   "source": [
    "# create new feature for Family Size\n",
    "\n",
    "train['Famsize'] = train['SibSp'] + train['Parch'] + 1\n",
    "train['Famsize'].value_counts()"
   ]
  },
  {
   "cell_type": "code",
   "execution_count": 15,
   "metadata": {
    "scrolled": false
   },
   "outputs": [
    {
     "data": {
      "text/plain": [
       "<matplotlib.axes._subplots.AxesSubplot at 0x11639dcc0>"
      ]
     },
     "execution_count": 15,
     "metadata": {},
     "output_type": "execute_result"
    },
    {
     "data": {
      "image/png": "[encoded data removed]",
      "text/plain": [
       "<Figure size 576x432 with 1 Axes>"
      ]
     },
     "metadata": {
      "needs_background": "light"
     },
     "output_type": "display_data"
    }
   ],
   "source": [
    "# Plot graph to see the trend in Family size\n",
    "# We notice that family size of 2,3,4 have higher survival rate than other\n",
    "# family sizes, it's good to split them into family size groups\n",
    "\n",
    "plt.figure(figsize=(8,6))\n",
    "sns.set_style('whitegrid')\n",
    "sns.countplot(x='Famsize', data=train, palette='RdBu_r', hue='Survived')"
   ]
  },
  {
   "cell_type": "code",
   "execution_count": 16,
   "metadata": {},
   "outputs": [
    {
     "data": {
      "text/plain": [
       "singleton    537\n",
       "small        292\n",
       "large         62\n",
       "Name: Famsize_grp, dtype: int64"
      ]
     },
     "execution_count": 16,
     "metadata": {},
     "output_type": "execute_result"
    }
   ],
   "source": [
    "# group Famsize into 3 discrete groups\n",
    "\n",
    "train['Famsize_grp'] = np.where(train['Famsize'] == 1, 'singleton', \n",
    "                np.where((train['Famsize'] > 1) & (train['Famsize'] < 5),\n",
    "                                         'small', 'large'))\n",
    "train['Famsize_grp'].value_counts()"
   ]
  },
  {
   "cell_type": "markdown",
   "metadata": {},
   "source": [
    "### Impute missing Embarked data"
   ]
  },
  {
   "cell_type": "code",
   "execution_count": 17,
   "metadata": {
    "scrolled": true
   },
   "outputs": [
    {
     "data": {
      "text/plain": [
       "PassengerId      0\n",
       "Survived         0\n",
       "Pclass           0\n",
       "Name             0\n",
       "Sex              0\n",
       "Age            177\n",
       "SibSp            0\n",
       "Parch            0\n",
       "Ticket           0\n",
       "Fare             0\n",
       "Cabin            0\n",
       "Embarked         2\n",
       "Famsize          0\n",
       "Famsize_grp      0\n",
       "dtype: int64"
      ]
     },
     "execution_count": 17,
     "metadata": {},
     "output_type": "execute_result"
    }
   ],
   "source": [
    "# impute the missing Embarked value\n",
    "\n",
    "train.isnull().sum()"
   ]
  },
  {
   "cell_type": "code",
   "execution_count": 18,
   "metadata": {
    "scrolled": false
   },
   "outputs": [
    {
     "data": {
      "text/html": [
       "<div>\n",
       "<style scoped>\n",
       "    .dataframe tbody tr th:only-of-type {\n",
       "        vertical-align: middle;\n",
       "    }\n",
       "\n",
       "    .dataframe tbody tr th {\n",
       "        vertical-align: top;\n",
       "    }\n",
       "\n",
       "    .dataframe thead th {\n",
       "        text-align: right;\n",
       "    }\n",
       "</style>\n",
       "<table border=\"1\" class=\"dataframe\">\n",
       "  <thead>\n",
       "    <tr style=\"text-align: right;\">\n",
       "      <th></th>\n",
       "      <th>PassengerId</th>\n",
       "      <th>Survived</th>\n",
       "      <th>Pclass</th>\n",
       "      <th>Name</th>\n",
       "      <th>Sex</th>\n",
       "      <th>Age</th>\n",
       "      <th>SibSp</th>\n",
       "      <th>Parch</th>\n",
       "      <th>Ticket</th>\n",
       "      <th>Fare</th>\n",
       "      <th>Cabin</th>\n",
       "      <th>Embarked</th>\n",
       "      <th>Famsize</th>\n",
       "      <th>Famsize_grp</th>\n",
       "    </tr>\n",
       "  </thead>\n",
       "  <tbody>\n",
       "    <tr>\n",
       "      <th>61</th>\n",
       "      <td>62</td>\n",
       "      <td>1</td>\n",
       "      <td>1</td>\n",
       "      <td>Miss.</td>\n",
       "      <td>female</td>\n",
       "      <td>38.0</td>\n",
       "      <td>0</td>\n",
       "      <td>0</td>\n",
       "      <td>113572</td>\n",
       "      <td>80.0</td>\n",
       "      <td>hasCabin</td>\n",
       "      <td>NaN</td>\n",
       "      <td>1</td>\n",
       "      <td>singleton</td>\n",
       "    </tr>\n",
       "    <tr>\n",
       "      <th>829</th>\n",
       "      <td>830</td>\n",
       "      <td>1</td>\n",
       "      <td>1</td>\n",
       "      <td>Mrs.</td>\n",
       "      <td>female</td>\n",
       "      <td>62.0</td>\n",
       "      <td>0</td>\n",
       "      <td>0</td>\n",
       "      <td>113572</td>\n",
       "      <td>80.0</td>\n",
       "      <td>hasCabin</td>\n",
       "      <td>NaN</td>\n",
       "      <td>1</td>\n",
       "      <td>singleton</td>\n",
       "    </tr>\n",
       "  </tbody>\n",
       "</table>\n",
       "</div>"
      ],
      "text/plain": [
       "     PassengerId  Survived  Pclass   Name     Sex   Age  SibSp  Parch  Ticket  \\\n",
       "61            62         1       1  Miss.  female  38.0      0      0  113572   \n",
       "829          830         1       1   Mrs.  female  62.0      0      0  113572   \n",
       "\n",
       "     Fare     Cabin Embarked  Famsize Famsize_grp  \n",
       "61   80.0  hasCabin      NaN        1   singleton  \n",
       "829  80.0  hasCabin      NaN        1   singleton  "
      ]
     },
     "execution_count": 18,
     "metadata": {},
     "output_type": "execute_result"
    }
   ],
   "source": [
    "train[train['Embarked'].isnull()]   # inspect the missing Embarked cases"
   ]
  },
  {
   "cell_type": "markdown",
   "metadata": {},
   "source": [
    "We will infer their values for embarkment based on present data that we can imagine may be relevant: passenger class and fare. We see that they paid $ 80 and their classes are 1. So from where did they embark?\n",
    "\n",
    "The median fare for a first class passenger departing from Charbourg (‘C’) coincides nicely with the $80 paid by our embarkment-deficient passengers. I think we can safely replace the NA values with ‘C’."
   ]
  },
  {
   "cell_type": "code",
   "execution_count": 19,
   "metadata": {},
   "outputs": [
    {
     "data": {
      "text/plain": [
       "<matplotlib.axes._subplots.AxesSubplot at 0x11610b128>"
      ]
     },
     "execution_count": 19,
     "metadata": {},
     "output_type": "execute_result"
    },
    {
     "data": {
      "image/png": "[encoded data removed]",
      "text/plain": [
       "<Figure size 504x504 with 1 Axes>"
      ]
     },
     "metadata": {},
     "output_type": "display_data"
    }
   ],
   "source": [
    "# Boxplot to show the median fare value for each Pclass and Embark location\n",
    "\n",
    "plt.figure(figsize=(7, 7))\n",
    "sns.boxplot(x='Embarked',y='Fare',data=train,palette='rainbow',hue='Pclass')"
   ]
  },
  {
   "cell_type": "code",
   "execution_count": 20,
   "metadata": {
    "scrolled": true
   },
   "outputs": [
    {
     "data": {
      "text/plain": [
       "0"
      ]
     },
     "execution_count": 20,
     "metadata": {},
     "output_type": "execute_result"
    }
   ],
   "source": [
    "# replace missing Embarked data with port C\n",
    "\n",
    "train['Embarked'] = train['Embarked'].replace(np.NaN, 'C')\n",
    "train['Embarked'].isnull().sum()"
   ]
  },
  {
   "cell_type": "markdown",
   "metadata": {},
   "source": [
    "### Impute missing Age data"
   ]
  },
  {
   "cell_type": "markdown",
   "metadata": {},
   "source": [
    "We want to fill in missing age data instead of just dropping the missing age data rows. \n"
   ]
  },
  {
   "cell_type": "code",
   "execution_count": 21,
   "metadata": {},
   "outputs": [
    {
     "data": {
      "text/html": [
       "<div>\n",
       "<style scoped>\n",
       "    .dataframe tbody tr th:only-of-type {\n",
       "        vertical-align: middle;\n",
       "    }\n",
       "\n",
       "    .dataframe tbody tr th {\n",
       "        vertical-align: top;\n",
       "    }\n",
       "\n",
       "    .dataframe thead th {\n",
       "        text-align: right;\n",
       "    }\n",
       "</style>\n",
       "<table border=\"1\" class=\"dataframe\">\n",
       "  <thead>\n",
       "    <tr style=\"text-align: right;\">\n",
       "      <th></th>\n",
       "      <th>Pclass</th>\n",
       "      <th>Age</th>\n",
       "      <th>SibSp</th>\n",
       "      <th>Parch</th>\n",
       "      <th>Fare</th>\n",
       "      <th>Famsize</th>\n",
       "      <th>Name_Miss.</th>\n",
       "      <th>Name_Mr.</th>\n",
       "      <th>Name_Mrs.</th>\n",
       "      <th>Name_Rare_title</th>\n",
       "      <th>Embarked_Q</th>\n",
       "      <th>Embarked_S</th>\n",
       "      <th>Sex_male</th>\n",
       "      <th>Famsize_grp_singleton</th>\n",
       "      <th>Famsize_grp_small</th>\n",
       "    </tr>\n",
       "  </thead>\n",
       "  <tbody>\n",
       "    <tr>\n",
       "      <th>0</th>\n",
       "      <td>3</td>\n",
       "      <td>22.0</td>\n",
       "      <td>1</td>\n",
       "      <td>0</td>\n",
       "      <td>7.2500</td>\n",
       "      <td>2</td>\n",
       "      <td>0</td>\n",
       "      <td>1</td>\n",
       "      <td>0</td>\n",
       "      <td>0</td>\n",
       "      <td>0</td>\n",
       "      <td>1</td>\n",
       "      <td>1</td>\n",
       "      <td>0</td>\n",
       "      <td>1</td>\n",
       "    </tr>\n",
       "    <tr>\n",
       "      <th>1</th>\n",
       "      <td>1</td>\n",
       "      <td>38.0</td>\n",
       "      <td>1</td>\n",
       "      <td>0</td>\n",
       "      <td>71.2833</td>\n",
       "      <td>2</td>\n",
       "      <td>0</td>\n",
       "      <td>0</td>\n",
       "      <td>1</td>\n",
       "      <td>0</td>\n",
       "      <td>0</td>\n",
       "      <td>0</td>\n",
       "      <td>0</td>\n",
       "      <td>0</td>\n",
       "      <td>1</td>\n",
       "    </tr>\n",
       "    <tr>\n",
       "      <th>2</th>\n",
       "      <td>3</td>\n",
       "      <td>26.0</td>\n",
       "      <td>0</td>\n",
       "      <td>0</td>\n",
       "      <td>7.9250</td>\n",
       "      <td>1</td>\n",
       "      <td>1</td>\n",
       "      <td>0</td>\n",
       "      <td>0</td>\n",
       "      <td>0</td>\n",
       "      <td>0</td>\n",
       "      <td>1</td>\n",
       "      <td>0</td>\n",
       "      <td>1</td>\n",
       "      <td>0</td>\n",
       "    </tr>\n",
       "    <tr>\n",
       "      <th>3</th>\n",
       "      <td>1</td>\n",
       "      <td>35.0</td>\n",
       "      <td>1</td>\n",
       "      <td>0</td>\n",
       "      <td>53.1000</td>\n",
       "      <td>2</td>\n",
       "      <td>0</td>\n",
       "      <td>0</td>\n",
       "      <td>1</td>\n",
       "      <td>0</td>\n",
       "      <td>0</td>\n",
       "      <td>1</td>\n",
       "      <td>0</td>\n",
       "      <td>0</td>\n",
       "      <td>1</td>\n",
       "    </tr>\n",
       "    <tr>\n",
       "      <th>4</th>\n",
       "      <td>3</td>\n",
       "      <td>35.0</td>\n",
       "      <td>0</td>\n",
       "      <td>0</td>\n",
       "      <td>8.0500</td>\n",
       "      <td>1</td>\n",
       "      <td>0</td>\n",
       "      <td>1</td>\n",
       "      <td>0</td>\n",
       "      <td>0</td>\n",
       "      <td>0</td>\n",
       "      <td>1</td>\n",
       "      <td>1</td>\n",
       "      <td>1</td>\n",
       "      <td>0</td>\n",
       "    </tr>\n",
       "  </tbody>\n",
       "</table>\n",
       "</div>"
      ],
      "text/plain": [
       "   Pclass   Age  SibSp  Parch     Fare  Famsize  Name_Miss.  Name_Mr.  \\\n",
       "0       3  22.0      1      0   7.2500        2           0         1   \n",
       "1       1  38.0      1      0  71.2833        2           0         0   \n",
       "2       3  26.0      0      0   7.9250        1           1         0   \n",
       "3       1  35.0      1      0  53.1000        2           0         0   \n",
       "4       3  35.0      0      0   8.0500        1           0         1   \n",
       "\n",
       "   Name_Mrs.  Name_Rare_title  Embarked_Q  Embarked_S  Sex_male  \\\n",
       "0          0                0           0           1         1   \n",
       "1          1                0           0           0         0   \n",
       "2          0                0           0           1         0   \n",
       "3          1                0           0           1         0   \n",
       "4          0                0           0           1         1   \n",
       "\n",
       "   Famsize_grp_singleton  Famsize_grp_small  \n",
       "0                      0                  1  \n",
       "1                      0                  1  \n",
       "2                      1                  0  \n",
       "3                      0                  1  \n",
       "4                      1                  0  "
      ]
     },
     "execution_count": 21,
     "metadata": {},
     "output_type": "execute_result"
    }
   ],
   "source": [
    "# make a temp dataframe mice_df to prepare for age imputation\n",
    "# use get_dummies to convert categorical values to dummy variables\n",
    "\n",
    "mice_df = pd.get_dummies(train,\n",
    "    columns=['Name','Embarked','Sex','Famsize_grp'], drop_first=True)\n",
    "mice_df.drop(['Survived','PassengerId','Ticket','Cabin'],\n",
    "                axis=1, inplace=True)\n",
    "mice_df.head()"
   ]
  },
  {
   "cell_type": "code",
   "execution_count": 22,
   "metadata": {},
   "outputs": [],
   "source": [
    "# Multiple imputation by chained equations - MICE\n",
    "# Use MICE to impute age data to keep roughly the same age distribution\n",
    "\n",
    "from sklearn.ensemble import RandomForestRegressor\n",
    "from sklearn.experimental import enable_iterative_imputer\n",
    "from sklearn.impute import IterativeImputer"
   ]
  },
  {
   "cell_type": "code",
   "execution_count": 23,
   "metadata": {
    "scrolled": false
   },
   "outputs": [],
   "source": [
    "imp_mean = IterativeImputer(random_state=0, min_value=1, \n",
    "                            estimator=RandomForestRegressor())\n",
    "temp = imp_mean.fit_transform(mice_df)\n",
    "temp = pd.DataFrame(temp)   # convert array to dataframe for convenience"
   ]
  },
  {
   "cell_type": "code",
   "execution_count": 24,
   "metadata": {
    "scrolled": true
   },
   "outputs": [
    {
     "data": {
      "text/plain": [
       "<matplotlib.axes._subplots.AxesSubplot at 0x11a8d4fd0>"
      ]
     },
     "execution_count": 24,
     "metadata": {},
     "output_type": "execute_result"
    },
    {
     "data": {
      "image/png": "[encoded data removed]",
      "text/plain": [
       "<Figure size 432x288 with 1 Axes>"
      ]
     },
     "metadata": {},
     "output_type": "display_data"
    }
   ],
   "source": [
    "# Plot Age data distribution after imputation, the distribution is \n",
    "# roughly the same as original Age data\n",
    "temp[1].plot.hist(bins=30)"
   ]
  },
  {
   "cell_type": "code",
   "execution_count": 25,
   "metadata": {
    "scrolled": false
   },
   "outputs": [
    {
     "data": {
      "text/plain": [
       "<matplotlib.axes._subplots.AxesSubplot at 0x11a9878d0>"
      ]
     },
     "execution_count": 25,
     "metadata": {},
     "output_type": "execute_result"
    },
    {
     "data": {
      "image/png": "[encoded data removed]",
      "text/plain": [
       "<Figure size 432x288 with 1 Axes>"
      ]
     },
     "metadata": {},
     "output_type": "display_data"
    }
   ],
   "source": [
    "# this graph shows original Age data distribution with missing Age data\n",
    "train['Age'].plot.hist(bins=30)"
   ]
  },
  {
   "cell_type": "code",
   "execution_count": 26,
   "metadata": {
    "scrolled": true
   },
   "outputs": [
    {
     "data": {
      "text/plain": [
       "PassengerId    0\n",
       "Survived       0\n",
       "Pclass         0\n",
       "Name           0\n",
       "Sex            0\n",
       "Age            0\n",
       "SibSp          0\n",
       "Parch          0\n",
       "Ticket         0\n",
       "Fare           0\n",
       "Cabin          0\n",
       "Embarked       0\n",
       "Famsize        0\n",
       "Famsize_grp    0\n",
       "dtype: int64"
      ]
     },
     "execution_count": 26,
     "metadata": {},
     "output_type": "execute_result"
    }
   ],
   "source": [
    "train['Age'] = temp[1]     # save the imputed age back to train set\n",
    "train.isnull().sum()"
   ]
  },
  {
   "cell_type": "code",
   "execution_count": 109,
   "metadata": {
    "scrolled": false
   },
   "outputs": [
    {
     "data": {
      "image/png": "[encoded data removed]",
      "text/plain": [
       "<Figure size 738.2x432 with 2 Axes>"
      ]
     },
     "metadata": {},
     "output_type": "display_data"
    }
   ],
   "source": [
    "# histogram for Age after imputation\n",
    "\n",
    "g = sns.FacetGrid(train, col='Sex', hue='Survived', height=6, aspect=0.8, \n",
    "                  hue_order=[1, 0], hue_kws={'alpha':[0.5,0.5]})\n",
    "g = g.map(plt.hist, 'Age', bins=30).add_legend()\n"
   ]
  },
  {
   "cell_type": "markdown",
   "metadata": {},
   "source": [
    "### Feature Engineering - create Child and Mother feature"
   ]
  },
  {
   "cell_type": "code",
   "execution_count": 27,
   "metadata": {
    "scrolled": true
   },
   "outputs": [
    {
     "data": {
      "text/plain": [
       "Adult    755\n",
       "Child    136\n",
       "Name: Child, dtype: int64"
      ]
     },
     "execution_count": 27,
     "metadata": {},
     "output_type": "execute_result"
    }
   ],
   "source": [
    "# create new feature for Child - person under age 18\n",
    "\n",
    "train['Child'] = np.where(train['Age'] < 18, 'Child', 'Adult')\n",
    "train['Child'].value_counts()"
   ]
  },
  {
   "cell_type": "code",
   "execution_count": 28,
   "metadata": {},
   "outputs": [
    {
     "data": {
      "text/plain": [
       "Child  Survived\n",
       "Adult  0           481\n",
       "       1           274\n",
       "Child  0            68\n",
       "       1            68\n",
       "Name: PassengerId, dtype: int64"
      ]
     },
     "execution_count": 28,
     "metadata": {},
     "output_type": "execute_result"
    }
   ],
   "source": [
    "train.groupby(['Child', 'Survived']).count().iloc[:,0]"
   ]
  },
  {
   "cell_type": "code",
   "execution_count": 29,
   "metadata": {},
   "outputs": [
    {
     "data": {
      "text/plain": [
       "Not Mother    836\n",
       "Mother         55\n",
       "Name: Mother, dtype: int64"
      ]
     },
     "execution_count": 29,
     "metadata": {},
     "output_type": "execute_result"
    }
   ],
   "source": [
    "# create new feature for Mother\n",
    "# 1) female, \n",
    "# 2) over 18, \n",
    "# 3) has more than 0 children,\n",
    "# 4) does not have the title ‘Miss’\n",
    "\n",
    "train['Mother'] = np.where(\n",
    "    (train['Sex'] == 'female') & (train['Age'] > 18) \n",
    "    & (train['Parch'] > 0) & (train['Name'] != 'Miss.'),\n",
    "    'Mother', 'Not Mother')\n",
    "train['Mother'].value_counts()"
   ]
  },
  {
   "cell_type": "code",
   "execution_count": 30,
   "metadata": {},
   "outputs": [
    {
     "data": {
      "text/plain": [
       "Mother      Survived\n",
       "Mother      0            16\n",
       "            1            39\n",
       "Not Mother  0           533\n",
       "            1           303\n",
       "Name: PassengerId, dtype: int64"
      ]
     },
     "execution_count": 30,
     "metadata": {},
     "output_type": "execute_result"
    }
   ],
   "source": [
    "train.groupby(['Mother', 'Survived']).count().iloc[:,0]"
   ]
  },
  {
   "cell_type": "markdown",
   "metadata": {},
   "source": [
    "## Converting Categorical Features \n",
    "\n",
    "We'll need to convert categorical features to dummy variables using pandas! Otherwise our machine learning algorithm won't be able to directly take in those features as inputs."
   ]
  },
  {
   "cell_type": "code",
   "execution_count": 29,
   "metadata": {
    "scrolled": false
   },
   "outputs": [
    {
     "name": "stdout",
     "output_type": "stream",
     "text": [
      "<class 'pandas.core.frame.DataFrame'>\n",
      "RangeIndex: 891 entries, 0 to 890\n",
      "Data columns (total 16 columns):\n",
      " #   Column       Non-Null Count  Dtype  \n",
      "---  ------       --------------  -----  \n",
      " 0   PassengerId  891 non-null    int64  \n",
      " 1   Survived     891 non-null    int64  \n",
      " 2   Pclass       891 non-null    int64  \n",
      " 3   Name         891 non-null    object \n",
      " 4   Sex          891 non-null    object \n",
      " 5   Age          891 non-null    float64\n",
      " 6   SibSp        891 non-null    int64  \n",
      " 7   Parch        891 non-null    int64  \n",
      " 8   Ticket       891 non-null    object \n",
      " 9   Fare         891 non-null    float64\n",
      " 10  Cabin        891 non-null    object \n",
      " 11  Embarked     891 non-null    object \n",
      " 12  Famsize      891 non-null    int64  \n",
      " 13  Famsize_grp  891 non-null    object \n",
      " 14  Child        891 non-null    object \n",
      " 15  Mother       891 non-null    object \n",
      "dtypes: float64(2), int64(6), object(8)\n",
      "memory usage: 111.5+ KB\n"
     ]
    }
   ],
   "source": [
    "train.info()"
   ]
  },
  {
   "cell_type": "code",
   "execution_count": 31,
   "metadata": {
    "scrolled": true
   },
   "outputs": [
    {
     "data": {
      "text/html": [
       "<div>\n",
       "<style scoped>\n",
       "    .dataframe tbody tr th:only-of-type {\n",
       "        vertical-align: middle;\n",
       "    }\n",
       "\n",
       "    .dataframe tbody tr th {\n",
       "        vertical-align: top;\n",
       "    }\n",
       "\n",
       "    .dataframe thead th {\n",
       "        text-align: right;\n",
       "    }\n",
       "</style>\n",
       "<table border=\"1\" class=\"dataframe\">\n",
       "  <thead>\n",
       "    <tr style=\"text-align: right;\">\n",
       "      <th></th>\n",
       "      <th>Survived</th>\n",
       "      <th>Pclass</th>\n",
       "      <th>Age</th>\n",
       "      <th>Fare</th>\n",
       "      <th>Name_Miss.</th>\n",
       "      <th>Name_Mr.</th>\n",
       "      <th>Name_Mrs.</th>\n",
       "      <th>Name_Rare_title</th>\n",
       "      <th>Sex_male</th>\n",
       "      <th>Embarked_Q</th>\n",
       "      <th>Embarked_S</th>\n",
       "      <th>Cabin_nonCabin</th>\n",
       "      <th>Famsize_grp_singleton</th>\n",
       "      <th>Famsize_grp_small</th>\n",
       "    </tr>\n",
       "  </thead>\n",
       "  <tbody>\n",
       "    <tr>\n",
       "      <th>0</th>\n",
       "      <td>0</td>\n",
       "      <td>3</td>\n",
       "      <td>22.0</td>\n",
       "      <td>7.2500</td>\n",
       "      <td>0</td>\n",
       "      <td>1</td>\n",
       "      <td>0</td>\n",
       "      <td>0</td>\n",
       "      <td>1</td>\n",
       "      <td>0</td>\n",
       "      <td>1</td>\n",
       "      <td>1</td>\n",
       "      <td>0</td>\n",
       "      <td>1</td>\n",
       "    </tr>\n",
       "    <tr>\n",
       "      <th>1</th>\n",
       "      <td>1</td>\n",
       "      <td>1</td>\n",
       "      <td>38.0</td>\n",
       "      <td>71.2833</td>\n",
       "      <td>0</td>\n",
       "      <td>0</td>\n",
       "      <td>1</td>\n",
       "      <td>0</td>\n",
       "      <td>0</td>\n",
       "      <td>0</td>\n",
       "      <td>0</td>\n",
       "      <td>0</td>\n",
       "      <td>0</td>\n",
       "      <td>1</td>\n",
       "    </tr>\n",
       "    <tr>\n",
       "      <th>2</th>\n",
       "      <td>1</td>\n",
       "      <td>3</td>\n",
       "      <td>26.0</td>\n",
       "      <td>7.9250</td>\n",
       "      <td>1</td>\n",
       "      <td>0</td>\n",
       "      <td>0</td>\n",
       "      <td>0</td>\n",
       "      <td>0</td>\n",
       "      <td>0</td>\n",
       "      <td>1</td>\n",
       "      <td>1</td>\n",
       "      <td>1</td>\n",
       "      <td>0</td>\n",
       "    </tr>\n",
       "    <tr>\n",
       "      <th>3</th>\n",
       "      <td>1</td>\n",
       "      <td>1</td>\n",
       "      <td>35.0</td>\n",
       "      <td>53.1000</td>\n",
       "      <td>0</td>\n",
       "      <td>0</td>\n",
       "      <td>1</td>\n",
       "      <td>0</td>\n",
       "      <td>0</td>\n",
       "      <td>0</td>\n",
       "      <td>1</td>\n",
       "      <td>0</td>\n",
       "      <td>0</td>\n",
       "      <td>1</td>\n",
       "    </tr>\n",
       "    <tr>\n",
       "      <th>4</th>\n",
       "      <td>0</td>\n",
       "      <td>3</td>\n",
       "      <td>35.0</td>\n",
       "      <td>8.0500</td>\n",
       "      <td>0</td>\n",
       "      <td>1</td>\n",
       "      <td>0</td>\n",
       "      <td>0</td>\n",
       "      <td>1</td>\n",
       "      <td>0</td>\n",
       "      <td>1</td>\n",
       "      <td>1</td>\n",
       "      <td>1</td>\n",
       "      <td>0</td>\n",
       "    </tr>\n",
       "  </tbody>\n",
       "</table>\n",
       "</div>"
      ],
      "text/plain": [
       "   Survived  Pclass   Age     Fare  Name_Miss.  Name_Mr.  Name_Mrs.  \\\n",
       "0         0       3  22.0   7.2500           0         1          0   \n",
       "1         1       1  38.0  71.2833           0         0          1   \n",
       "2         1       3  26.0   7.9250           1         0          0   \n",
       "3         1       1  35.0  53.1000           0         0          1   \n",
       "4         0       3  35.0   8.0500           0         1          0   \n",
       "\n",
       "   Name_Rare_title  Sex_male  Embarked_Q  Embarked_S  Cabin_nonCabin  \\\n",
       "0                0         1           0           1               1   \n",
       "1                0         0           0           0               0   \n",
       "2                0         0           0           1               1   \n",
       "3                0         0           0           1               0   \n",
       "4                0         1           0           1               1   \n",
       "\n",
       "   Famsize_grp_singleton  Famsize_grp_small  \n",
       "0                      0                  1  \n",
       "1                      0                  1  \n",
       "2                      1                  0  \n",
       "3                      0                  1  \n",
       "4                      1                  0  "
      ]
     },
     "execution_count": 31,
     "metadata": {},
     "output_type": "execute_result"
    }
   ],
   "source": [
    "logistic_df = pd.get_dummies(train,\n",
    "    columns=['Name','Sex','Embarked','Cabin','Famsize_grp'], drop_first=True)\n",
    "logistic_df.drop(['PassengerId','Ticket','Famsize','SibSp','Parch'\n",
    "                               ,'Child','Mother'], axis=1, inplace=True)\n",
    "logistic_df.head()\n"
   ]
  },
  {
   "cell_type": "markdown",
   "metadata": {},
   "source": [
    "Great! Our data is ready for our model!\n",
    "\n",
    "# Building a Logistic Regression model\n",
    "\n",
    "Let's start by splitting our data into a training set and test set\n",
    "\n",
    "## Train Test Split"
   ]
  },
  {
   "cell_type": "code",
   "execution_count": 32,
   "metadata": {},
   "outputs": [],
   "source": [
    "from sklearn.model_selection import train_test_split\n",
    "X_train, X_test, y_train, y_test = train_test_split(logistic_df.drop('Survived',axis=1), \n",
    "                                                    logistic_df['Survived'], test_size=0.3, \n",
    "                                                    random_state=122,\n",
    "                                                    stratify=logistic_df['Survived'])"
   ]
  },
  {
   "cell_type": "markdown",
   "metadata": {},
   "source": [
    "## Training and Predicting"
   ]
  },
  {
   "cell_type": "code",
   "execution_count": 33,
   "metadata": {},
   "outputs": [],
   "source": [
    "from sklearn.linear_model import LogisticRegression"
   ]
  },
  {
   "cell_type": "code",
   "execution_count": 34,
   "metadata": {
    "scrolled": false
   },
   "outputs": [
    {
     "data": {
      "text/plain": [
       "LogisticRegression(max_iter=500)"
      ]
     },
     "execution_count": 34,
     "metadata": {},
     "output_type": "execute_result"
    }
   ],
   "source": [
    "logmodel = LogisticRegression(max_iter=500)\n",
    "logmodel.fit(X_train,y_train)"
   ]
  },
  {
   "cell_type": "code",
   "execution_count": 35,
   "metadata": {},
   "outputs": [],
   "source": [
    "predictions = logmodel.predict(X_test)"
   ]
  },
  {
   "cell_type": "markdown",
   "metadata": {},
   "source": [
    "Let's move on to evaluate our model!"
   ]
  },
  {
   "cell_type": "markdown",
   "metadata": {},
   "source": [
    "## Evaluation"
   ]
  },
  {
   "cell_type": "code",
   "execution_count": 36,
   "metadata": {
    "scrolled": true
   },
   "outputs": [
    {
     "data": {
      "text/html": [
       "<div>\n",
       "<style scoped>\n",
       "    .dataframe tbody tr th:only-of-type {\n",
       "        vertical-align: middle;\n",
       "    }\n",
       "\n",
       "    .dataframe tbody tr th {\n",
       "        vertical-align: top;\n",
       "    }\n",
       "\n",
       "    .dataframe thead th {\n",
       "        text-align: right;\n",
       "    }\n",
       "</style>\n",
       "<table border=\"1\" class=\"dataframe\">\n",
       "  <thead>\n",
       "    <tr style=\"text-align: right;\">\n",
       "      <th></th>\n",
       "      <th>Predict F</th>\n",
       "      <th>Predict T</th>\n",
       "    </tr>\n",
       "  </thead>\n",
       "  <tbody>\n",
       "    <tr>\n",
       "      <th>Actual F</th>\n",
       "      <td>146</td>\n",
       "      <td>19</td>\n",
       "    </tr>\n",
       "    <tr>\n",
       "      <th>Actual T</th>\n",
       "      <td>19</td>\n",
       "      <td>84</td>\n",
       "    </tr>\n",
       "  </tbody>\n",
       "</table>\n",
       "</div>"
      ],
      "text/plain": [
       "          Predict F  Predict T\n",
       "Actual F        146         19\n",
       "Actual T         19         84"
      ]
     },
     "execution_count": 36,
     "metadata": {},
     "output_type": "execute_result"
    }
   ],
   "source": [
    "from sklearn.metrics import confusion_matrix\n",
    "pd.DataFrame(confusion_matrix(y_test, predictions), \n",
    "             index=['Actual F', 'Actual T'], \n",
    "             columns=['Predict F', 'Predict T'])"
   ]
  },
  {
   "cell_type": "code",
   "execution_count": 37,
   "metadata": {
    "scrolled": false
   },
   "outputs": [
    {
     "name": "stdout",
     "output_type": "stream",
     "text": [
      "              precision    recall  f1-score   support\n",
      "\n",
      "           0       0.88      0.88      0.88       165\n",
      "           1       0.82      0.82      0.82       103\n",
      "\n",
      "    accuracy                           0.86       268\n",
      "   macro avg       0.85      0.85      0.85       268\n",
      "weighted avg       0.86      0.86      0.86       268\n",
      "\n"
     ]
    }
   ],
   "source": [
    "from sklearn.metrics import classification_report\n",
    "print(classification_report(y_test,predictions))"
   ]
  },
  {
   "cell_type": "code",
   "execution_count": 38,
   "metadata": {},
   "outputs": [
    {
     "data": {
      "text/plain": [
       "array([2.01974699])"
      ]
     },
     "execution_count": 38,
     "metadata": {},
     "output_type": "execute_result"
    }
   ],
   "source": [
    "logmodel.intercept_"
   ]
  },
  {
   "cell_type": "code",
   "execution_count": 39,
   "metadata": {
    "scrolled": false
   },
   "outputs": [
    {
     "data": {
      "text/html": [
       "<div>\n",
       "<style scoped>\n",
       "    .dataframe tbody tr th:only-of-type {\n",
       "        vertical-align: middle;\n",
       "    }\n",
       "\n",
       "    .dataframe tbody tr th {\n",
       "        vertical-align: top;\n",
       "    }\n",
       "\n",
       "    .dataframe thead th {\n",
       "        text-align: right;\n",
       "    }\n",
       "</style>\n",
       "<table border=\"1\" class=\"dataframe\">\n",
       "  <thead>\n",
       "    <tr style=\"text-align: right;\">\n",
       "      <th></th>\n",
       "      <th>Coeff</th>\n",
       "    </tr>\n",
       "  </thead>\n",
       "  <tbody>\n",
       "    <tr>\n",
       "      <th>Famsize_grp_singleton</th>\n",
       "      <td>2.055729</td>\n",
       "    </tr>\n",
       "    <tr>\n",
       "      <th>Famsize_grp_small</th>\n",
       "      <td>1.757864</td>\n",
       "    </tr>\n",
       "    <tr>\n",
       "      <th>Name_Mrs.</th>\n",
       "      <td>0.522790</td>\n",
       "    </tr>\n",
       "    <tr>\n",
       "      <th>Embarked_Q</th>\n",
       "      <td>0.225939</td>\n",
       "    </tr>\n",
       "    <tr>\n",
       "      <th>Fare</th>\n",
       "      <td>0.002615</td>\n",
       "    </tr>\n",
       "    <tr>\n",
       "      <th>Age</th>\n",
       "      <td>-0.022710</td>\n",
       "    </tr>\n",
       "    <tr>\n",
       "      <th>Name_Miss.</th>\n",
       "      <td>-0.228485</td>\n",
       "    </tr>\n",
       "    <tr>\n",
       "      <th>Embarked_S</th>\n",
       "      <td>-0.248572</td>\n",
       "    </tr>\n",
       "    <tr>\n",
       "      <th>Cabin_nonCabin</th>\n",
       "      <td>-0.532445</td>\n",
       "    </tr>\n",
       "    <tr>\n",
       "      <th>Pclass</th>\n",
       "      <td>-0.728855</td>\n",
       "    </tr>\n",
       "    <tr>\n",
       "      <th>Sex_male</th>\n",
       "      <td>-0.808033</td>\n",
       "    </tr>\n",
       "    <tr>\n",
       "      <th>Name_Rare_title</th>\n",
       "      <td>-1.194220</td>\n",
       "    </tr>\n",
       "    <tr>\n",
       "      <th>Name_Mr.</th>\n",
       "      <td>-1.847494</td>\n",
       "    </tr>\n",
       "  </tbody>\n",
       "</table>\n",
       "</div>"
      ],
      "text/plain": [
       "                          Coeff\n",
       "Famsize_grp_singleton  2.055729\n",
       "Famsize_grp_small      1.757864\n",
       "Name_Mrs.              0.522790\n",
       "Embarked_Q             0.225939\n",
       "Fare                   0.002615\n",
       "Age                   -0.022710\n",
       "Name_Miss.            -0.228485\n",
       "Embarked_S            -0.248572\n",
       "Cabin_nonCabin        -0.532445\n",
       "Pclass                -0.728855\n",
       "Sex_male              -0.808033\n",
       "Name_Rare_title       -1.194220\n",
       "Name_Mr.              -1.847494"
      ]
     },
     "execution_count": 39,
     "metadata": {},
     "output_type": "execute_result"
    }
   ],
   "source": [
    "# display the coeff of each parameter to understand their impact to the\n",
    "# survived prediction\n",
    "\n",
    "coeff = pd.DataFrame(logmodel.coef_.T, index=X_train.columns, columns=['Coeff'])\n",
    "coeff.sort_values(by='Coeff', ascending=False, axis=0)"
   ]
  },
  {
   "cell_type": "markdown",
   "metadata": {},
   "source": [
    "# XGBoost"
   ]
  },
  {
   "cell_type": "markdown",
   "metadata": {},
   "source": [
    "### Need to convert categorical features to dummy variables for XGBoost"
   ]
  },
  {
   "cell_type": "code",
   "execution_count": 40,
   "metadata": {
    "scrolled": false
   },
   "outputs": [
    {
     "data": {
      "text/html": [
       "<div>\n",
       "<style scoped>\n",
       "    .dataframe tbody tr th:only-of-type {\n",
       "        vertical-align: middle;\n",
       "    }\n",
       "\n",
       "    .dataframe tbody tr th {\n",
       "        vertical-align: top;\n",
       "    }\n",
       "\n",
       "    .dataframe thead th {\n",
       "        text-align: right;\n",
       "    }\n",
       "</style>\n",
       "<table border=\"1\" class=\"dataframe\">\n",
       "  <thead>\n",
       "    <tr style=\"text-align: right;\">\n",
       "      <th></th>\n",
       "      <th>PassengerId</th>\n",
       "      <th>Survived</th>\n",
       "      <th>Pclass</th>\n",
       "      <th>Name</th>\n",
       "      <th>Sex</th>\n",
       "      <th>Age</th>\n",
       "      <th>SibSp</th>\n",
       "      <th>Parch</th>\n",
       "      <th>Ticket</th>\n",
       "      <th>Fare</th>\n",
       "      <th>Cabin</th>\n",
       "      <th>Embarked</th>\n",
       "      <th>Famsize</th>\n",
       "      <th>Famsize_grp</th>\n",
       "      <th>Child</th>\n",
       "      <th>Mother</th>\n",
       "    </tr>\n",
       "  </thead>\n",
       "  <tbody>\n",
       "    <tr>\n",
       "      <th>0</th>\n",
       "      <td>1</td>\n",
       "      <td>0</td>\n",
       "      <td>3</td>\n",
       "      <td>Mr.</td>\n",
       "      <td>male</td>\n",
       "      <td>22.0</td>\n",
       "      <td>1</td>\n",
       "      <td>0</td>\n",
       "      <td>A/5 21171</td>\n",
       "      <td>7.2500</td>\n",
       "      <td>nonCabin</td>\n",
       "      <td>S</td>\n",
       "      <td>2</td>\n",
       "      <td>small</td>\n",
       "      <td>Adult</td>\n",
       "      <td>Not Mother</td>\n",
       "    </tr>\n",
       "    <tr>\n",
       "      <th>1</th>\n",
       "      <td>2</td>\n",
       "      <td>1</td>\n",
       "      <td>1</td>\n",
       "      <td>Mrs.</td>\n",
       "      <td>female</td>\n",
       "      <td>38.0</td>\n",
       "      <td>1</td>\n",
       "      <td>0</td>\n",
       "      <td>PC 17599</td>\n",
       "      <td>71.2833</td>\n",
       "      <td>hasCabin</td>\n",
       "      <td>C</td>\n",
       "      <td>2</td>\n",
       "      <td>small</td>\n",
       "      <td>Adult</td>\n",
       "      <td>Not Mother</td>\n",
       "    </tr>\n",
       "    <tr>\n",
       "      <th>2</th>\n",
       "      <td>3</td>\n",
       "      <td>1</td>\n",
       "      <td>3</td>\n",
       "      <td>Miss.</td>\n",
       "      <td>female</td>\n",
       "      <td>26.0</td>\n",
       "      <td>0</td>\n",
       "      <td>0</td>\n",
       "      <td>STON/O2. 3101282</td>\n",
       "      <td>7.9250</td>\n",
       "      <td>nonCabin</td>\n",
       "      <td>S</td>\n",
       "      <td>1</td>\n",
       "      <td>singleton</td>\n",
       "      <td>Adult</td>\n",
       "      <td>Not Mother</td>\n",
       "    </tr>\n",
       "    <tr>\n",
       "      <th>3</th>\n",
       "      <td>4</td>\n",
       "      <td>1</td>\n",
       "      <td>1</td>\n",
       "      <td>Mrs.</td>\n",
       "      <td>female</td>\n",
       "      <td>35.0</td>\n",
       "      <td>1</td>\n",
       "      <td>0</td>\n",
       "      <td>113803</td>\n",
       "      <td>53.1000</td>\n",
       "      <td>hasCabin</td>\n",
       "      <td>S</td>\n",
       "      <td>2</td>\n",
       "      <td>small</td>\n",
       "      <td>Adult</td>\n",
       "      <td>Not Mother</td>\n",
       "    </tr>\n",
       "    <tr>\n",
       "      <th>4</th>\n",
       "      <td>5</td>\n",
       "      <td>0</td>\n",
       "      <td>3</td>\n",
       "      <td>Mr.</td>\n",
       "      <td>male</td>\n",
       "      <td>35.0</td>\n",
       "      <td>0</td>\n",
       "      <td>0</td>\n",
       "      <td>373450</td>\n",
       "      <td>8.0500</td>\n",
       "      <td>nonCabin</td>\n",
       "      <td>S</td>\n",
       "      <td>1</td>\n",
       "      <td>singleton</td>\n",
       "      <td>Adult</td>\n",
       "      <td>Not Mother</td>\n",
       "    </tr>\n",
       "  </tbody>\n",
       "</table>\n",
       "</div>"
      ],
      "text/plain": [
       "   PassengerId  Survived  Pclass   Name     Sex   Age  SibSp  Parch  \\\n",
       "0            1         0       3    Mr.    male  22.0      1      0   \n",
       "1            2         1       1   Mrs.  female  38.0      1      0   \n",
       "2            3         1       3  Miss.  female  26.0      0      0   \n",
       "3            4         1       1   Mrs.  female  35.0      1      0   \n",
       "4            5         0       3    Mr.    male  35.0      0      0   \n",
       "\n",
       "             Ticket     Fare     Cabin Embarked  Famsize Famsize_grp  Child  \\\n",
       "0         A/5 21171   7.2500  nonCabin        S        2       small  Adult   \n",
       "1          PC 17599  71.2833  hasCabin        C        2       small  Adult   \n",
       "2  STON/O2. 3101282   7.9250  nonCabin        S        1   singleton  Adult   \n",
       "3            113803  53.1000  hasCabin        S        2       small  Adult   \n",
       "4            373450   8.0500  nonCabin        S        1   singleton  Adult   \n",
       "\n",
       "       Mother  \n",
       "0  Not Mother  \n",
       "1  Not Mother  \n",
       "2  Not Mother  \n",
       "3  Not Mother  \n",
       "4  Not Mother  "
      ]
     },
     "execution_count": 40,
     "metadata": {},
     "output_type": "execute_result"
    }
   ],
   "source": [
    "train.head()"
   ]
  },
  {
   "cell_type": "code",
   "execution_count": 41,
   "metadata": {},
   "outputs": [
    {
     "data": {
      "text/html": [
       "<div>\n",
       "<style scoped>\n",
       "    .dataframe tbody tr th:only-of-type {\n",
       "        vertical-align: middle;\n",
       "    }\n",
       "\n",
       "    .dataframe tbody tr th {\n",
       "        vertical-align: top;\n",
       "    }\n",
       "\n",
       "    .dataframe thead th {\n",
       "        text-align: right;\n",
       "    }\n",
       "</style>\n",
       "<table border=\"1\" class=\"dataframe\">\n",
       "  <thead>\n",
       "    <tr style=\"text-align: right;\">\n",
       "      <th></th>\n",
       "      <th>Survived</th>\n",
       "      <th>Pclass</th>\n",
       "      <th>Age</th>\n",
       "      <th>Fare</th>\n",
       "      <th>Famsize</th>\n",
       "      <th>Name_Miss.</th>\n",
       "      <th>Name_Mr.</th>\n",
       "      <th>Name_Mrs.</th>\n",
       "      <th>Name_Rare_title</th>\n",
       "      <th>Embarked_Q</th>\n",
       "      <th>Embarked_S</th>\n",
       "      <th>Sex_male</th>\n",
       "      <th>Cabin_nonCabin</th>\n",
       "    </tr>\n",
       "  </thead>\n",
       "  <tbody>\n",
       "    <tr>\n",
       "      <th>0</th>\n",
       "      <td>0</td>\n",
       "      <td>3</td>\n",
       "      <td>22.0</td>\n",
       "      <td>7.2500</td>\n",
       "      <td>2</td>\n",
       "      <td>0</td>\n",
       "      <td>1</td>\n",
       "      <td>0</td>\n",
       "      <td>0</td>\n",
       "      <td>0</td>\n",
       "      <td>1</td>\n",
       "      <td>1</td>\n",
       "      <td>1</td>\n",
       "    </tr>\n",
       "    <tr>\n",
       "      <th>1</th>\n",
       "      <td>1</td>\n",
       "      <td>1</td>\n",
       "      <td>38.0</td>\n",
       "      <td>71.2833</td>\n",
       "      <td>2</td>\n",
       "      <td>0</td>\n",
       "      <td>0</td>\n",
       "      <td>1</td>\n",
       "      <td>0</td>\n",
       "      <td>0</td>\n",
       "      <td>0</td>\n",
       "      <td>0</td>\n",
       "      <td>0</td>\n",
       "    </tr>\n",
       "    <tr>\n",
       "      <th>2</th>\n",
       "      <td>1</td>\n",
       "      <td>3</td>\n",
       "      <td>26.0</td>\n",
       "      <td>7.9250</td>\n",
       "      <td>1</td>\n",
       "      <td>1</td>\n",
       "      <td>0</td>\n",
       "      <td>0</td>\n",
       "      <td>0</td>\n",
       "      <td>0</td>\n",
       "      <td>1</td>\n",
       "      <td>0</td>\n",
       "      <td>1</td>\n",
       "    </tr>\n",
       "    <tr>\n",
       "      <th>3</th>\n",
       "      <td>1</td>\n",
       "      <td>1</td>\n",
       "      <td>35.0</td>\n",
       "      <td>53.1000</td>\n",
       "      <td>2</td>\n",
       "      <td>0</td>\n",
       "      <td>0</td>\n",
       "      <td>1</td>\n",
       "      <td>0</td>\n",
       "      <td>0</td>\n",
       "      <td>1</td>\n",
       "      <td>0</td>\n",
       "      <td>0</td>\n",
       "    </tr>\n",
       "    <tr>\n",
       "      <th>4</th>\n",
       "      <td>0</td>\n",
       "      <td>3</td>\n",
       "      <td>35.0</td>\n",
       "      <td>8.0500</td>\n",
       "      <td>1</td>\n",
       "      <td>0</td>\n",
       "      <td>1</td>\n",
       "      <td>0</td>\n",
       "      <td>0</td>\n",
       "      <td>0</td>\n",
       "      <td>1</td>\n",
       "      <td>1</td>\n",
       "      <td>1</td>\n",
       "    </tr>\n",
       "  </tbody>\n",
       "</table>\n",
       "</div>"
      ],
      "text/plain": [
       "   Survived  Pclass   Age     Fare  Famsize  Name_Miss.  Name_Mr.  Name_Mrs.  \\\n",
       "0         0       3  22.0   7.2500        2           0         1          0   \n",
       "1         1       1  38.0  71.2833        2           0         0          1   \n",
       "2         1       3  26.0   7.9250        1           1         0          0   \n",
       "3         1       1  35.0  53.1000        2           0         0          1   \n",
       "4         0       3  35.0   8.0500        1           0         1          0   \n",
       "\n",
       "   Name_Rare_title  Embarked_Q  Embarked_S  Sex_male  Cabin_nonCabin  \n",
       "0                0           0           1         1               1  \n",
       "1                0           0           0         0               0  \n",
       "2                0           0           1         0               1  \n",
       "3                0           0           1         0               0  \n",
       "4                0           0           1         1               1  "
      ]
     },
     "execution_count": 41,
     "metadata": {},
     "output_type": "execute_result"
    }
   ],
   "source": [
    "# convert categorical features to dummy variables and drop unwanted features\n",
    "\n",
    "titanic_xgboost_ready_df = pd.get_dummies(train,\n",
    "    columns=['Name','Embarked','Sex','Cabin'], drop_first=True)\n",
    "titanic_xgboost_ready_df.drop(['PassengerId','Ticket','SibSp','Parch','Famsize_grp'\n",
    "                               ,'Child','Mother'], axis=1, inplace=True)\n",
    "titanic_xgboost_ready_df.head()\n"
   ]
  },
  {
   "cell_type": "markdown",
   "metadata": {},
   "source": [
    "## RandomizedSearchCV with XGBClassifier"
   ]
  },
  {
   "cell_type": "code",
   "execution_count": 144,
   "metadata": {},
   "outputs": [],
   "source": [
    "from sklearn.model_selection import train_test_split\n",
    "\n",
    "features = [feat for feat in list(titanic_xgboost_ready_df) if feat != 'Survived']\n",
    "X_train, X_test, y_train, y_test = train_test_split(titanic_xgboost_ready_df[features],\n",
    "                                                titanic_xgboost_ready_df['Survived'],\n",
    "                                                test_size=0.3,\n",
    "                                                random_state=122,\n",
    "                                                stratify=titanic_xgboost_ready_df['Survived'])\n"
   ]
  },
  {
   "cell_type": "code",
   "execution_count": 63,
   "metadata": {
    "scrolled": false
   },
   "outputs": [
    {
     "name": "stdout",
     "output_type": "stream",
     "text": [
      "Fitting 5 folds for each of 200 candidates, totalling 1000 fits\n"
     ]
    },
    {
     "name": "stderr",
     "output_type": "stream",
     "text": [
      "[Parallel(n_jobs=-1)]: Using backend LokyBackend with 8 concurrent workers.\n",
      "[Parallel(n_jobs=-1)]: Done  34 tasks      | elapsed:    1.3s\n",
      "[Parallel(n_jobs=-1)]: Done 184 tasks      | elapsed:    6.0s\n",
      "[Parallel(n_jobs=-1)]: Done 434 tasks      | elapsed:   14.2s\n",
      "[Parallel(n_jobs=-1)]: Done 784 tasks      | elapsed:   25.4s\n",
      "[Parallel(n_jobs=-1)]: Done 1000 out of 1000 | elapsed:   32.6s finished\n"
     ]
    },
    {
     "data": {
      "text/plain": [
       "RandomizedSearchCV(cv=StratifiedKFold(n_splits=5, random_state=1, shuffle=True),\n",
       "                   estimator=XGBClassifier(base_score=None, booster=None,\n",
       "                                           colsample_bylevel=None,\n",
       "                                           colsample_bynode=None,\n",
       "                                           colsample_bytree=None, gamma=None,\n",
       "                                           gpu_id=None, importance_type='gain',\n",
       "                                           interaction_constraints=None,\n",
       "                                           learning_rate=None,\n",
       "                                           max_delta_step=None, max_depth=None,\n",
       "                                           min_child_weight=None, m...\n",
       "                                        'n_estimators': array([100, 120, 140, 160, 180, 200, 220, 240, 260, 280, 300, 320, 340,\n",
       "       360, 380, 400, 420, 440, 460, 480, 500, 520, 540, 560]),\n",
       "                                        'random_state': range(100, 201),\n",
       "                                        'reg_lambda': array([0.5, 0.6, 0.7, 0.8, 0.9, 1. ]),\n",
       "                                        'subsample': array([0.7 , 0.71, 0.72, 0.73, 0.74, 0.75, 0.76, 0.77, 0.78, 0.79, 0.8 ,\n",
       "       0.81, 0.82, 0.83, 0.84, 0.85, 0.86, 0.87, 0.88, 0.89, 0.9 , 0.91,\n",
       "       0.92, 0.93, 0.94, 0.95, 0.96, 0.97, 0.98, 0.99, 1.  ])},\n",
       "                   scoring='accuracy', verbose=1)"
      ]
     },
     "execution_count": 63,
     "metadata": {},
     "output_type": "execute_result"
    }
   ],
   "source": [
    "from xgboost import XGBClassifier\n",
    "from sklearn.model_selection import GridSearchCV, RandomizedSearchCV\n",
    "from sklearn.model_selection import StratifiedKFold\n",
    "\n",
    "model = XGBClassifier()\n",
    "kfold = StratifiedKFold(n_splits=5, shuffle=True, random_state=1)\n",
    "\n",
    "# set the randomised search space for hyperparameters\n",
    "\n",
    "n_estimators = np.arange(100, 561, 20)\n",
    "learning_rate = [0.01, 0.03, 0.1, 0.2, 0.3]\n",
    "max_depth = np.arange(3, 10, 2)\n",
    "min_child_weight = [1, 3, 5, 7]\n",
    "subsample = np.arange(0.7, 1.001, 0.01)\n",
    "colsample_bytree = np.arange(0.7, 1.001, 0.01)\n",
    "reg_lambda = np.arange(0.5, 1.001, 0.1)\n",
    "random_state = range(100, 201)\n",
    "\n",
    "param_grid = dict(n_estimators=n_estimators, max_depth=max_depth,\n",
    "                 learning_rate=learning_rate,\n",
    "                 min_child_weight=min_child_weight,\n",
    "                 subsample=subsample,\n",
    "                 colsample_bytree=colsample_bytree,\n",
    "                 reg_lambda=reg_lambda,\n",
    "                 random_state=random_state)  \n",
    "\n",
    "# randomly sample 200 hyperparameter sets from the search space and \n",
    "# train the XGBClassifier\n",
    "\n",
    "random_search = RandomizedSearchCV(model, param_grid, cv=kfold, n_jobs=-1,\n",
    "                                  scoring='accuracy', n_iter=200,\n",
    "                                  verbose=1)\n",
    "random_search.fit(X_train, y_train)\n"
   ]
  },
  {
   "cell_type": "code",
   "execution_count": 64,
   "metadata": {
    "scrolled": true
   },
   "outputs": [
    {
     "data": {
      "text/plain": [
       "{'subsample': 0.8800000000000001,\n",
       " 'reg_lambda': 0.6,\n",
       " 'random_state': 146,\n",
       " 'n_estimators': 200,\n",
       " 'min_child_weight': 7,\n",
       " 'max_depth': 7,\n",
       " 'learning_rate': 0.1,\n",
       " 'colsample_bytree': 0.81}"
      ]
     },
     "execution_count": 64,
     "metadata": {},
     "output_type": "execute_result"
    }
   ],
   "source": [
    "randparam = random_search.best_params_\n",
    "randparam     # check out the best hyperparam set from randomised search"
   ]
  },
  {
   "cell_type": "code",
   "execution_count": 65,
   "metadata": {},
   "outputs": [
    {
     "data": {
      "text/plain": [
       "0.8217548387096774"
      ]
     },
     "execution_count": 65,
     "metadata": {},
     "output_type": "execute_result"
    }
   ],
   "source": [
    "# return the highest accuracy score with this hyperparam set\n",
    "random_search.best_score_  "
   ]
  },
  {
   "cell_type": "code",
   "execution_count": 66,
   "metadata": {
    "scrolled": true
   },
   "outputs": [
    {
     "data": {
      "text/plain": [
       "163"
      ]
     },
     "execution_count": 66,
     "metadata": {},
     "output_type": "execute_result"
    }
   ],
   "source": [
    "max_idx = random_search.cv_results_['mean_test_score'].argmax()\n",
    "max_idx"
   ]
  },
  {
   "cell_type": "code",
   "execution_count": 67,
   "metadata": {},
   "outputs": [
    {
     "name": "stdout",
     "output_type": "stream",
     "text": [
      "0.816\n",
      "0.808\n",
      "0.888\n",
      "0.8145161290322581\n",
      "0.782258064516129\n"
     ]
    }
   ],
   "source": [
    "# examine the accuracy score for 5 split folds that average to the \n",
    "# best score for the hyperparam set\n",
    "for n in range(5):\n",
    "    print(random_search.cv_results_[f'split{n}_test_score'][max_idx])    "
   ]
  },
  {
   "cell_type": "code",
   "execution_count": 68,
   "metadata": {
    "scrolled": true
   },
   "outputs": [
    {
     "data": {
      "text/plain": [
       "array([0, 1, 0, 0, 0])"
      ]
     },
     "execution_count": 68,
     "metadata": {},
     "output_type": "execute_result"
    }
   ],
   "source": [
    "pred = random_search.predict(X_test)\n",
    "pred[:5]"
   ]
  },
  {
   "cell_type": "code",
   "execution_count": 69,
   "metadata": {},
   "outputs": [
    {
     "name": "stdout",
     "output_type": "stream",
     "text": [
      "[[154  11]\n",
      " [ 15  88]]\n"
     ]
    },
    {
     "data": {
      "image/png": "[encoded data removed]",
      "text/plain": [
       "<Figure size 432x288 with 2 Axes>"
      ]
     },
     "metadata": {},
     "output_type": "display_data"
    }
   ],
   "source": [
    "from sklearn.metrics import confusion_matrix\n",
    "cm = confusion_matrix(y_test, pred)\n",
    "print(cm)\n",
    "\n",
    "plt.figure(figsize = (6,4))\n",
    "plt.ticklabel_format(style='plain', axis='y', useOffset=False)\n",
    "sns.set(font_scale=1.4)\n",
    "sns.heatmap(cm, annot=True, annot_kws={\"size\": 16}, fmt='g',cmap='Greens')\n",
    "plt.xlabel('Predict')\n",
    "plt.ylabel('Actual')\n",
    "plt.show()"
   ]
  },
  {
   "cell_type": "code",
   "execution_count": 70,
   "metadata": {
    "scrolled": true
   },
   "outputs": [
    {
     "name": "stdout",
     "output_type": "stream",
     "text": [
      "              precision    recall  f1-score   support\n",
      "\n",
      "           0       0.91      0.93      0.92       165\n",
      "           1       0.89      0.85      0.87       103\n",
      "\n",
      "    accuracy                           0.90       268\n",
      "   macro avg       0.90      0.89      0.90       268\n",
      "weighted avg       0.90      0.90      0.90       268\n",
      "\n"
     ]
    }
   ],
   "source": [
    "from sklearn.metrics import classification_report\n",
    "print(classification_report(y_test, pred))"
   ]
  },
  {
   "cell_type": "markdown",
   "metadata": {},
   "source": [
    "### Train XGBClassifier again with best params from Randomised Search"
   ]
  },
  {
   "cell_type": "code",
   "execution_count": 71,
   "metadata": {
    "scrolled": true
   },
   "outputs": [
    {
     "data": {
      "text/plain": [
       "{'subsample': 0.8800000000000001,\n",
       " 'reg_lambda': 0.6,\n",
       " 'random_state': 146,\n",
       " 'n_estimators': 200,\n",
       " 'min_child_weight': 7,\n",
       " 'max_depth': 7,\n",
       " 'learning_rate': 0.1,\n",
       " 'colsample_bytree': 0.81}"
      ]
     },
     "execution_count": 71,
     "metadata": {},
     "output_type": "execute_result"
    }
   ],
   "source": [
    "randparam"
   ]
  },
  {
   "cell_type": "code",
   "execution_count": 83,
   "metadata": {},
   "outputs": [
    {
     "data": {
      "text/plain": [
       "XGBClassifier(base_score=None, booster=None, colsample_bylevel=None,\n",
       "              colsample_bynode=None, colsample_bytree=0.81, gamma=None,\n",
       "              gpu_id=None, importance_type='gain', interaction_constraints=None,\n",
       "              learning_rate=0.1, max_delta_step=None, max_depth=7,\n",
       "              min_child_weight=7, missing=nan, monotone_constraints=None,\n",
       "              n_estimators=200, n_jobs=None, num_parallel_tree=None,\n",
       "              random_state=146, reg_alpha=None, reg_lambda=0.6,\n",
       "              scale_pos_weight=None, subsample=0.8800000000000001,\n",
       "              tree_method=None, validate_parameters=False, verbosity=None)"
      ]
     },
     "execution_count": 83,
     "metadata": {},
     "output_type": "execute_result"
    }
   ],
   "source": [
    "clf = XGBClassifier(**randparam)\n",
    "\n",
    "# clf.set_params(n_estimators=200)"
   ]
  },
  {
   "cell_type": "code",
   "execution_count": 84,
   "metadata": {
    "scrolled": false
   },
   "outputs": [
    {
     "name": "stdout",
     "output_type": "stream",
     "text": [
      "[0]\tvalidation_0-error:0.21269\n",
      "[20]\tvalidation_0-error:0.13433\n",
      "[40]\tvalidation_0-error:0.12687\n",
      "[60]\tvalidation_0-error:0.12313\n",
      "[80]\tvalidation_0-error:0.12313\n",
      "[100]\tvalidation_0-error:0.11940\n",
      "[120]\tvalidation_0-error:0.11194\n",
      "[140]\tvalidation_0-error:0.11194\n",
      "[160]\tvalidation_0-error:0.10075\n",
      "[180]\tvalidation_0-error:0.10075\n",
      "[199]\tvalidation_0-error:0.09702\n"
     ]
    },
    {
     "data": {
      "text/plain": [
       "XGBClassifier(base_score=0.5, booster=None, colsample_bylevel=1,\n",
       "              colsample_bynode=1, colsample_bytree=0.81, gamma=0, gpu_id=-1,\n",
       "              importance_type='gain', interaction_constraints=None,\n",
       "              learning_rate=0.1, max_delta_step=0, max_depth=7,\n",
       "              min_child_weight=7, missing=nan, monotone_constraints=None,\n",
       "              n_estimators=200, n_jobs=0, num_parallel_tree=1, random_state=146,\n",
       "              reg_alpha=0, reg_lambda=0.6, scale_pos_weight=1,\n",
       "              subsample=0.8800000000000001, tree_method=None,\n",
       "              validate_parameters=False, verbosity=None)"
      ]
     },
     "execution_count": 84,
     "metadata": {},
     "output_type": "execute_result"
    }
   ],
   "source": [
    "clf.fit(X_train, y_train, #early_stopping_rounds=200,\n",
    "        eval_set=[(X_test, y_test)],\n",
    "        eval_metric='error', verbose=20)"
   ]
  },
  {
   "cell_type": "code",
   "execution_count": 85,
   "metadata": {},
   "outputs": [
    {
     "data": {
      "text/plain": [
       "array([0, 1, 0, 0, 0])"
      ]
     },
     "execution_count": 85,
     "metadata": {},
     "output_type": "execute_result"
    }
   ],
   "source": [
    "pred = clf.predict(X_test)\n",
    "pred[:5]"
   ]
  },
  {
   "cell_type": "code",
   "execution_count": 86,
   "metadata": {},
   "outputs": [
    {
     "data": {
      "text/plain": [
       "0.9029850746268657"
      ]
     },
     "execution_count": 86,
     "metadata": {},
     "output_type": "execute_result"
    }
   ],
   "source": [
    "clf.score(X_test, y_test)   # return test accuracy"
   ]
  },
  {
   "cell_type": "code",
   "execution_count": 87,
   "metadata": {
    "scrolled": true
   },
   "outputs": [
    {
     "name": "stdout",
     "output_type": "stream",
     "text": [
      "[[154  11]\n",
      " [ 15  88]]\n"
     ]
    },
    {
     "data": {
      "image/png": "[encoded data removed]",
      "text/plain": [
       "<Figure size 432x288 with 2 Axes>"
      ]
     },
     "metadata": {},
     "output_type": "display_data"
    }
   ],
   "source": [
    "from sklearn.metrics import confusion_matrix\n",
    "cm = confusion_matrix(y_test, pred)\n",
    "print(cm)\n",
    "\n",
    "plt.figure(figsize = (6,4))\n",
    "plt.ticklabel_format(style='plain', axis='y', useOffset=False)\n",
    "sns.set(font_scale=1.4)\n",
    "sns.heatmap(cm, annot=True, annot_kws={\"size\": 16}, fmt='g',cmap='Greens')\n",
    "plt.xlabel('Predict')\n",
    "plt.ylabel('Actual')\n",
    "plt.show()"
   ]
  },
  {
   "cell_type": "code",
   "execution_count": 88,
   "metadata": {
    "scrolled": true
   },
   "outputs": [
    {
     "name": "stdout",
     "output_type": "stream",
     "text": [
      "              precision    recall  f1-score   support\n",
      "\n",
      "           0       0.91      0.93      0.92       165\n",
      "           1       0.89      0.85      0.87       103\n",
      "\n",
      "    accuracy                           0.90       268\n",
      "   macro avg       0.90      0.89      0.90       268\n",
      "weighted avg       0.90      0.90      0.90       268\n",
      "\n"
     ]
    }
   ],
   "source": [
    "from sklearn.metrics import classification_report\n",
    "print(classification_report(y_test, pred))"
   ]
  },
  {
   "cell_type": "code",
   "execution_count": 162,
   "metadata": {
    "scrolled": true
   },
   "outputs": [],
   "source": [
    "# save the xgboost model to a file for later retrieval \n",
    "clf.save_model('xgbmodel.model')"
   ]
  },
  {
   "cell_type": "code",
   "execution_count": 168,
   "metadata": {},
   "outputs": [],
   "source": [
    "# load a xgboost model from file and make predictions\n",
    "\n",
    "# clf_from_file = XGBClassifier()\n",
    "# clf_from_file.load_model('xgbmodel.model')\n",
    "# clf_from_file.predict(X_test)[:5]"
   ]
  },
  {
   "cell_type": "markdown",
   "metadata": {},
   "source": [
    "## Hyperopt - hyperparameter tuning with XGBClassifier"
   ]
  },
  {
   "cell_type": "code",
   "execution_count": 43,
   "metadata": {},
   "outputs": [],
   "source": [
    "from sklearn.metrics import accuracy_score\n",
    "from sklearn.model_selection import cross_val_score\n",
    "from hyperopt import STATUS_OK, Trials, fmin, hp, tpe\n",
    "\n",
    "from xgboost import XGBClassifier\n",
    "from sklearn.model_selection import GridSearchCV, RandomizedSearchCV\n",
    "from sklearn.model_selection import StratifiedKFold"
   ]
  },
  {
   "cell_type": "code",
   "execution_count": 70,
   "metadata": {},
   "outputs": [],
   "source": [
    "# Define objective function\n",
    "\n",
    "def objective_function(space):\n",
    "    clf = XGBClassifier(\n",
    "        max_depth = int(space['max_depth']),\n",
    "        gamma = space['gamma'],\n",
    "        reg_alpha = int(space['reg_alpha']),\n",
    "        reg_lambda = space['reg_lambda'],\n",
    "        colsample_bytree = space['colsample_bytree'],\n",
    "        min_child_weight = int(space['min_child_weight']),\n",
    "        learning_rate = space['learning_rate'],\n",
    "        n_estimators = int(space['n_estimators']),\n",
    "        subsample = space['subsample'],\n",
    "        random_state = int(space['random_state'])\n",
    "    )\n",
    "\n",
    "    score = cross_val_score(clf, X_train, y_train, cv=5, n_jobs=-1,\n",
    "                           scoring='accuracy').mean()\n",
    "    print(\"SCORE:\", score)\n",
    "    return {'loss': -score, 'status': STATUS_OK }"
   ]
  },
  {
   "cell_type": "code",
   "execution_count": 71,
   "metadata": {},
   "outputs": [],
   "source": [
    "# Create domain space for sampling hyperparameters\n",
    "\n",
    "space= {'max_depth': hp.quniform(\"max_depth\", 3, 15, 1),\n",
    "        'gamma': hp.uniform ('gamma', 0,5),\n",
    "        'reg_alpha' : hp.quniform('reg_alpha', 0,120,1),\n",
    "        'reg_lambda' : hp.uniform('reg_lambda', 0,1),\n",
    "        'colsample_bytree' : hp.uniform('colsample_bytree', 0.6,1),\n",
    "        'min_child_weight' : hp.quniform('min_child_weight', 0, 10, 1),\n",
    "        'learning_rate': hp.loguniform('learning_rate', np.log(0.01), np.log(0.5)),\n",
    "        'n_estimators': hp.quniform('n_estimators', 30, 501, 1),\n",
    "        'subsample' : hp.uniform('subsample', 0.6,1),\n",
    "        'random_state': hp.quniform('random_state', 100, 201, 1)\n",
    "       }"
   ]
  },
  {
   "cell_type": "code",
   "execution_count": 72,
   "metadata": {},
   "outputs": [],
   "source": [
    "trials = Trials()"
   ]
  },
  {
   "cell_type": "code",
   "execution_count": 73,
   "metadata": {
    "scrolled": true
   },
   "outputs": [
    {
     "name": "stdout",
     "output_type": "stream",
     "text": [
      "SCORE:                                                 \n",
      "0.6163741935483871                                     \n",
      "SCORE:                                                                            \n",
      "0.6163741935483871                                                                \n",
      "SCORE:                                                                            \n",
      "0.6163741935483871                                                                \n",
      "SCORE:                                                                            \n",
      "0.6163741935483871                                                                \n",
      "SCORE:                                                                            \n",
      "0.7929935483870969                                                                \n",
      "SCORE:                                                                            \n",
      "0.6163741935483871                                                                \n",
      "SCORE:                                                                            \n",
      "0.6163741935483871                                                                \n",
      "SCORE:                                                                            \n",
      "0.6308903225806451                                                                \n",
      "SCORE:                                                                            \n",
      "0.6163741935483871                                                                \n",
      "SCORE:                                                                            \n",
      "0.7334064516129033                                                                \n",
      "SCORE:                                                                            \n",
      "0.6163741935483871                                                                 \n",
      "SCORE:                                                                             \n",
      "0.6163741935483871                                                                 \n",
      "SCORE:                                                                             \n",
      "0.6163741935483871                                                                 \n",
      "SCORE:                                                                             \n",
      "0.6163741935483871                                                                 \n",
      "SCORE:                                                                             \n",
      "0.8154322580645161                                                                 \n",
      "SCORE:                                                                             \n",
      "0.7672903225806451                                                                 \n",
      "SCORE:                                                                             \n",
      "0.6163741935483871                                                                 \n",
      "SCORE:                                                                             \n",
      "0.6163741935483871                                                                 \n",
      "SCORE:                                                                             \n",
      "0.7496645161290323                                                                 \n",
      "SCORE:                                                                             \n",
      "0.6163741935483871                                                                 \n",
      "SCORE:                                                                             \n",
      "0.8090064516129033                                                                 \n",
      "SCORE:                                                                             \n",
      "0.8056774193548387                                                                 \n",
      "SCORE:                                                                             \n",
      "0.8057161290322581                                                                 \n",
      "SCORE:                                                                             \n",
      "0.8089935483870969                                                                 \n",
      "SCORE:                                                                             \n",
      "0.8010193548387097                                                                 \n",
      "SCORE:                                                                             \n",
      "0.8105935483870969                                                                 \n",
      "SCORE:                                                                             \n",
      "0.8042322580645163                                                                 \n",
      "SCORE:                                                                             \n",
      "0.6163741935483871                                                                 \n",
      "SCORE:                                                                             \n",
      "0.8121290322580645                                                                 \n",
      "SCORE:                                                                             \n",
      "0.7961290322580646                                                                 \n",
      "SCORE:                                                                             \n",
      "0.8010193548387097                                                                 \n",
      "SCORE:                                                                             \n",
      "0.6163741935483871                                                                 \n",
      "SCORE:                                                                             \n",
      "0.7721161290322581                                                                 \n",
      "SCORE:                                                                             \n",
      "0.8041935483870969                                                                 \n",
      "SCORE:                                                                             \n",
      "0.8057677419354838                                                                 \n",
      "SCORE:                                                                             \n",
      "0.6163741935483871                                                                 \n",
      "SCORE:                                                                             \n",
      "0.7737161290322582                                                                 \n",
      "SCORE:                                                                             \n",
      "0.7865935483870968                                                                 \n",
      "SCORE:                                                                             \n",
      "0.7977677419354839                                                                 \n",
      "SCORE:                                                                             \n",
      "0.6163741935483871                                                                 \n",
      "SCORE:                                                                             \n",
      "0.6163741935483871                                                                 \n",
      "SCORE:                                                                             \n",
      "0.6163741935483871                                                                 \n",
      "SCORE:                                                                             \n",
      "0.7993806451612904                                                                 \n",
      "SCORE:                                                                             \n",
      "0.6163741935483871                                                                 \n",
      "SCORE:                                                                             \n",
      "0.780167741935484                                                                  \n",
      "SCORE:                                                                             \n",
      "0.6163741935483871                                                                 \n",
      "SCORE:                                                                             \n",
      "0.6163741935483871                                                                 \n",
      "SCORE:                                                                             \n",
      "0.6163741935483871                                                                 \n",
      "SCORE:                                                                             \n",
      "0.8025677419354839                                                                 \n",
      "SCORE:                                                                             \n",
      "0.7962451612903226                                                                 \n",
      "SCORE:                                                                             \n",
      "0.6163741935483871                                                                 \n",
      "SCORE:                                                                             \n",
      "0.7704903225806452                                                                 \n",
      "SCORE:                                                                             \n",
      "0.6486322580645161                                                                 \n",
      "SCORE:                                                                             \n",
      "0.8041935483870969                                                                 \n",
      "SCORE:                                                                             \n",
      "0.7881806451612905                                                                 \n",
      "SCORE:                                                                             \n",
      "0.7993677419354839                                                                 \n",
      "SCORE:                                                                             \n",
      "0.780141935483871                                                                  \n",
      "SCORE:                                                                             \n",
      "0.8009935483870969                                                                 \n",
      "SCORE:                                                                             \n",
      "0.8073032258064515                                                                 \n",
      "SCORE:                                                                             \n",
      "0.6163741935483871                                                                 \n",
      "SCORE:                                                                             \n",
      "0.6163741935483871                                                                 \n",
      "SCORE:                                                                             \n",
      "0.6163741935483871                                                                 \n",
      "SCORE:                                                                             \n",
      "0.6163741935483871                                                                 \n",
      "SCORE:                                                                             \n",
      "0.6163741935483871                                                                 \n",
      "SCORE:                                                                             \n",
      "0.6163741935483871                                                                 \n",
      "SCORE:                                                                             \n",
      "0.8122064516129033                                                                 \n",
      "SCORE:                                                                             \n",
      "0.8057935483870968                                                                 \n",
      "SCORE:                                                                             \n",
      "0.7992903225806451                                                                 \n",
      "SCORE:                                                                             \n",
      "0.8057806451612904                                                                 \n",
      "SCORE:                                                                             \n",
      "0.8041806451612905                                                                 \n",
      "SCORE:                                                                             \n",
      "0.8058322580645161                                                                 \n",
      "SCORE:                                                                             \n",
      "0.6163741935483871                                                                 \n",
      "SCORE:                                                                             \n",
      "0.7946064516129032                                                                 \n",
      "SCORE:                                                                             \n",
      "0.776941935483871                                                                  \n",
      "SCORE:                                                                             \n",
      "0.8122193548387099                                                                 \n",
      "SCORE:                                                                             \n",
      "0.7945806451612905                                                                 \n",
      "SCORE:                                                                             \n",
      "0.8041806451612903                                                                 \n",
      "SCORE:                                                                             \n",
      "0.7753419354838711                                                                 \n",
      "SCORE:                                                                             \n",
      "0.7849677419354839                                                                 \n",
      "SCORE:                                                                             \n",
      "0.6163741935483871                                                                 \n",
      "SCORE:                                                                             \n",
      "0.8057935483870968                                                                 \n",
      "SCORE:                                                                             \n",
      "0.7946064516129032                                                                 \n",
      "SCORE:                                                                             \n",
      "0.6163741935483871                                                                 \n",
      "SCORE:                                                                             \n",
      "0.8041806451612903                                                                 \n",
      "SCORE:                                                                             \n",
      "0.7736258064516129                                                                 \n",
      "SCORE:                                                                             \n",
      "0.6163741935483871                                                                 \n",
      "SCORE:                                                                             \n",
      "0.789741935483871                                                                  \n",
      "SCORE:                                                                             \n",
      "0.8058193548387097                                                                 \n",
      "SCORE:                                                                             \n",
      "0.6163741935483871                                                                 \n",
      "SCORE:                                                                             \n",
      "0.7865677419354838                                                                 \n",
      "SCORE:                                                                             \n",
      "0.6163741935483871                                                                 \n",
      "SCORE:                                                                             \n",
      "0.7865677419354838                                                                 \n",
      "SCORE:                                                                             \n",
      "0.8089806451612904                                                                 \n",
      "SCORE:                                                                             \n",
      "0.8089677419354839                                                                 \n",
      "SCORE:                                                                             \n",
      "0.6163741935483871                                                                 \n",
      "SCORE:                                                                             \n",
      "0.7994064516129032                                                                 \n",
      "SCORE:                                                                             \n",
      "0.6163741935483871                                                                 \n",
      "SCORE:                                                                             \n"
     ]
    },
    {
     "name": "stdout",
     "output_type": "stream",
     "text": [
      "0.8057935483870968                                                                 \n",
      "SCORE:                                                                             \n",
      "0.788141935483871                                                                  \n",
      "SCORE:                                                                             \n",
      "0.6163741935483871                                                                 \n",
      "SCORE:                                                                              \n",
      "0.7833419354838711                                                                  \n",
      "SCORE:                                                                              \n",
      "0.6163741935483871                                                                  \n",
      "SCORE:                                                                              \n",
      "0.7446322580645162                                                                  \n",
      "SCORE:                                                                              \n",
      "0.6163741935483871                                                                  \n",
      "SCORE:                                                                              \n",
      "0.6163741935483871                                                                  \n",
      "SCORE:                                                                              \n",
      "0.8073161290322581                                                                  \n",
      "SCORE:                                                                              \n",
      "0.804167741935484                                                                   \n",
      "SCORE:                                                                              \n",
      "0.7769161290322582                                                                  \n",
      "SCORE:                                                                              \n",
      "0.8122322580645163                                                                  \n",
      "SCORE:                                                                              \n",
      "0.7721161290322581                                                                  \n",
      "SCORE:                                                                              \n",
      "0.6163741935483871                                                                  \n",
      "SCORE:                                                                              \n",
      "0.6163741935483871                                                                  \n",
      "SCORE:                                                                              \n",
      "0.7721161290322581                                                                  \n",
      "SCORE:                                                                              \n",
      "0.6163741935483871                                                                  \n",
      "SCORE:                                                                              \n",
      "0.8025935483870968                                                                  \n",
      "SCORE:                                                                              \n",
      "0.6371741935483871                                                                  \n",
      "SCORE:                                                                              \n",
      "0.6163741935483871                                                                  \n",
      "SCORE:                                                                              \n",
      "0.7929935483870969                                                                  \n",
      "SCORE:                                                                              \n",
      "0.6163741935483871                                                                  \n",
      "SCORE:                                                                              \n",
      "0.8201677419354839                                                                  \n",
      "SCORE:                                                                              \n",
      "0.8090193548387097                                                                  \n",
      "SCORE:                                                                              \n",
      "0.8074193548387096                                                                  \n",
      "SCORE:                                                                              \n",
      "0.8074451612903226                                                                  \n",
      "SCORE:                                                                              \n",
      "0.6163741935483871                                                                  \n",
      "SCORE:                                                                              \n",
      "0.8089677419354839                                                                  \n",
      "SCORE:                                                                              \n",
      "0.6163741935483871                                                                  \n",
      "SCORE:                                                                              \n",
      "0.812258064516129                                                                   \n",
      "SCORE:                                                                              \n",
      "0.6163741935483871                                                                  \n",
      "SCORE:                                                                              \n",
      "0.6163741935483871                                                                  \n",
      "SCORE:                                                                              \n",
      "0.6163741935483871                                                                  \n",
      "SCORE:                                                                              \n",
      "0.6163741935483871                                                                  \n",
      "SCORE:                                                                              \n",
      "0.8010193548387097                                                                  \n",
      "SCORE:                                                                              \n",
      "0.8009935483870969                                                                  \n",
      "SCORE:                                                                              \n",
      "0.6163741935483871                                                                  \n",
      "SCORE:                                                                              \n",
      "0.812232258064516                                                                   \n",
      "SCORE:                                                                              \n",
      "0.8154322580645162                                                                  \n",
      "SCORE:                                                                              \n",
      "0.8057806451612903                                                                  \n",
      "SCORE:                                                                              \n",
      "0.7833806451612904                                                                  \n",
      "SCORE:                                                                              \n",
      "0.6163741935483871                                                                  \n",
      "SCORE:                                                                              \n",
      "0.7993935483870969                                                                  \n",
      "SCORE:                                                                              \n",
      "0.8106064516129032                                                                  \n",
      "SCORE:                                                                              \n",
      "0.6163741935483871                                                                  \n",
      "SCORE:                                                                              \n",
      "0.7768903225806453                                                                  \n",
      "SCORE:                                                                              \n",
      "0.7896774193548388                                                                  \n",
      "SCORE:                                                                              \n",
      "0.7978064516129033                                                                  \n",
      "SCORE:                                                                              \n",
      "0.809058064516129                                                                   \n",
      "SCORE:                                                                              \n",
      "0.8122322580645163                                                                  \n",
      "SCORE:                                                                              \n",
      "0.8026322580645161                                                                  \n",
      "SCORE:                                                                              \n",
      "0.8138451612903227                                                                  \n",
      "SCORE:                                                                              \n",
      "0.8138322580645163                                                                  \n",
      "SCORE:                                                                              \n",
      "0.8106064516129032                                                                  \n",
      "SCORE:                                                                              \n",
      "0.8090064516129033                                                                  \n",
      "SCORE:                                                                              \n",
      "0.7785290322580647                                                                  \n",
      "SCORE:                                                                              \n",
      "0.7882064516129033                                                                  \n",
      "SCORE:                                                                              \n",
      "0.8105935483870969                                                                  \n",
      "SCORE:                                                                              \n",
      "0.7945935483870968                                                                  \n",
      "SCORE:                                                                              \n",
      "0.8074322580645162                                                                  \n",
      "SCORE:                                                                              \n",
      "0.8105548387096775                                                                  \n",
      "SCORE:                                                                              \n",
      "0.8154451612903226                                                                  \n",
      "SCORE:                                                                              \n",
      "0.7961935483870969                                                                  \n",
      "SCORE:                                                                              \n",
      "0.7349290322580646                                                                  \n",
      "SCORE:                                                                              \n",
      "0.8025677419354839                                                                  \n",
      "SCORE:                                                                              \n",
      "0.812232258064516                                                                   \n",
      "SCORE:                                                                              \n",
      "0.8138322580645163                                                                  \n",
      "SCORE:                                                                              \n",
      "0.8009935483870969                                                                  \n",
      "SCORE:                                                                              \n",
      "0.7977290322580646                                                                  \n",
      "SCORE:                                                                              \n",
      "0.6163741935483871                                                                  \n",
      "SCORE:                                                                              \n",
      "0.8106064516129032                                                                  \n",
      "SCORE:                                                                              \n",
      "0.8009935483870969                                                                  \n",
      "SCORE:                                                                              \n",
      "0.7961935483870969                                                                  \n",
      "SCORE:                                                                              \n",
      "0.8089935483870969                                                                  \n",
      "SCORE:                                                                              \n",
      "0.7945806451612903                                                                  \n",
      "SCORE:                                                                              \n",
      "0.8026322580645161                                                                  \n",
      "SCORE:                                                                              \n",
      "0.6163741935483871                                                                  \n",
      "SCORE:                                                                              \n",
      "0.8138580645161291                                                                  \n",
      "SCORE:                                                                              \n",
      "0.7897806451612903                                                                  \n",
      "SCORE:                                                                              \n",
      "0.8041806451612903                                                                  \n",
      "SCORE:                                                                              \n",
      "0.6163741935483871                                                                  \n",
      "SCORE:                                                                              \n",
      "0.8025806451612905                                                                  \n",
      "SCORE:                                                                              \n",
      "0.7382322580645162                                                                  \n",
      "SCORE:                                                                              \n",
      "0.8010322580645163                                                                  \n",
      "SCORE:                                                                              \n",
      "0.8042064516129033                                                                  \n",
      "SCORE:                                                                              \n",
      "0.7945290322580645                                                                  \n",
      "SCORE:                                                                              \n",
      "0.8138451612903227                                                                  \n",
      "SCORE:                                                                              \n",
      "0.6163741935483871                                                                  \n",
      "SCORE:                                                                              \n",
      "0.6163741935483871                                                                  \n",
      "SCORE:                                                                              \n",
      "0.6163741935483871                                                                  \n",
      "SCORE:                                                                              \n",
      "0.8105806451612902                                                                  \n",
      "SCORE:                                                                              \n",
      "0.6163741935483871                                                                  \n",
      "SCORE:                                                                              \n",
      "0.8138322580645163                                                                  \n",
      "SCORE:                                                                              \n",
      "0.8073935483870969                                                                  \n",
      "SCORE:                                                                              \n",
      "0.7801548387096775                                                                  \n",
      "SCORE:                                                                              \n",
      "0.6163741935483871                                                                  \n",
      "SCORE:                                                                              \n"
     ]
    },
    {
     "name": "stdout",
     "output_type": "stream",
     "text": [
      "0.6163741935483871                                                                  \n",
      "SCORE:                                                                              \n",
      "0.8025161290322581                                                                  \n",
      "SCORE:                                                                              \n",
      "0.7945806451612903                                                                  \n",
      "SCORE:                                                                              \n",
      "0.8026451612903227                                                                  \n",
      "SCORE:                                                                              \n",
      "0.6260516129032258                                                                  \n",
      "SCORE:                                                                              \n",
      "0.8138322580645163                                                                  \n",
      "SCORE:                                                                              \n",
      "0.6163741935483871                                                                  \n",
      "100%|██████████| 200/200 [00:30<00:00,  6.66trial/s, best loss: -0.8201677419354839]\n"
     ]
    }
   ],
   "source": [
    "# Run optimisation algorithm\n",
    "\n",
    "best_hyperparams = fmin(fn = objective_function,\n",
    "                        space = space,\n",
    "                        algo = tpe.suggest,\n",
    "                        max_evals = 200,\n",
    "                        trials = trials)"
   ]
  },
  {
   "cell_type": "code",
   "execution_count": 74,
   "metadata": {
    "scrolled": false
   },
   "outputs": [
    {
     "name": "stdout",
     "output_type": "stream",
     "text": [
      "{'colsample_bytree': 0.879012625320015, 'gamma': 0.5018877839396907, 'learning_rate': 0.027675060778152582, 'max_depth': 6.0, 'min_child_weight': 0.0, 'n_estimators': 199.0, 'random_state': 190.0, 'reg_alpha': 0.0, 'reg_lambda': 0.8274543000029477, 'subsample': 0.7666996914497989}\n"
     ]
    }
   ],
   "source": [
    "print(best_hyperparams)"
   ]
  },
  {
   "cell_type": "code",
   "execution_count": 75,
   "metadata": {
    "scrolled": false
   },
   "outputs": [
    {
     "data": {
      "text/plain": [
       "{'state': 2,\n",
       " 'tid': 119,\n",
       " 'spec': None,\n",
       " 'result': {'loss': -0.8201677419354839, 'status': 'ok'},\n",
       " 'misc': {'tid': 119,\n",
       "  'cmd': ('domain_attachment', 'FMinIter_Domain'),\n",
       "  'workdir': None,\n",
       "  'idxs': {'colsample_bytree': [119],\n",
       "   'gamma': [119],\n",
       "   'learning_rate': [119],\n",
       "   'max_depth': [119],\n",
       "   'min_child_weight': [119],\n",
       "   'n_estimators': [119],\n",
       "   'random_state': [119],\n",
       "   'reg_alpha': [119],\n",
       "   'reg_lambda': [119],\n",
       "   'subsample': [119]},\n",
       "  'vals': {'colsample_bytree': [0.879012625320015],\n",
       "   'gamma': [0.5018877839396907],\n",
       "   'learning_rate': [0.027675060778152582],\n",
       "   'max_depth': [6.0],\n",
       "   'min_child_weight': [0.0],\n",
       "   'n_estimators': [199.0],\n",
       "   'random_state': [190.0],\n",
       "   'reg_alpha': [0.0],\n",
       "   'reg_lambda': [0.8274543000029477],\n",
       "   'subsample': [0.7666996914497989]}},\n",
       " 'exp_key': None,\n",
       " 'owner': None,\n",
       " 'version': 0,\n",
       " 'book_time': datetime.datetime(2020, 6, 8, 3, 55, 10, 263000),\n",
       " 'refresh_time': datetime.datetime(2020, 6, 8, 3, 55, 10, 432000)}"
      ]
     },
     "execution_count": 75,
     "metadata": {},
     "output_type": "execute_result"
    }
   ],
   "source": [
    "trials.best_trial"
   ]
  },
  {
   "cell_type": "markdown",
   "metadata": {},
   "source": [
    "### Train XGBClassifier again with best hyperparams from Hyperopt"
   ]
  },
  {
   "cell_type": "code",
   "execution_count": 76,
   "metadata": {},
   "outputs": [],
   "source": [
    "clf = XGBClassifier(\n",
    "        max_depth = int(best_hyperparams['max_depth']),\n",
    "        gamma = best_hyperparams['gamma'],\n",
    "        reg_alpha = int(best_hyperparams['reg_alpha']),\n",
    "        reg_lambda = best_hyperparams['reg_lambda'],\n",
    "        colsample_bytree = best_hyperparams['colsample_bytree'],\n",
    "        min_child_weight = int(best_hyperparams['min_child_weight']),\n",
    "        learning_rate = best_hyperparams['learning_rate'],\n",
    "        n_estimators = int(best_hyperparams['n_estimators']),\n",
    "        subsample = best_hyperparams['subsample'],\n",
    "        random_state = int(best_hyperparams['random_state'])\n",
    ")\n",
    "\n",
    "# clf.set_params(n_estimators=5000)"
   ]
  },
  {
   "cell_type": "code",
   "execution_count": 77,
   "metadata": {},
   "outputs": [
    {
     "name": "stdout",
     "output_type": "stream",
     "text": [
      "[0]\tvalidation_0-error:0.16418\n",
      "[20]\tvalidation_0-error:0.12313\n",
      "[40]\tvalidation_0-error:0.11194\n",
      "[60]\tvalidation_0-error:0.10821\n",
      "[80]\tvalidation_0-error:0.10448\n",
      "[100]\tvalidation_0-error:0.10448\n",
      "[120]\tvalidation_0-error:0.09702\n",
      "[140]\tvalidation_0-error:0.09702\n",
      "[160]\tvalidation_0-error:0.09328\n",
      "[180]\tvalidation_0-error:0.09328\n",
      "[198]\tvalidation_0-error:0.08955\n"
     ]
    },
    {
     "data": {
      "text/plain": [
       "XGBClassifier(base_score=0.5, booster=None, colsample_bylevel=1,\n",
       "              colsample_bynode=1, colsample_bytree=0.879012625320015,\n",
       "              gamma=0.5018877839396907, gpu_id=-1, importance_type='gain',\n",
       "              interaction_constraints=None, learning_rate=0.027675060778152582,\n",
       "              max_delta_step=0, max_depth=6, min_child_weight=0, missing=nan,\n",
       "              monotone_constraints=None, n_estimators=199, n_jobs=0,\n",
       "              num_parallel_tree=1, random_state=190, reg_alpha=0,\n",
       "              reg_lambda=0.8274543000029477, scale_pos_weight=1,\n",
       "              subsample=0.7666996914497989, tree_method=None,\n",
       "              validate_parameters=False, verbosity=None)"
      ]
     },
     "execution_count": 77,
     "metadata": {},
     "output_type": "execute_result"
    }
   ],
   "source": [
    "clf.fit(X_train, y_train, \n",
    "        eval_set=[(X_test, y_test)],\n",
    "        eval_metric='error', verbose=20)"
   ]
  },
  {
   "cell_type": "code",
   "execution_count": 78,
   "metadata": {},
   "outputs": [
    {
     "data": {
      "text/plain": [
       "array([0, 1, 0, 0, 0])"
      ]
     },
     "execution_count": 78,
     "metadata": {},
     "output_type": "execute_result"
    }
   ],
   "source": [
    "pred = clf.predict(X_test)\n",
    "pred[:5]"
   ]
  },
  {
   "cell_type": "code",
   "execution_count": 79,
   "metadata": {},
   "outputs": [
    {
     "data": {
      "text/plain": [
       "0.9104477611940298"
      ]
     },
     "execution_count": 79,
     "metadata": {},
     "output_type": "execute_result"
    }
   ],
   "source": [
    "clf.score(X_test, y_test)   # return test accuracy"
   ]
  },
  {
   "cell_type": "code",
   "execution_count": 80,
   "metadata": {
    "scrolled": true
   },
   "outputs": [
    {
     "name": "stdout",
     "output_type": "stream",
     "text": [
      "[[156   9]\n",
      " [ 15  88]]\n"
     ]
    },
    {
     "data": {
      "image/png": "[encoded data removed]",
      "text/plain": [
       "<Figure size 432x288 with 2 Axes>"
      ]
     },
     "metadata": {},
     "output_type": "display_data"
    }
   ],
   "source": [
    "from sklearn.metrics import confusion_matrix\n",
    "cm = confusion_matrix(y_test, pred)\n",
    "print(cm)\n",
    "\n",
    "plt.figure(figsize = (6,4))\n",
    "plt.ticklabel_format(style='plain', axis='y', useOffset=False)\n",
    "sns.set(font_scale=1.4)\n",
    "sns.heatmap(cm, annot=True, annot_kws={\"size\": 16}, fmt='g',cmap='Greens')\n",
    "plt.xlabel('Predict')\n",
    "plt.ylabel('Actual')\n",
    "plt.show()"
   ]
  },
  {
   "cell_type": "code",
   "execution_count": 81,
   "metadata": {
    "scrolled": false
   },
   "outputs": [
    {
     "name": "stdout",
     "output_type": "stream",
     "text": [
      "              precision    recall  f1-score   support\n",
      "\n",
      "           0       0.91      0.95      0.93       165\n",
      "           1       0.91      0.85      0.88       103\n",
      "\n",
      "    accuracy                           0.91       268\n",
      "   macro avg       0.91      0.90      0.90       268\n",
      "weighted avg       0.91      0.91      0.91       268\n",
      "\n"
     ]
    }
   ],
   "source": [
    "from sklearn.metrics import classification_report\n",
    "print(classification_report(y_test, pred))"
   ]
  },
  {
   "cell_type": "markdown",
   "metadata": {},
   "source": [
    "## GridSearchCV with XGBClassifier"
   ]
  },
  {
   "cell_type": "code",
   "execution_count": 42,
   "metadata": {},
   "outputs": [
    {
     "name": "stdout",
     "output_type": "stream",
     "text": [
      "Fitting 5 folds for each of 1344 candidates, totalling 6720 fits\n"
     ]
    },
    {
     "name": "stderr",
     "output_type": "stream",
     "text": [
      "[Parallel(n_jobs=-1)]: Using backend LokyBackend with 8 concurrent workers.\n",
      "[Parallel(n_jobs=-1)]: Done  34 tasks      | elapsed:    2.1s\n",
      "[Parallel(n_jobs=-1)]: Done 184 tasks      | elapsed:    5.5s\n",
      "[Parallel(n_jobs=-1)]: Done 434 tasks      | elapsed:   13.1s\n",
      "[Parallel(n_jobs=-1)]: Done 784 tasks      | elapsed:   25.6s\n",
      "[Parallel(n_jobs=-1)]: Done 1234 tasks      | elapsed:   41.3s\n",
      "[Parallel(n_jobs=-1)]: Done 1784 tasks      | elapsed:   59.4s\n",
      "[Parallel(n_jobs=-1)]: Done 2434 tasks      | elapsed:  1.4min\n",
      "[Parallel(n_jobs=-1)]: Done 3184 tasks      | elapsed:  1.8min\n",
      "[Parallel(n_jobs=-1)]: Done 4034 tasks      | elapsed:  2.3min\n",
      "[Parallel(n_jobs=-1)]: Done 4984 tasks      | elapsed:  3.0min\n",
      "[Parallel(n_jobs=-1)]: Done 6034 tasks      | elapsed:  3.7min\n",
      "[Parallel(n_jobs=-1)]: Done 6720 out of 6720 | elapsed:  4.1min finished\n"
     ]
    },
    {
     "data": {
      "text/plain": [
       "GridSearchCV(cv=StratifiedKFold(n_splits=5, random_state=1, shuffle=True),\n",
       "             estimator=XGBClassifier(base_score=None, booster=None,\n",
       "                                     colsample_bylevel=None,\n",
       "                                     colsample_bynode=None,\n",
       "                                     colsample_bytree=None, gamma=None,\n",
       "                                     gpu_id=None, importance_type='gain',\n",
       "                                     interaction_constraints=None,\n",
       "                                     learning_rate=None, max_delta_step=None,\n",
       "                                     max_depth=None, min_child_weight=None,\n",
       "                                     missing...\n",
       "                                     reg_alpha=None, reg_lambda=None,\n",
       "                                     scale_pos_weight=None, subsample=None,\n",
       "                                     tree_method=None,\n",
       "                                     validate_parameters=False,\n",
       "                                     verbosity=None),\n",
       "             n_jobs=-1,\n",
       "             param_grid={'colsample_bytree': [0.8, 1.0],\n",
       "                         'learning_rate': [0.01, 0.03, 0.1],\n",
       "                         'max_depth': [3, 5, 7, 9],\n",
       "                         'min_child_weight': [3, 5, 7, 9],\n",
       "                         'n_estimators': range(200, 501, 50),\n",
       "                         'random_state': [128], 'subsample': [0.8, 1.0]},\n",
       "             scoring='accuracy', verbose=1)"
      ]
     },
     "execution_count": 42,
     "metadata": {},
     "output_type": "execute_result"
    }
   ],
   "source": [
    "from xgboost import XGBClassifier\n",
    "from sklearn.model_selection import GridSearchCV, RandomizedSearchCV\n",
    "from sklearn.model_selection import StratifiedKFold\n",
    "\n",
    "model = XGBClassifier()\n",
    "kfold = StratifiedKFold(n_splits=5, shuffle=True, random_state=1)\n",
    "\n",
    "# The number of hyperparameter combinations can exponentially increase \n",
    "# as we add more hyperparameters to tune in GridSearchCV, it will take\n",
    "# some time and requires computational resource\n",
    "\n",
    "n_estimators = range(200, 501, 50)\n",
    "learning_rate = [0.01, 0.03, 0.1] \n",
    "max_depth = [3, 5, 7, 9]\n",
    "min_child_weight = [3, 5, 7, 9]\n",
    "subsample = [0.8, 1.0]\n",
    "colsample_bytree = [0.8, 1.0]\n",
    "random_state = [128]\n",
    "\n",
    "param_grid = dict(n_estimators=n_estimators, max_depth=max_depth,\n",
    "                 learning_rate=learning_rate,\n",
    "                 min_child_weight=min_child_weight,\n",
    "                 subsample=subsample,\n",
    "                 colsample_bytree=colsample_bytree,\n",
    "                 random_state=random_state)  \n",
    "\n",
    "grid = GridSearchCV(model, param_grid, refit=True, verbose=1, cv=kfold,\n",
    "                   n_jobs=-1, scoring='accuracy')\n",
    "grid.fit(X_train, y_train)\n"
   ]
  },
  {
   "cell_type": "code",
   "execution_count": 45,
   "metadata": {
    "scrolled": true
   },
   "outputs": [
    {
     "data": {
      "text/plain": [
       "{'colsample_bytree': 1.0,\n",
       " 'learning_rate': 0.1,\n",
       " 'max_depth': 3,\n",
       " 'min_child_weight': 7,\n",
       " 'n_estimators': 250,\n",
       " 'random_state': 128,\n",
       " 'subsample': 0.8}"
      ]
     },
     "execution_count": 45,
     "metadata": {},
     "output_type": "execute_result"
    }
   ],
   "source": [
    "grid_param = grid.best_params_\n",
    "grid_param"
   ]
  },
  {
   "cell_type": "code",
   "execution_count": 46,
   "metadata": {
    "scrolled": true
   },
   "outputs": [
    {
     "data": {
      "text/plain": [
       "XGBClassifier(base_score=0.5, booster=None, colsample_bylevel=1,\n",
       "              colsample_bynode=1, colsample_bytree=1.0, gamma=0, gpu_id=-1,\n",
       "              importance_type='gain', interaction_constraints=None,\n",
       "              learning_rate=0.1, max_delta_step=0, max_depth=3,\n",
       "              min_child_weight=7, missing=nan, monotone_constraints=None,\n",
       "              n_estimators=250, n_jobs=0, num_parallel_tree=1, random_state=128,\n",
       "              reg_alpha=0, reg_lambda=1, scale_pos_weight=1, subsample=0.8,\n",
       "              tree_method=None, validate_parameters=False, verbosity=None)"
      ]
     },
     "execution_count": 46,
     "metadata": {},
     "output_type": "execute_result"
    }
   ],
   "source": [
    "grid.best_estimator_  # gives all the params for the model"
   ]
  },
  {
   "cell_type": "code",
   "execution_count": 47,
   "metadata": {
    "scrolled": true
   },
   "outputs": [
    {
     "data": {
      "text/plain": [
       "0.8297677419354839"
      ]
     },
     "execution_count": 47,
     "metadata": {},
     "output_type": "execute_result"
    }
   ],
   "source": [
    "grid.best_score_   # display the highest average accuracy score"
   ]
  },
  {
   "cell_type": "code",
   "execution_count": 48,
   "metadata": {
    "scrolled": true
   },
   "outputs": [
    {
     "data": {
      "text/plain": [
       "array([0, 1, 0, 0, 0])"
      ]
     },
     "execution_count": 48,
     "metadata": {},
     "output_type": "execute_result"
    }
   ],
   "source": [
    "pred = grid.predict(X_test)\n",
    "pred[:5]"
   ]
  },
  {
   "cell_type": "code",
   "execution_count": 49,
   "metadata": {},
   "outputs": [
    {
     "name": "stdout",
     "output_type": "stream",
     "text": [
      "[[153  12]\n",
      " [ 15  88]]\n"
     ]
    },
    {
     "data": {
      "image/png": "[encoded data removed]",
      "text/plain": [
       "<Figure size 432x288 with 2 Axes>"
      ]
     },
     "metadata": {},
     "output_type": "display_data"
    }
   ],
   "source": [
    "from sklearn.metrics import confusion_matrix\n",
    "cm = confusion_matrix(y_test, pred)\n",
    "print(cm)\n",
    "\n",
    "plt.figure(figsize = (6,4))\n",
    "plt.ticklabel_format(style='plain', axis='y', useOffset=False)\n",
    "sns.set(font_scale=1.4)\n",
    "sns.heatmap(cm, annot=True, annot_kws={\"size\": 16}, fmt='g',cmap='Greens')\n",
    "plt.xlabel('Predict')\n",
    "plt.ylabel('Actual')\n",
    "plt.show()"
   ]
  },
  {
   "cell_type": "code",
   "execution_count": 50,
   "metadata": {
    "scrolled": true
   },
   "outputs": [
    {
     "name": "stdout",
     "output_type": "stream",
     "text": [
      "              precision    recall  f1-score   support\n",
      "\n",
      "           0       0.91      0.93      0.92       165\n",
      "           1       0.88      0.85      0.87       103\n",
      "\n",
      "    accuracy                           0.90       268\n",
      "   macro avg       0.90      0.89      0.89       268\n",
      "weighted avg       0.90      0.90      0.90       268\n",
      "\n"
     ]
    }
   ],
   "source": [
    "from sklearn.metrics import classification_report\n",
    "print(classification_report(y_test, pred))"
   ]
  },
  {
   "cell_type": "markdown",
   "metadata": {},
   "source": [
    "### Train XGBClassifier again with best params from GridSearchCV"
   ]
  },
  {
   "cell_type": "code",
   "execution_count": 51,
   "metadata": {},
   "outputs": [],
   "source": [
    "clf = XGBClassifier(**grid_param)"
   ]
  },
  {
   "cell_type": "code",
   "execution_count": 52,
   "metadata": {},
   "outputs": [
    {
     "name": "stdout",
     "output_type": "stream",
     "text": [
      "[0]\tvalidation_0-error:0.16418\n",
      "[20]\tvalidation_0-error:0.14552\n",
      "[40]\tvalidation_0-error:0.14552\n",
      "[60]\tvalidation_0-error:0.13060\n",
      "[80]\tvalidation_0-error:0.12687\n",
      "[100]\tvalidation_0-error:0.12313\n",
      "[120]\tvalidation_0-error:0.10821\n",
      "[140]\tvalidation_0-error:0.10075\n",
      "[160]\tvalidation_0-error:0.10075\n",
      "[180]\tvalidation_0-error:0.10075\n",
      "[200]\tvalidation_0-error:0.10075\n",
      "[220]\tvalidation_0-error:0.09702\n",
      "[240]\tvalidation_0-error:0.10075\n",
      "[249]\tvalidation_0-error:0.10075\n"
     ]
    },
    {
     "data": {
      "text/plain": [
       "XGBClassifier(base_score=0.5, booster=None, colsample_bylevel=1,\n",
       "              colsample_bynode=1, colsample_bytree=1.0, gamma=0, gpu_id=-1,\n",
       "              importance_type='gain', interaction_constraints=None,\n",
       "              learning_rate=0.1, max_delta_step=0, max_depth=3,\n",
       "              min_child_weight=7, missing=nan, monotone_constraints=None,\n",
       "              n_estimators=250, n_jobs=0, num_parallel_tree=1, random_state=128,\n",
       "              reg_alpha=0, reg_lambda=1, scale_pos_weight=1, subsample=0.8,\n",
       "              tree_method=None, validate_parameters=False, verbosity=None)"
      ]
     },
     "execution_count": 52,
     "metadata": {},
     "output_type": "execute_result"
    }
   ],
   "source": [
    "clf.fit(X_train, y_train, \n",
    "        eval_set=[(X_test, y_test)],\n",
    "        eval_metric='error', verbose=20)"
   ]
  },
  {
   "cell_type": "code",
   "execution_count": 53,
   "metadata": {},
   "outputs": [
    {
     "data": {
      "text/plain": [
       "array([0, 1, 0, 0, 0])"
      ]
     },
     "execution_count": 53,
     "metadata": {},
     "output_type": "execute_result"
    }
   ],
   "source": [
    "pred = clf.predict(X_test)\n",
    "pred[:5]"
   ]
  },
  {
   "cell_type": "code",
   "execution_count": 54,
   "metadata": {},
   "outputs": [
    {
     "data": {
      "text/plain": [
       "0.8992537313432836"
      ]
     },
     "execution_count": 54,
     "metadata": {},
     "output_type": "execute_result"
    }
   ],
   "source": [
    "clf.score(X_test, y_test)   # return test accuracy"
   ]
  },
  {
   "cell_type": "code",
   "execution_count": 55,
   "metadata": {
    "scrolled": true
   },
   "outputs": [
    {
     "name": "stdout",
     "output_type": "stream",
     "text": [
      "[[153  12]\n",
      " [ 15  88]]\n"
     ]
    },
    {
     "data": {
      "image/png": "[encoded data removed]",
      "text/plain": [
       "<Figure size 432x288 with 2 Axes>"
      ]
     },
     "metadata": {},
     "output_type": "display_data"
    }
   ],
   "source": [
    "from sklearn.metrics import confusion_matrix\n",
    "cm = confusion_matrix(y_test, pred)\n",
    "print(cm)\n",
    "\n",
    "plt.figure(figsize = (6,4))\n",
    "plt.ticklabel_format(style='plain', axis='y', useOffset=False)\n",
    "sns.set(font_scale=1.4)\n",
    "sns.heatmap(cm, annot=True, annot_kws={\"size\": 16}, fmt='g',cmap='Greens')\n",
    "plt.xlabel('Predict')\n",
    "plt.ylabel('Actual')\n",
    "plt.show()"
   ]
  },
  {
   "cell_type": "code",
   "execution_count": 56,
   "metadata": {
    "scrolled": true
   },
   "outputs": [
    {
     "name": "stdout",
     "output_type": "stream",
     "text": [
      "              precision    recall  f1-score   support\n",
      "\n",
      "           0       0.91      0.93      0.92       165\n",
      "           1       0.88      0.85      0.87       103\n",
      "\n",
      "    accuracy                           0.90       268\n",
      "   macro avg       0.90      0.89      0.89       268\n",
      "weighted avg       0.90      0.90      0.90       268\n",
      "\n"
     ]
    }
   ],
   "source": [
    "from sklearn.metrics import classification_report\n",
    "print(classification_report(y_test, pred))"
   ]
  },
  {
   "cell_type": "markdown",
   "metadata": {},
   "source": [
    "## Custom made Randomised Search for hyperparam \n",
    "## sets using native XGBoost API - xgb.cv()"
   ]
  },
  {
   "cell_type": "code",
   "execution_count": 214,
   "metadata": {},
   "outputs": [],
   "source": [
    "# custom make 500 random search from below hyperparam sets in XGBoost\n",
    "# np.random.seed(42)\n",
    "\n",
    "param_list = []\n",
    "for n in range(500):\n",
    "    params = {\n",
    "        'max_depth': np.random.choice((3,4,5,6,7,8,9)),  \n",
    "        'min_child_weight': np.random.choice((0,1,2,3,4,5,6,7,8,9)),\n",
    "        'eta':np.random.randint(1,31)/100,\n",
    "        'subsample': np.random.randint(70,101)/100,\n",
    "        'colsample_bytree': np.random.randint(70,101)/100,\n",
    "        'reg_lambda' : np.random.randint(5,11)/10,\n",
    "        'eval_metric':'error',\n",
    "        'objective':'binary:logistic',\n",
    "        'seed' : np.random.randint(100,201)\n",
    "    }\n",
    "    param_list.append(params)"
   ]
  },
  {
   "cell_type": "code",
   "execution_count": 215,
   "metadata": {
    "scrolled": true
   },
   "outputs": [
    {
     "data": {
      "text/plain": [
       "{'max_depth': 3,\n",
       " 'min_child_weight': 1,\n",
       " 'eta': 0.18,\n",
       " 'subsample': 0.87,\n",
       " 'colsample_bytree': 0.77,\n",
       " 'reg_lambda': 0.5,\n",
       " 'eval_metric': 'error',\n",
       " 'objective': 'binary:logistic',\n",
       " 'seed': 118}"
      ]
     },
     "execution_count": 215,
     "metadata": {},
     "output_type": "execute_result"
    }
   ],
   "source": [
    "param_list[0]  # preview one set of the randomly generated hyperparameters"
   ]
  },
  {
   "cell_type": "code",
   "execution_count": 216,
   "metadata": {
    "scrolled": true
   },
   "outputs": [
    {
     "name": "stdout",
     "output_type": "stream",
     "text": [
      "CPU times: user 11min 22s, sys: 18.6 s, total: 11min 41s\n",
      "Wall time: 1min 31s\n"
     ]
    }
   ],
   "source": [
    "%%time\n",
    "\n",
    "# train XGBoost model using xgb.train() for 500 random hyperparam sets\n",
    "\n",
    "import xgboost as xgb\n",
    "from sklearn.model_selection import train_test_split\n",
    "\n",
    "SEED = 122    # Set the seed\n",
    "\n",
    "features = [feat for feat in list(titanic_xgboost_ready_df) if feat != 'Survived']\n",
    "X_train, X_test, y_train, y_test = train_test_split(titanic_xgboost_ready_df[features], \n",
    "                                                titanic_xgboost_ready_df['Survived'], \n",
    "                                                test_size=0.3, \n",
    "                                                random_state=SEED,\n",
    "                                                stratify=titanic_xgboost_ready_df['Survived'])\n",
    "\n",
    "# Prepare the DMatrix object from train set and test set as inupt to \n",
    "# the native xgboost API\n",
    "dtrain = xgb.DMatrix(X_train, y_train, feature_names=X_train.columns.values)\n",
    "dtest = xgb.DMatrix(X_test, y_test, feature_names=X_test.columns.values)\n",
    "\n",
    "# create empty list to store result for each hyperparam set\n",
    "val_loss = []\n",
    "boost_round = []\n",
    "\n",
    "for n in range(len(param_list)):\n",
    "    cv_results = xgb.cv( params = param_list[n],\n",
    "                  dtrain = dtrain,\n",
    "                  num_boost_round = 5000,\n",
    "                  early_stopping_rounds = 50,\n",
    "#                   seed=SEED,  # can set seed value to control CV split\n",
    "                  nfold=5,\n",
    "                  stratified=True,\n",
    "                  metrics='error',\n",
    "                  verbose_eval=False,\n",
    "                  maximize = False)\n",
    "    val_loss.append(cv_results['test-error-mean'].min())\n",
    "    boost_round.append(cv_results['test-error-mean'].idxmin())"
   ]
  },
  {
   "cell_type": "code",
   "execution_count": 217,
   "metadata": {
    "scrolled": true
   },
   "outputs": [
    {
     "data": {
      "text/html": [
       "<div>\n",
       "<style scoped>\n",
       "    .dataframe tbody tr th:only-of-type {\n",
       "        vertical-align: middle;\n",
       "    }\n",
       "\n",
       "    .dataframe tbody tr th {\n",
       "        vertical-align: top;\n",
       "    }\n",
       "\n",
       "    .dataframe thead th {\n",
       "        text-align: right;\n",
       "    }\n",
       "</style>\n",
       "<table border=\"1\" class=\"dataframe\">\n",
       "  <thead>\n",
       "    <tr style=\"text-align: right;\">\n",
       "      <th></th>\n",
       "      <th>train-error-mean</th>\n",
       "      <th>train-error-std</th>\n",
       "      <th>test-error-mean</th>\n",
       "      <th>test-error-std</th>\n",
       "    </tr>\n",
       "  </thead>\n",
       "  <tbody>\n",
       "    <tr>\n",
       "      <th>0</th>\n",
       "      <td>0.159310</td>\n",
       "      <td>0.005755</td>\n",
       "      <td>0.234426</td>\n",
       "      <td>0.035399</td>\n",
       "    </tr>\n",
       "    <tr>\n",
       "      <th>1</th>\n",
       "      <td>0.145267</td>\n",
       "      <td>0.009492</td>\n",
       "      <td>0.216761</td>\n",
       "      <td>0.035137</td>\n",
       "    </tr>\n",
       "    <tr>\n",
       "      <th>2</th>\n",
       "      <td>0.144461</td>\n",
       "      <td>0.007037</td>\n",
       "      <td>0.218374</td>\n",
       "      <td>0.039470</td>\n",
       "    </tr>\n",
       "    <tr>\n",
       "      <th>3</th>\n",
       "      <td>0.140851</td>\n",
       "      <td>0.006152</td>\n",
       "      <td>0.208697</td>\n",
       "      <td>0.040312</td>\n",
       "    </tr>\n",
       "    <tr>\n",
       "      <th>4</th>\n",
       "      <td>0.140452</td>\n",
       "      <td>0.007341</td>\n",
       "      <td>0.210310</td>\n",
       "      <td>0.032017</td>\n",
       "    </tr>\n",
       "    <tr>\n",
       "      <th>5</th>\n",
       "      <td>0.136841</td>\n",
       "      <td>0.010914</td>\n",
       "      <td>0.207110</td>\n",
       "      <td>0.029162</td>\n",
       "    </tr>\n",
       "    <tr>\n",
       "      <th>6</th>\n",
       "      <td>0.136438</td>\n",
       "      <td>0.010797</td>\n",
       "      <td>0.208710</td>\n",
       "      <td>0.025649</td>\n",
       "    </tr>\n",
       "    <tr>\n",
       "      <th>7</th>\n",
       "      <td>0.133629</td>\n",
       "      <td>0.011554</td>\n",
       "      <td>0.202271</td>\n",
       "      <td>0.026174</td>\n",
       "    </tr>\n",
       "    <tr>\n",
       "      <th>8</th>\n",
       "      <td>0.130418</td>\n",
       "      <td>0.007072</td>\n",
       "      <td>0.208671</td>\n",
       "      <td>0.028641</td>\n",
       "    </tr>\n",
       "    <tr>\n",
       "      <th>9</th>\n",
       "      <td>0.130018</td>\n",
       "      <td>0.010970</td>\n",
       "      <td>0.205484</td>\n",
       "      <td>0.027270</td>\n",
       "    </tr>\n",
       "    <tr>\n",
       "      <th>10</th>\n",
       "      <td>0.128009</td>\n",
       "      <td>0.010335</td>\n",
       "      <td>0.202310</td>\n",
       "      <td>0.027922</td>\n",
       "    </tr>\n",
       "    <tr>\n",
       "      <th>11</th>\n",
       "      <td>0.126807</td>\n",
       "      <td>0.012020</td>\n",
       "      <td>0.200697</td>\n",
       "      <td>0.022570</td>\n",
       "    </tr>\n",
       "    <tr>\n",
       "      <th>12</th>\n",
       "      <td>0.122394</td>\n",
       "      <td>0.010729</td>\n",
       "      <td>0.197458</td>\n",
       "      <td>0.016781</td>\n",
       "    </tr>\n",
       "    <tr>\n",
       "      <th>13</th>\n",
       "      <td>0.123996</td>\n",
       "      <td>0.009702</td>\n",
       "      <td>0.192632</td>\n",
       "      <td>0.020999</td>\n",
       "    </tr>\n",
       "    <tr>\n",
       "      <th>14</th>\n",
       "      <td>0.123997</td>\n",
       "      <td>0.007126</td>\n",
       "      <td>0.187832</td>\n",
       "      <td>0.022109</td>\n",
       "    </tr>\n",
       "    <tr>\n",
       "      <th>15</th>\n",
       "      <td>0.122793</td>\n",
       "      <td>0.008550</td>\n",
       "      <td>0.191019</td>\n",
       "      <td>0.021176</td>\n",
       "    </tr>\n",
       "    <tr>\n",
       "      <th>16</th>\n",
       "      <td>0.122793</td>\n",
       "      <td>0.008176</td>\n",
       "      <td>0.194245</td>\n",
       "      <td>0.017353</td>\n",
       "    </tr>\n",
       "    <tr>\n",
       "      <th>17</th>\n",
       "      <td>0.121589</td>\n",
       "      <td>0.008844</td>\n",
       "      <td>0.187845</td>\n",
       "      <td>0.016227</td>\n",
       "    </tr>\n",
       "    <tr>\n",
       "      <th>18</th>\n",
       "      <td>0.121187</td>\n",
       "      <td>0.008078</td>\n",
       "      <td>0.194245</td>\n",
       "      <td>0.019441</td>\n",
       "    </tr>\n",
       "    <tr>\n",
       "      <th>19</th>\n",
       "      <td>0.121589</td>\n",
       "      <td>0.007777</td>\n",
       "      <td>0.189432</td>\n",
       "      <td>0.016768</td>\n",
       "    </tr>\n",
       "    <tr>\n",
       "      <th>20</th>\n",
       "      <td>0.122391</td>\n",
       "      <td>0.007711</td>\n",
       "      <td>0.192632</td>\n",
       "      <td>0.020999</td>\n",
       "    </tr>\n",
       "    <tr>\n",
       "      <th>21</th>\n",
       "      <td>0.119984</td>\n",
       "      <td>0.008178</td>\n",
       "      <td>0.191045</td>\n",
       "      <td>0.020180</td>\n",
       "    </tr>\n",
       "    <tr>\n",
       "      <th>22</th>\n",
       "      <td>0.119984</td>\n",
       "      <td>0.009945</td>\n",
       "      <td>0.194258</td>\n",
       "      <td>0.023166</td>\n",
       "    </tr>\n",
       "    <tr>\n",
       "      <th>23</th>\n",
       "      <td>0.117577</td>\n",
       "      <td>0.007905</td>\n",
       "      <td>0.186232</td>\n",
       "      <td>0.015953</td>\n",
       "    </tr>\n",
       "    <tr>\n",
       "      <th>24</th>\n",
       "      <td>0.116776</td>\n",
       "      <td>0.010214</td>\n",
       "      <td>0.189432</td>\n",
       "      <td>0.016768</td>\n",
       "    </tr>\n",
       "    <tr>\n",
       "      <th>25</th>\n",
       "      <td>0.114369</td>\n",
       "      <td>0.008465</td>\n",
       "      <td>0.187832</td>\n",
       "      <td>0.015231</td>\n",
       "    </tr>\n",
       "    <tr>\n",
       "      <th>26</th>\n",
       "      <td>0.114771</td>\n",
       "      <td>0.009910</td>\n",
       "      <td>0.187832</td>\n",
       "      <td>0.015231</td>\n",
       "    </tr>\n",
       "    <tr>\n",
       "      <th>27</th>\n",
       "      <td>0.115171</td>\n",
       "      <td>0.009913</td>\n",
       "      <td>0.187832</td>\n",
       "      <td>0.015231</td>\n",
       "    </tr>\n",
       "    <tr>\n",
       "      <th>28</th>\n",
       "      <td>0.114771</td>\n",
       "      <td>0.008508</td>\n",
       "      <td>0.184606</td>\n",
       "      <td>0.013591</td>\n",
       "    </tr>\n",
       "    <tr>\n",
       "      <th>29</th>\n",
       "      <td>0.113168</td>\n",
       "      <td>0.008643</td>\n",
       "      <td>0.183019</td>\n",
       "      <td>0.013278</td>\n",
       "    </tr>\n",
       "    <tr>\n",
       "      <th>30</th>\n",
       "      <td>0.111159</td>\n",
       "      <td>0.007072</td>\n",
       "      <td>0.181419</td>\n",
       "      <td>0.014457</td>\n",
       "    </tr>\n",
       "    <tr>\n",
       "      <th>31</th>\n",
       "      <td>0.109554</td>\n",
       "      <td>0.009249</td>\n",
       "      <td>0.178219</td>\n",
       "      <td>0.015279</td>\n",
       "    </tr>\n",
       "    <tr>\n",
       "      <th>32</th>\n",
       "      <td>0.111561</td>\n",
       "      <td>0.008627</td>\n",
       "      <td>0.178219</td>\n",
       "      <td>0.015279</td>\n",
       "    </tr>\n",
       "    <tr>\n",
       "      <th>33</th>\n",
       "      <td>0.111160</td>\n",
       "      <td>0.008717</td>\n",
       "      <td>0.178219</td>\n",
       "      <td>0.015279</td>\n",
       "    </tr>\n",
       "    <tr>\n",
       "      <th>34</th>\n",
       "      <td>0.111158</td>\n",
       "      <td>0.008698</td>\n",
       "      <td>0.178219</td>\n",
       "      <td>0.015279</td>\n",
       "    </tr>\n",
       "    <tr>\n",
       "      <th>35</th>\n",
       "      <td>0.109956</td>\n",
       "      <td>0.006825</td>\n",
       "      <td>0.183032</td>\n",
       "      <td>0.016105</td>\n",
       "    </tr>\n",
       "    <tr>\n",
       "      <th>36</th>\n",
       "      <td>0.109956</td>\n",
       "      <td>0.007608</td>\n",
       "      <td>0.179832</td>\n",
       "      <td>0.017126</td>\n",
       "    </tr>\n",
       "    <tr>\n",
       "      <th>37</th>\n",
       "      <td>0.109956</td>\n",
       "      <td>0.007393</td>\n",
       "      <td>0.179832</td>\n",
       "      <td>0.018583</td>\n",
       "    </tr>\n",
       "    <tr>\n",
       "      <th>38</th>\n",
       "      <td>0.107948</td>\n",
       "      <td>0.007381</td>\n",
       "      <td>0.179819</td>\n",
       "      <td>0.014540</td>\n",
       "    </tr>\n",
       "    <tr>\n",
       "      <th>39</th>\n",
       "      <td>0.105542</td>\n",
       "      <td>0.006366</td>\n",
       "      <td>0.179832</td>\n",
       "      <td>0.018583</td>\n",
       "    </tr>\n",
       "    <tr>\n",
       "      <th>40</th>\n",
       "      <td>0.106747</td>\n",
       "      <td>0.007834</td>\n",
       "      <td>0.181432</td>\n",
       "      <td>0.017091</td>\n",
       "    </tr>\n",
       "    <tr>\n",
       "      <th>41</th>\n",
       "      <td>0.105140</td>\n",
       "      <td>0.006100</td>\n",
       "      <td>0.179819</td>\n",
       "      <td>0.017013</td>\n",
       "    </tr>\n",
       "    <tr>\n",
       "      <th>42</th>\n",
       "      <td>0.103536</td>\n",
       "      <td>0.007196</td>\n",
       "      <td>0.181432</td>\n",
       "      <td>0.017091</td>\n",
       "    </tr>\n",
       "    <tr>\n",
       "      <th>43</th>\n",
       "      <td>0.104338</td>\n",
       "      <td>0.006897</td>\n",
       "      <td>0.181432</td>\n",
       "      <td>0.017091</td>\n",
       "    </tr>\n",
       "    <tr>\n",
       "      <th>44</th>\n",
       "      <td>0.105542</td>\n",
       "      <td>0.007838</td>\n",
       "      <td>0.181432</td>\n",
       "      <td>0.017091</td>\n",
       "    </tr>\n",
       "    <tr>\n",
       "      <th>45</th>\n",
       "      <td>0.102736</td>\n",
       "      <td>0.011654</td>\n",
       "      <td>0.181432</td>\n",
       "      <td>0.017091</td>\n",
       "    </tr>\n",
       "    <tr>\n",
       "      <th>46</th>\n",
       "      <td>0.103936</td>\n",
       "      <td>0.007597</td>\n",
       "      <td>0.179819</td>\n",
       "      <td>0.017013</td>\n",
       "    </tr>\n",
       "    <tr>\n",
       "      <th>47</th>\n",
       "      <td>0.103134</td>\n",
       "      <td>0.007933</td>\n",
       "      <td>0.178206</td>\n",
       "      <td>0.017538</td>\n",
       "    </tr>\n",
       "    <tr>\n",
       "      <th>48</th>\n",
       "      <td>0.101129</td>\n",
       "      <td>0.007536</td>\n",
       "      <td>0.176594</td>\n",
       "      <td>0.014713</td>\n",
       "    </tr>\n",
       "  </tbody>\n",
       "</table>\n",
       "</div>"
      ],
      "text/plain": [
       "    train-error-mean  train-error-std  test-error-mean  test-error-std\n",
       "0           0.159310         0.005755         0.234426        0.035399\n",
       "1           0.145267         0.009492         0.216761        0.035137\n",
       "2           0.144461         0.007037         0.218374        0.039470\n",
       "3           0.140851         0.006152         0.208697        0.040312\n",
       "4           0.140452         0.007341         0.210310        0.032017\n",
       "5           0.136841         0.010914         0.207110        0.029162\n",
       "6           0.136438         0.010797         0.208710        0.025649\n",
       "7           0.133629         0.011554         0.202271        0.026174\n",
       "8           0.130418         0.007072         0.208671        0.028641\n",
       "9           0.130018         0.010970         0.205484        0.027270\n",
       "10          0.128009         0.010335         0.202310        0.027922\n",
       "11          0.126807         0.012020         0.200697        0.022570\n",
       "12          0.122394         0.010729         0.197458        0.016781\n",
       "13          0.123996         0.009702         0.192632        0.020999\n",
       "14          0.123997         0.007126         0.187832        0.022109\n",
       "15          0.122793         0.008550         0.191019        0.021176\n",
       "16          0.122793         0.008176         0.194245        0.017353\n",
       "17          0.121589         0.008844         0.187845        0.016227\n",
       "18          0.121187         0.008078         0.194245        0.019441\n",
       "19          0.121589         0.007777         0.189432        0.016768\n",
       "20          0.122391         0.007711         0.192632        0.020999\n",
       "21          0.119984         0.008178         0.191045        0.020180\n",
       "22          0.119984         0.009945         0.194258        0.023166\n",
       "23          0.117577         0.007905         0.186232        0.015953\n",
       "24          0.116776         0.010214         0.189432        0.016768\n",
       "25          0.114369         0.008465         0.187832        0.015231\n",
       "26          0.114771         0.009910         0.187832        0.015231\n",
       "27          0.115171         0.009913         0.187832        0.015231\n",
       "28          0.114771         0.008508         0.184606        0.013591\n",
       "29          0.113168         0.008643         0.183019        0.013278\n",
       "30          0.111159         0.007072         0.181419        0.014457\n",
       "31          0.109554         0.009249         0.178219        0.015279\n",
       "32          0.111561         0.008627         0.178219        0.015279\n",
       "33          0.111160         0.008717         0.178219        0.015279\n",
       "34          0.111158         0.008698         0.178219        0.015279\n",
       "35          0.109956         0.006825         0.183032        0.016105\n",
       "36          0.109956         0.007608         0.179832        0.017126\n",
       "37          0.109956         0.007393         0.179832        0.018583\n",
       "38          0.107948         0.007381         0.179819        0.014540\n",
       "39          0.105542         0.006366         0.179832        0.018583\n",
       "40          0.106747         0.007834         0.181432        0.017091\n",
       "41          0.105140         0.006100         0.179819        0.017013\n",
       "42          0.103536         0.007196         0.181432        0.017091\n",
       "43          0.104338         0.006897         0.181432        0.017091\n",
       "44          0.105542         0.007838         0.181432        0.017091\n",
       "45          0.102736         0.011654         0.181432        0.017091\n",
       "46          0.103936         0.007597         0.179819        0.017013\n",
       "47          0.103134         0.007933         0.178206        0.017538\n",
       "48          0.101129         0.007536         0.176594        0.014713"
      ]
     },
     "execution_count": 217,
     "metadata": {},
     "output_type": "execute_result"
    }
   ],
   "source": [
    "cv_results  # preview the last model result in a table"
   ]
  },
  {
   "cell_type": "code",
   "execution_count": 218,
   "metadata": {
    "scrolled": true
   },
   "outputs": [
    {
     "name": "stdout",
     "output_type": "stream",
     "text": [
      "The lowest average error: 0.1686064\n",
      "The index of this lowest error: 366\n",
      "The optimum num_boost_round: 167\n"
     ]
    }
   ],
   "source": [
    "# Print the result of the lowest average error among all hyperparam sets\n",
    "val_loss = np.array(val_loss)\n",
    "min_loss_idx = val_loss.argmin()\n",
    "\n",
    "print(f'The lowest average error: {val_loss.min()}')\n",
    "print(f'The index of this lowest error: {min_loss_idx}')\n",
    "print(f'The optimum num_boost_round: {boost_round[min_loss_idx]}')"
   ]
  },
  {
   "cell_type": "code",
   "execution_count": 219,
   "metadata": {
    "scrolled": true
   },
   "outputs": [
    {
     "data": {
      "text/plain": [
       "0.2006452"
      ]
     },
     "execution_count": 219,
     "metadata": {},
     "output_type": "execute_result"
    }
   ],
   "source": [
    "val_loss.max()   # also check out the highest average error"
   ]
  },
  {
   "cell_type": "code",
   "execution_count": 220,
   "metadata": {
    "scrolled": false
   },
   "outputs": [
    {
     "data": {
      "text/plain": [
       "{'max_depth': 7,\n",
       " 'min_child_weight': 8,\n",
       " 'eta': 0.28,\n",
       " 'subsample': 0.84,\n",
       " 'colsample_bytree': 0.9,\n",
       " 'reg_lambda': 0.5,\n",
       " 'eval_metric': 'error',\n",
       " 'objective': 'binary:logistic',\n",
       " 'seed': 124}"
      ]
     },
     "execution_count": 220,
     "metadata": {},
     "output_type": "execute_result"
    }
   ],
   "source": [
    "# display the hyperparam set with the lowest average error\n",
    "param_list[min_loss_idx]"
   ]
  },
  {
   "cell_type": "markdown",
   "metadata": {},
   "source": [
    "### Train native XGBoost API - xgb.train() again with best hyperparams from Custom Randomised Search"
   ]
  },
  {
   "cell_type": "code",
   "execution_count": 222,
   "metadata": {},
   "outputs": [
    {
     "name": "stdout",
     "output_type": "stream",
     "text": [
      "[0]\ttrain-error:0.22632\teval-error:0.20522\n",
      "[20]\ttrain-error:0.15409\teval-error:0.14925\n",
      "[40]\ttrain-error:0.12520\teval-error:0.10075\n",
      "[60]\ttrain-error:0.11396\teval-error:0.10821\n",
      "[80]\ttrain-error:0.11396\teval-error:0.10448\n",
      "[100]\ttrain-error:0.10273\teval-error:0.10448\n",
      "[120]\ttrain-error:0.09791\teval-error:0.10448\n",
      "[140]\ttrain-error:0.09470\teval-error:0.10448\n",
      "[160]\ttrain-error:0.08507\teval-error:0.10448\n",
      "[166]\ttrain-error:0.08989\teval-error:0.10075\n"
     ]
    }
   ],
   "source": [
    "evals = [(dtrain,'train'), (dtest,'eval')]\n",
    "\n",
    "xgb_model = xgb.train( params = param_list[min_loss_idx],\n",
    "              dtrain = dtrain,\n",
    "              num_boost_round = boost_round[min_loss_idx],\n",
    "              verbose_eval=20, \n",
    "              evals=evals,\n",
    "              maximize = False)"
   ]
  },
  {
   "cell_type": "code",
   "execution_count": 223,
   "metadata": {},
   "outputs": [
    {
     "name": "stdout",
     "output_type": "stream",
     "text": [
      "[[152  13]\n",
      " [ 14  89]]\n"
     ]
    },
    {
     "data": {
      "image/png": "[encoded data removed]",
      "text/plain": [
       "<Figure size 432x288 with 2 Axes>"
      ]
     },
     "metadata": {},
     "output_type": "display_data"
    }
   ],
   "source": [
    "# Confusion matrix\n",
    "dval_predictions = xgb_model.predict(dtest)\n",
    "\n",
    "from sklearn.metrics import confusion_matrix\n",
    "cm = confusion_matrix(y_test, [1 if p > 0.5 else 0 for p in dval_predictions])\n",
    "print(cm)\n",
    "\n",
    "plt.figure(figsize = (6,4))\n",
    "plt.ticklabel_format(style='plain', axis='y', useOffset=False)\n",
    "sns.set(font_scale=1.4)\n",
    "sns.heatmap(cm, annot=True, annot_kws={\"size\": 16}, fmt='g',cmap='Greens')\n",
    "plt.xlabel('Predict')\n",
    "plt.ylabel('Actual')\n",
    "plt.show()"
   ]
  },
  {
   "cell_type": "code",
   "execution_count": 224,
   "metadata": {},
   "outputs": [
    {
     "name": "stdout",
     "output_type": "stream",
     "text": [
      "              precision    recall  f1-score   support\n",
      "\n",
      "           0       0.92      0.92      0.92       165\n",
      "           1       0.87      0.86      0.87       103\n",
      "\n",
      "    accuracy                           0.90       268\n",
      "   macro avg       0.89      0.89      0.89       268\n",
      "weighted avg       0.90      0.90      0.90       268\n",
      "\n"
     ]
    }
   ],
   "source": [
    "from sklearn.metrics import classification_report\n",
    "print(classification_report(y_test,[1 if p > 0.5 else 0 for p in dval_predictions]))"
   ]
  },
  {
   "cell_type": "code",
   "execution_count": 225,
   "metadata": {
    "scrolled": false
   },
   "outputs": [
    {
     "data": {
      "text/html": [
       "<div>\n",
       "<style scoped>\n",
       "    .dataframe tbody tr th:only-of-type {\n",
       "        vertical-align: middle;\n",
       "    }\n",
       "\n",
       "    .dataframe tbody tr th {\n",
       "        vertical-align: top;\n",
       "    }\n",
       "\n",
       "    .dataframe thead th {\n",
       "        text-align: right;\n",
       "    }\n",
       "</style>\n",
       "<table border=\"1\" class=\"dataframe\">\n",
       "  <thead>\n",
       "    <tr style=\"text-align: right;\">\n",
       "      <th></th>\n",
       "      <th>feature</th>\n",
       "      <th>importance</th>\n",
       "    </tr>\n",
       "  </thead>\n",
       "  <tbody>\n",
       "    <tr>\n",
       "      <th>1</th>\n",
       "      <td>Fare</td>\n",
       "      <td>365</td>\n",
       "    </tr>\n",
       "    <tr>\n",
       "      <th>3</th>\n",
       "      <td>Age</td>\n",
       "      <td>301</td>\n",
       "    </tr>\n",
       "    <tr>\n",
       "      <th>2</th>\n",
       "      <td>Famsize</td>\n",
       "      <td>38</td>\n",
       "    </tr>\n",
       "    <tr>\n",
       "      <th>5</th>\n",
       "      <td>Pclass</td>\n",
       "      <td>37</td>\n",
       "    </tr>\n",
       "    <tr>\n",
       "      <th>6</th>\n",
       "      <td>Name_Mr.</td>\n",
       "      <td>28</td>\n",
       "    </tr>\n",
       "    <tr>\n",
       "      <th>0</th>\n",
       "      <td>Sex_male</td>\n",
       "      <td>24</td>\n",
       "    </tr>\n",
       "    <tr>\n",
       "      <th>4</th>\n",
       "      <td>Cabin_nonCabin</td>\n",
       "      <td>19</td>\n",
       "    </tr>\n",
       "    <tr>\n",
       "      <th>7</th>\n",
       "      <td>Embarked_S</td>\n",
       "      <td>18</td>\n",
       "    </tr>\n",
       "    <tr>\n",
       "      <th>9</th>\n",
       "      <td>Name_Miss.</td>\n",
       "      <td>14</td>\n",
       "    </tr>\n",
       "    <tr>\n",
       "      <th>8</th>\n",
       "      <td>Name_Mrs.</td>\n",
       "      <td>8</td>\n",
       "    </tr>\n",
       "  </tbody>\n",
       "</table>\n",
       "</div>"
      ],
      "text/plain": [
       "          feature  importance\n",
       "1            Fare         365\n",
       "3             Age         301\n",
       "2         Famsize          38\n",
       "5          Pclass          37\n",
       "6        Name_Mr.          28\n",
       "0        Sex_male          24\n",
       "4  Cabin_nonCabin          19\n",
       "7      Embarked_S          18\n",
       "9      Name_Miss.          14\n",
       "8       Name_Mrs.           8"
      ]
     },
     "execution_count": 225,
     "metadata": {},
     "output_type": "execute_result"
    }
   ],
   "source": [
    "# get dataframe version of feature importance for model \n",
    "xgb_fea_imp=pd.DataFrame(list(xgb_model.get_fscore().items()),\n",
    "        columns=['feature','importance']).sort_values(by='importance', \n",
    "                                                      ascending=False)\n",
    "xgb_fea_imp.head(10)"
   ]
  },
  {
   "cell_type": "markdown",
   "metadata": {},
   "source": [
    "# CatBoost"
   ]
  },
  {
   "cell_type": "markdown",
   "metadata": {},
   "source": [
    "### CatBoost will handle the categorical features when explicitly specified before training the model"
   ]
  },
  {
   "cell_type": "code",
   "execution_count": 89,
   "metadata": {
    "scrolled": false
   },
   "outputs": [
    {
     "data": {
      "text/html": [
       "<div>\n",
       "<style scoped>\n",
       "    .dataframe tbody tr th:only-of-type {\n",
       "        vertical-align: middle;\n",
       "    }\n",
       "\n",
       "    .dataframe tbody tr th {\n",
       "        vertical-align: top;\n",
       "    }\n",
       "\n",
       "    .dataframe thead th {\n",
       "        text-align: right;\n",
       "    }\n",
       "</style>\n",
       "<table border=\"1\" class=\"dataframe\">\n",
       "  <thead>\n",
       "    <tr style=\"text-align: right;\">\n",
       "      <th></th>\n",
       "      <th>PassengerId</th>\n",
       "      <th>Survived</th>\n",
       "      <th>Pclass</th>\n",
       "      <th>Name</th>\n",
       "      <th>Sex</th>\n",
       "      <th>Age</th>\n",
       "      <th>SibSp</th>\n",
       "      <th>Parch</th>\n",
       "      <th>Ticket</th>\n",
       "      <th>Fare</th>\n",
       "      <th>Cabin</th>\n",
       "      <th>Embarked</th>\n",
       "      <th>Famsize</th>\n",
       "      <th>Famsize_grp</th>\n",
       "      <th>Child</th>\n",
       "      <th>Mother</th>\n",
       "    </tr>\n",
       "  </thead>\n",
       "  <tbody>\n",
       "    <tr>\n",
       "      <th>0</th>\n",
       "      <td>1</td>\n",
       "      <td>0</td>\n",
       "      <td>3</td>\n",
       "      <td>Mr.</td>\n",
       "      <td>male</td>\n",
       "      <td>22.0</td>\n",
       "      <td>1</td>\n",
       "      <td>0</td>\n",
       "      <td>A/5 21171</td>\n",
       "      <td>7.2500</td>\n",
       "      <td>nonCabin</td>\n",
       "      <td>S</td>\n",
       "      <td>2</td>\n",
       "      <td>small</td>\n",
       "      <td>Adult</td>\n",
       "      <td>Not Mother</td>\n",
       "    </tr>\n",
       "    <tr>\n",
       "      <th>1</th>\n",
       "      <td>2</td>\n",
       "      <td>1</td>\n",
       "      <td>1</td>\n",
       "      <td>Mrs.</td>\n",
       "      <td>female</td>\n",
       "      <td>38.0</td>\n",
       "      <td>1</td>\n",
       "      <td>0</td>\n",
       "      <td>PC 17599</td>\n",
       "      <td>71.2833</td>\n",
       "      <td>hasCabin</td>\n",
       "      <td>C</td>\n",
       "      <td>2</td>\n",
       "      <td>small</td>\n",
       "      <td>Adult</td>\n",
       "      <td>Not Mother</td>\n",
       "    </tr>\n",
       "    <tr>\n",
       "      <th>2</th>\n",
       "      <td>3</td>\n",
       "      <td>1</td>\n",
       "      <td>3</td>\n",
       "      <td>Miss.</td>\n",
       "      <td>female</td>\n",
       "      <td>26.0</td>\n",
       "      <td>0</td>\n",
       "      <td>0</td>\n",
       "      <td>STON/O2. 3101282</td>\n",
       "      <td>7.9250</td>\n",
       "      <td>nonCabin</td>\n",
       "      <td>S</td>\n",
       "      <td>1</td>\n",
       "      <td>singleton</td>\n",
       "      <td>Adult</td>\n",
       "      <td>Not Mother</td>\n",
       "    </tr>\n",
       "    <tr>\n",
       "      <th>3</th>\n",
       "      <td>4</td>\n",
       "      <td>1</td>\n",
       "      <td>1</td>\n",
       "      <td>Mrs.</td>\n",
       "      <td>female</td>\n",
       "      <td>35.0</td>\n",
       "      <td>1</td>\n",
       "      <td>0</td>\n",
       "      <td>113803</td>\n",
       "      <td>53.1000</td>\n",
       "      <td>hasCabin</td>\n",
       "      <td>S</td>\n",
       "      <td>2</td>\n",
       "      <td>small</td>\n",
       "      <td>Adult</td>\n",
       "      <td>Not Mother</td>\n",
       "    </tr>\n",
       "    <tr>\n",
       "      <th>4</th>\n",
       "      <td>5</td>\n",
       "      <td>0</td>\n",
       "      <td>3</td>\n",
       "      <td>Mr.</td>\n",
       "      <td>male</td>\n",
       "      <td>35.0</td>\n",
       "      <td>0</td>\n",
       "      <td>0</td>\n",
       "      <td>373450</td>\n",
       "      <td>8.0500</td>\n",
       "      <td>nonCabin</td>\n",
       "      <td>S</td>\n",
       "      <td>1</td>\n",
       "      <td>singleton</td>\n",
       "      <td>Adult</td>\n",
       "      <td>Not Mother</td>\n",
       "    </tr>\n",
       "  </tbody>\n",
       "</table>\n",
       "</div>"
      ],
      "text/plain": [
       "   PassengerId  Survived  Pclass   Name     Sex   Age  SibSp  Parch  \\\n",
       "0            1         0       3    Mr.    male  22.0      1      0   \n",
       "1            2         1       1   Mrs.  female  38.0      1      0   \n",
       "2            3         1       3  Miss.  female  26.0      0      0   \n",
       "3            4         1       1   Mrs.  female  35.0      1      0   \n",
       "4            5         0       3    Mr.    male  35.0      0      0   \n",
       "\n",
       "             Ticket     Fare     Cabin Embarked  Famsize Famsize_grp  Child  \\\n",
       "0         A/5 21171   7.2500  nonCabin        S        2       small  Adult   \n",
       "1          PC 17599  71.2833  hasCabin        C        2       small  Adult   \n",
       "2  STON/O2. 3101282   7.9250  nonCabin        S        1   singleton  Adult   \n",
       "3            113803  53.1000  hasCabin        S        2       small  Adult   \n",
       "4            373450   8.0500  nonCabin        S        1   singleton  Adult   \n",
       "\n",
       "       Mother  \n",
       "0  Not Mother  \n",
       "1  Not Mother  \n",
       "2  Not Mother  \n",
       "3  Not Mother  \n",
       "4  Not Mother  "
      ]
     },
     "execution_count": 89,
     "metadata": {},
     "output_type": "execute_result"
    }
   ],
   "source": [
    "train.head()"
   ]
  },
  {
   "cell_type": "code",
   "execution_count": 90,
   "metadata": {},
   "outputs": [
    {
     "data": {
      "text/html": [
       "<div>\n",
       "<style scoped>\n",
       "    .dataframe tbody tr th:only-of-type {\n",
       "        vertical-align: middle;\n",
       "    }\n",
       "\n",
       "    .dataframe tbody tr th {\n",
       "        vertical-align: top;\n",
       "    }\n",
       "\n",
       "    .dataframe thead th {\n",
       "        text-align: right;\n",
       "    }\n",
       "</style>\n",
       "<table border=\"1\" class=\"dataframe\">\n",
       "  <thead>\n",
       "    <tr style=\"text-align: right;\">\n",
       "      <th></th>\n",
       "      <th>Pclass</th>\n",
       "      <th>Name</th>\n",
       "      <th>Sex</th>\n",
       "      <th>Age</th>\n",
       "      <th>Fare</th>\n",
       "      <th>Cabin</th>\n",
       "      <th>Embarked</th>\n",
       "      <th>Famsize_grp</th>\n",
       "    </tr>\n",
       "  </thead>\n",
       "  <tbody>\n",
       "    <tr>\n",
       "      <th>0</th>\n",
       "      <td>3</td>\n",
       "      <td>Mr.</td>\n",
       "      <td>male</td>\n",
       "      <td>22.0</td>\n",
       "      <td>7.2500</td>\n",
       "      <td>nonCabin</td>\n",
       "      <td>S</td>\n",
       "      <td>small</td>\n",
       "    </tr>\n",
       "    <tr>\n",
       "      <th>1</th>\n",
       "      <td>1</td>\n",
       "      <td>Mrs.</td>\n",
       "      <td>female</td>\n",
       "      <td>38.0</td>\n",
       "      <td>71.2833</td>\n",
       "      <td>hasCabin</td>\n",
       "      <td>C</td>\n",
       "      <td>small</td>\n",
       "    </tr>\n",
       "    <tr>\n",
       "      <th>2</th>\n",
       "      <td>3</td>\n",
       "      <td>Miss.</td>\n",
       "      <td>female</td>\n",
       "      <td>26.0</td>\n",
       "      <td>7.9250</td>\n",
       "      <td>nonCabin</td>\n",
       "      <td>S</td>\n",
       "      <td>singleton</td>\n",
       "    </tr>\n",
       "    <tr>\n",
       "      <th>3</th>\n",
       "      <td>1</td>\n",
       "      <td>Mrs.</td>\n",
       "      <td>female</td>\n",
       "      <td>35.0</td>\n",
       "      <td>53.1000</td>\n",
       "      <td>hasCabin</td>\n",
       "      <td>S</td>\n",
       "      <td>small</td>\n",
       "    </tr>\n",
       "    <tr>\n",
       "      <th>4</th>\n",
       "      <td>3</td>\n",
       "      <td>Mr.</td>\n",
       "      <td>male</td>\n",
       "      <td>35.0</td>\n",
       "      <td>8.0500</td>\n",
       "      <td>nonCabin</td>\n",
       "      <td>S</td>\n",
       "      <td>singleton</td>\n",
       "    </tr>\n",
       "  </tbody>\n",
       "</table>\n",
       "</div>"
      ],
      "text/plain": [
       "   Pclass   Name     Sex   Age     Fare     Cabin Embarked Famsize_grp\n",
       "0       3    Mr.    male  22.0   7.2500  nonCabin        S       small\n",
       "1       1   Mrs.  female  38.0  71.2833  hasCabin        C       small\n",
       "2       3  Miss.  female  26.0   7.9250  nonCabin        S   singleton\n",
       "3       1   Mrs.  female  35.0  53.1000  hasCabin        S       small\n",
       "4       3    Mr.    male  35.0   8.0500  nonCabin        S   singleton"
      ]
     },
     "execution_count": 90,
     "metadata": {},
     "output_type": "execute_result"
    }
   ],
   "source": [
    "# keep a list of the features that we are going to train in catboost\n",
    "features = list(train.drop(['Survived','PassengerId','Ticket',\n",
    "                           'SibSp','Parch','Child','Mother','Famsize'], \n",
    "                           axis=1))\n",
    "train[features].head()"
   ]
  },
  {
   "cell_type": "code",
   "execution_count": 91,
   "metadata": {
    "scrolled": true
   },
   "outputs": [
    {
     "data": {
      "text/plain": [
       "array([0, 1, 2, 5, 6, 7])"
      ]
     },
     "execution_count": 91,
     "metadata": {},
     "output_type": "execute_result"
    }
   ],
   "source": [
    "# build an array of categorical feature indices to feed into catboost\n",
    "titanic_categories = np.where(np.isin(features, ['Age', 'Fare'], \n",
    "                                      invert=True))[0]\n",
    "titanic_categories"
   ]
  },
  {
   "cell_type": "markdown",
   "metadata": {},
   "source": [
    "### CatBoostClassifier.randomized_search() function"
   ]
  },
  {
   "cell_type": "code",
   "execution_count": 94,
   "metadata": {},
   "outputs": [],
   "source": [
    "# Set the seed\n",
    "SEED = 122"
   ]
  },
  {
   "cell_type": "code",
   "execution_count": 95,
   "metadata": {
    "scrolled": false
   },
   "outputs": [],
   "source": [
    "from catboost import CatBoostClassifier, cv, Pool\n",
    "from sklearn.model_selection import train_test_split\n",
    "\n",
    "X_train, X_test, y_train, y_test = train_test_split(train[features], \n",
    "                                                    train['Survived'], \n",
    "                                                    test_size=0.3, \n",
    "                                                    random_state=SEED,\n",
    "                                                    stratify=train['Survived']) \n"
   ]
  },
  {
   "cell_type": "code",
   "execution_count": 96,
   "metadata": {
    "scrolled": true
   },
   "outputs": [
    {
     "name": "stdout",
     "output_type": "stream",
     "text": [
      "0:\tloss: 0.8480000\tbest: 0.8480000 (0)\ttotal: 188ms\tremaining: 37.5s\n",
      "1:\tloss: 0.8400000\tbest: 0.8480000 (0)\ttotal: 237ms\tremaining: 23.5s\n",
      "2:\tloss: 0.8560000\tbest: 0.8560000 (2)\ttotal: 659ms\tremaining: 43.3s\n",
      "3:\tloss: 0.8560000\tbest: 0.8560000 (2)\ttotal: 1.02s\tremaining: 50.2s\n",
      "4:\tloss: 0.8480000\tbest: 0.8560000 (2)\ttotal: 1.51s\tremaining: 58.8s\n",
      "5:\tloss: 0.8480000\tbest: 0.8560000 (2)\ttotal: 2.03s\tremaining: 1m 5s\n",
      "6:\tloss: 0.8800000\tbest: 0.8800000 (6)\ttotal: 2.91s\tremaining: 1m 20s\n",
      "7:\tloss: 0.8560000\tbest: 0.8800000 (6)\ttotal: 3.54s\tremaining: 1m 25s\n",
      "8:\tloss: 0.8560000\tbest: 0.8800000 (6)\ttotal: 6.06s\tremaining: 2m 8s\n",
      "9:\tloss: 0.8480000\tbest: 0.8800000 (6)\ttotal: 6.62s\tremaining: 2m 5s\n",
      "10:\tloss: 0.8480000\tbest: 0.8800000 (6)\ttotal: 11s\tremaining: 3m 8s\n",
      "11:\tloss: 0.8640000\tbest: 0.8800000 (6)\ttotal: 15.1s\tremaining: 3m 56s\n",
      "12:\tloss: 0.8480000\tbest: 0.8800000 (6)\ttotal: 15.1s\tremaining: 3m 37s\n",
      "13:\tloss: 0.8480000\tbest: 0.8800000 (6)\ttotal: 15.2s\tremaining: 3m 22s\n",
      "14:\tloss: 0.8480000\tbest: 0.8800000 (6)\ttotal: 15.3s\tremaining: 3m 8s\n",
      "15:\tloss: 0.8560000\tbest: 0.8800000 (6)\ttotal: 15.5s\tremaining: 2m 57s\n",
      "16:\tloss: 0.8640000\tbest: 0.8800000 (6)\ttotal: 16s\tremaining: 2m 52s\n",
      "17:\tloss: 0.8480000\tbest: 0.8800000 (6)\ttotal: 17.2s\tremaining: 2m 53s\n",
      "18:\tloss: 0.8560000\tbest: 0.8800000 (6)\ttotal: 18.6s\tremaining: 2m 56s\n",
      "19:\tloss: 0.8560000\tbest: 0.8800000 (6)\ttotal: 18.8s\tremaining: 2m 48s\n",
      "20:\tloss: 0.8560000\tbest: 0.8800000 (6)\ttotal: 19.1s\tremaining: 2m 42s\n",
      "21:\tloss: 0.8720000\tbest: 0.8800000 (6)\ttotal: 19.5s\tremaining: 2m 37s\n",
      "22:\tloss: 0.8480000\tbest: 0.8800000 (6)\ttotal: 20s\tremaining: 2m 34s\n",
      "23:\tloss: 0.8560000\tbest: 0.8800000 (6)\ttotal: 20.6s\tremaining: 2m 30s\n",
      "24:\tloss: 0.8480000\tbest: 0.8800000 (6)\ttotal: 20.7s\tremaining: 2m 24s\n",
      "25:\tloss: 0.8560000\tbest: 0.8800000 (6)\ttotal: 20.9s\tremaining: 2m 20s\n",
      "26:\tloss: 0.8560000\tbest: 0.8800000 (6)\ttotal: 21.4s\tremaining: 2m 16s\n",
      "27:\tloss: 0.8640000\tbest: 0.8800000 (6)\ttotal: 21.7s\tremaining: 2m 13s\n",
      "28:\tloss: 0.8560000\tbest: 0.8800000 (6)\ttotal: 22.4s\tremaining: 2m 12s\n",
      "29:\tloss: 0.8480000\tbest: 0.8800000 (6)\ttotal: 25s\tremaining: 2m 21s\n",
      "30:\tloss: 0.8560000\tbest: 0.8800000 (6)\ttotal: 26.1s\tremaining: 2m 22s\n",
      "31:\tloss: 0.8480000\tbest: 0.8800000 (6)\ttotal: 26.2s\tremaining: 2m 17s\n",
      "32:\tloss: 0.8720000\tbest: 0.8800000 (6)\ttotal: 26.6s\tremaining: 2m 14s\n",
      "33:\tloss: 0.8560000\tbest: 0.8800000 (6)\ttotal: 27.2s\tremaining: 2m 12s\n",
      "34:\tloss: 0.8640000\tbest: 0.8800000 (6)\ttotal: 27.7s\tremaining: 2m 10s\n",
      "35:\tloss: 0.8640000\tbest: 0.8800000 (6)\ttotal: 28.7s\tremaining: 2m 10s\n",
      "36:\tloss: 0.8480000\tbest: 0.8800000 (6)\ttotal: 29.6s\tremaining: 2m 10s\n",
      "37:\tloss: 0.8640000\tbest: 0.8800000 (6)\ttotal: 31.3s\tremaining: 2m 13s\n",
      "38:\tloss: 0.8560000\tbest: 0.8800000 (6)\ttotal: 31.4s\tremaining: 2m 9s\n",
      "39:\tloss: 0.8560000\tbest: 0.8800000 (6)\ttotal: 32.1s\tremaining: 2m 8s\n",
      "40:\tloss: 0.8560000\tbest: 0.8800000 (6)\ttotal: 32.6s\tremaining: 2m 6s\n",
      "41:\tloss: 0.8560000\tbest: 0.8800000 (6)\ttotal: 32.7s\tremaining: 2m 3s\n",
      "42:\tloss: 0.8560000\tbest: 0.8800000 (6)\ttotal: 33s\tremaining: 2m\n",
      "43:\tloss: 0.8480000\tbest: 0.8800000 (6)\ttotal: 33.4s\tremaining: 1m 58s\n",
      "44:\tloss: 0.8480000\tbest: 0.8800000 (6)\ttotal: 33.9s\tremaining: 1m 56s\n",
      "45:\tloss: 0.8560000\tbest: 0.8800000 (6)\ttotal: 34.7s\tremaining: 1m 56s\n",
      "46:\tloss: 0.8560000\tbest: 0.8800000 (6)\ttotal: 34.8s\tremaining: 1m 53s\n",
      "47:\tloss: 0.8560000\tbest: 0.8800000 (6)\ttotal: 35s\tremaining: 1m 50s\n",
      "48:\tloss: 0.8720000\tbest: 0.8800000 (6)\ttotal: 35.7s\tremaining: 1m 50s\n",
      "49:\tloss: 0.8720000\tbest: 0.8800000 (6)\ttotal: 36.5s\tremaining: 1m 49s\n",
      "50:\tloss: 0.8720000\tbest: 0.8800000 (6)\ttotal: 39.7s\tremaining: 1m 55s\n",
      "51:\tloss: 0.8400000\tbest: 0.8800000 (6)\ttotal: 40.2s\tremaining: 1m 54s\n",
      "52:\tloss: 0.8560000\tbest: 0.8800000 (6)\ttotal: 43s\tremaining: 1m 59s\n",
      "53:\tloss: 0.8640000\tbest: 0.8800000 (6)\ttotal: 43.7s\tremaining: 1m 58s\n",
      "54:\tloss: 0.8560000\tbest: 0.8800000 (6)\ttotal: 47.8s\tremaining: 2m 6s\n",
      "55:\tloss: 0.8640000\tbest: 0.8800000 (6)\ttotal: 47.9s\tremaining: 2m 3s\n",
      "56:\tloss: 0.8400000\tbest: 0.8800000 (6)\ttotal: 51.2s\tremaining: 2m 8s\n",
      "57:\tloss: 0.8480000\tbest: 0.8800000 (6)\ttotal: 51.4s\tremaining: 2m 5s\n",
      "58:\tloss: 0.8640000\tbest: 0.8800000 (6)\ttotal: 51.7s\tremaining: 2m 3s\n",
      "59:\tloss: 0.8560000\tbest: 0.8800000 (6)\ttotal: 53.6s\tremaining: 2m 5s\n",
      "60:\tloss: 0.8400000\tbest: 0.8800000 (6)\ttotal: 54.2s\tremaining: 2m 3s\n",
      "61:\tloss: 0.8560000\tbest: 0.8800000 (6)\ttotal: 55.3s\tremaining: 2m 3s\n",
      "62:\tloss: 0.8640000\tbest: 0.8800000 (6)\ttotal: 58s\tremaining: 2m 6s\n",
      "63:\tloss: 0.8640000\tbest: 0.8800000 (6)\ttotal: 1m 1s\tremaining: 2m 9s\n",
      "64:\tloss: 0.8560000\tbest: 0.8800000 (6)\ttotal: 1m 2s\tremaining: 2m 9s\n",
      "65:\tloss: 0.8480000\tbest: 0.8800000 (6)\ttotal: 1m 2s\tremaining: 2m 7s\n",
      "66:\tloss: 0.8560000\tbest: 0.8800000 (6)\ttotal: 1m 4s\tremaining: 2m 8s\n",
      "67:\tloss: 0.8560000\tbest: 0.8800000 (6)\ttotal: 1m 4s\tremaining: 2m 5s\n",
      "68:\tloss: 0.8400000\tbest: 0.8800000 (6)\ttotal: 1m 5s\tremaining: 2m 4s\n",
      "69:\tloss: 0.8800000\tbest: 0.8800000 (6)\ttotal: 1m 5s\tremaining: 2m 1s\n",
      "70:\tloss: 0.8480000\tbest: 0.8800000 (6)\ttotal: 1m 7s\tremaining: 2m 2s\n",
      "71:\tloss: 0.8560000\tbest: 0.8800000 (6)\ttotal: 1m 8s\tremaining: 2m 2s\n",
      "72:\tloss: 0.8480000\tbest: 0.8800000 (6)\ttotal: 1m 10s\tremaining: 2m 2s\n",
      "73:\tloss: 0.8480000\tbest: 0.8800000 (6)\ttotal: 1m 13s\tremaining: 2m 5s\n",
      "74:\tloss: 0.8560000\tbest: 0.8800000 (6)\ttotal: 1m 13s\tremaining: 2m 3s\n",
      "75:\tloss: 0.8560000\tbest: 0.8800000 (6)\ttotal: 1m 14s\tremaining: 2m 1s\n",
      "76:\tloss: 0.8560000\tbest: 0.8800000 (6)\ttotal: 1m 14s\tremaining: 1m 59s\n",
      "77:\tloss: 0.8640000\tbest: 0.8800000 (6)\ttotal: 1m 15s\tremaining: 1m 57s\n",
      "78:\tloss: 0.8720000\tbest: 0.8800000 (6)\ttotal: 1m 15s\tremaining: 1m 55s\n",
      "79:\tloss: 0.8480000\tbest: 0.8800000 (6)\ttotal: 1m 17s\tremaining: 1m 55s\n",
      "80:\tloss: 0.8480000\tbest: 0.8800000 (6)\ttotal: 1m 17s\tremaining: 1m 53s\n",
      "81:\tloss: 0.8640000\tbest: 0.8800000 (6)\ttotal: 1m 18s\tremaining: 1m 52s\n",
      "82:\tloss: 0.8720000\tbest: 0.8800000 (6)\ttotal: 1m 19s\tremaining: 1m 51s\n",
      "83:\tloss: 0.8480000\tbest: 0.8800000 (6)\ttotal: 1m 19s\tremaining: 1m 50s\n",
      "84:\tloss: 0.8480000\tbest: 0.8800000 (6)\ttotal: 1m 20s\tremaining: 1m 48s\n",
      "85:\tloss: 0.8480000\tbest: 0.8800000 (6)\ttotal: 1m 20s\tremaining: 1m 46s\n",
      "86:\tloss: 0.8560000\tbest: 0.8800000 (6)\ttotal: 1m 20s\tremaining: 1m 44s\n",
      "87:\tloss: 0.8560000\tbest: 0.8800000 (6)\ttotal: 1m 21s\tremaining: 1m 43s\n",
      "88:\tloss: 0.8560000\tbest: 0.8800000 (6)\ttotal: 1m 21s\tremaining: 1m 41s\n",
      "89:\tloss: 0.8480000\tbest: 0.8800000 (6)\ttotal: 1m 23s\tremaining: 1m 42s\n",
      "90:\tloss: 0.8480000\tbest: 0.8800000 (6)\ttotal: 1m 25s\tremaining: 1m 42s\n",
      "91:\tloss: 0.8480000\tbest: 0.8800000 (6)\ttotal: 1m 26s\tremaining: 1m 41s\n",
      "92:\tloss: 0.8560000\tbest: 0.8800000 (6)\ttotal: 1m 26s\tremaining: 1m 39s\n",
      "93:\tloss: 0.8560000\tbest: 0.8800000 (6)\ttotal: 1m 27s\tremaining: 1m 38s\n",
      "94:\tloss: 0.8480000\tbest: 0.8800000 (6)\ttotal: 1m 28s\tremaining: 1m 37s\n",
      "95:\tloss: 0.8560000\tbest: 0.8800000 (6)\ttotal: 1m 30s\tremaining: 1m 37s\n",
      "96:\tloss: 0.8480000\tbest: 0.8800000 (6)\ttotal: 1m 31s\tremaining: 1m 37s\n",
      "97:\tloss: 0.8560000\tbest: 0.8800000 (6)\ttotal: 1m 31s\tremaining: 1m 35s\n",
      "98:\tloss: 0.8560000\tbest: 0.8800000 (6)\ttotal: 1m 33s\tremaining: 1m 35s\n",
      "99:\tloss: 0.8480000\tbest: 0.8800000 (6)\ttotal: 1m 35s\tremaining: 1m 35s\n",
      "100:\tloss: 0.8480000\tbest: 0.8800000 (6)\ttotal: 1m 35s\tremaining: 1m 33s\n",
      "101:\tloss: 0.8640000\tbest: 0.8800000 (6)\ttotal: 1m 36s\tremaining: 1m 32s\n",
      "102:\tloss: 0.8480000\tbest: 0.8800000 (6)\ttotal: 1m 36s\tremaining: 1m 30s\n",
      "103:\tloss: 0.8640000\tbest: 0.8800000 (6)\ttotal: 1m 36s\tremaining: 1m 29s\n",
      "104:\tloss: 0.8640000\tbest: 0.8800000 (6)\ttotal: 1m 38s\tremaining: 1m 28s\n",
      "105:\tloss: 0.8560000\tbest: 0.8800000 (6)\ttotal: 1m 39s\tremaining: 1m 28s\n",
      "106:\tloss: 0.8640000\tbest: 0.8800000 (6)\ttotal: 1m 39s\tremaining: 1m 26s\n",
      "107:\tloss: 0.8560000\tbest: 0.8800000 (6)\ttotal: 1m 39s\tremaining: 1m 24s\n",
      "108:\tloss: 0.8640000\tbest: 0.8800000 (6)\ttotal: 1m 39s\tremaining: 1m 23s\n",
      "109:\tloss: 0.8560000\tbest: 0.8800000 (6)\ttotal: 1m 40s\tremaining: 1m 22s\n",
      "110:\tloss: 0.8480000\tbest: 0.8800000 (6)\ttotal: 1m 41s\tremaining: 1m 21s\n",
      "111:\tloss: 0.8720000\tbest: 0.8800000 (6)\ttotal: 1m 41s\tremaining: 1m 19s\n",
      "112:\tloss: 0.8480000\tbest: 0.8800000 (6)\ttotal: 1m 42s\tremaining: 1m 18s\n",
      "113:\tloss: 0.8640000\tbest: 0.8800000 (6)\ttotal: 1m 42s\tremaining: 1m 17s\n",
      "114:\tloss: 0.8560000\tbest: 0.8800000 (6)\ttotal: 1m 43s\tremaining: 1m 16s\n",
      "115:\tloss: 0.8320000\tbest: 0.8800000 (6)\ttotal: 1m 43s\tremaining: 1m 15s\n",
      "116:\tloss: 0.8480000\tbest: 0.8800000 (6)\ttotal: 1m 43s\tremaining: 1m 13s\n"
     ]
    },
    {
     "name": "stdout",
     "output_type": "stream",
     "text": [
      "117:\tloss: 0.8560000\tbest: 0.8800000 (6)\ttotal: 1m 43s\tremaining: 1m 12s\n",
      "118:\tloss: 0.8480000\tbest: 0.8800000 (6)\ttotal: 1m 44s\tremaining: 1m 11s\n",
      "119:\tloss: 0.8640000\tbest: 0.8800000 (6)\ttotal: 1m 46s\tremaining: 1m 10s\n",
      "120:\tloss: 0.8640000\tbest: 0.8800000 (6)\ttotal: 1m 47s\tremaining: 1m 9s\n",
      "121:\tloss: 0.8480000\tbest: 0.8800000 (6)\ttotal: 1m 47s\tremaining: 1m 8s\n",
      "122:\tloss: 0.8560000\tbest: 0.8800000 (6)\ttotal: 1m 48s\tremaining: 1m 7s\n",
      "123:\tloss: 0.8320000\tbest: 0.8800000 (6)\ttotal: 1m 48s\tremaining: 1m 6s\n",
      "124:\tloss: 0.8560000\tbest: 0.8800000 (6)\ttotal: 1m 48s\tremaining: 1m 5s\n",
      "125:\tloss: 0.8480000\tbest: 0.8800000 (6)\ttotal: 1m 48s\tremaining: 1m 3s\n",
      "126:\tloss: 0.8720000\tbest: 0.8800000 (6)\ttotal: 1m 49s\tremaining: 1m 2s\n",
      "127:\tloss: 0.8480000\tbest: 0.8800000 (6)\ttotal: 1m 49s\tremaining: 1m 1s\n",
      "128:\tloss: 0.8560000\tbest: 0.8800000 (6)\ttotal: 1m 51s\tremaining: 1m 1s\n",
      "129:\tloss: 0.8480000\tbest: 0.8800000 (6)\ttotal: 1m 51s\tremaining: 1m\n",
      "130:\tloss: 0.8560000\tbest: 0.8800000 (6)\ttotal: 1m 52s\tremaining: 59.3s\n",
      "131:\tloss: 0.8560000\tbest: 0.8800000 (6)\ttotal: 1m 53s\tremaining: 58.5s\n",
      "132:\tloss: 0.8480000\tbest: 0.8800000 (6)\ttotal: 1m 54s\tremaining: 57.8s\n",
      "133:\tloss: 0.8560000\tbest: 0.8800000 (6)\ttotal: 1m 55s\tremaining: 57s\n",
      "134:\tloss: 0.8480000\tbest: 0.8800000 (6)\ttotal: 1m 56s\tremaining: 56.2s\n",
      "135:\tloss: 0.8560000\tbest: 0.8800000 (6)\ttotal: 1m 56s\tremaining: 55s\n",
      "136:\tloss: 0.8560000\tbest: 0.8800000 (6)\ttotal: 1m 56s\tremaining: 53.8s\n",
      "137:\tloss: 0.8400000\tbest: 0.8800000 (6)\ttotal: 1m 57s\tremaining: 52.7s\n",
      "138:\tloss: 0.8480000\tbest: 0.8800000 (6)\ttotal: 1m 59s\tremaining: 52.5s\n",
      "139:\tloss: 0.8400000\tbest: 0.8800000 (6)\ttotal: 2m\tremaining: 51.4s\n",
      "140:\tloss: 0.8640000\tbest: 0.8800000 (6)\ttotal: 2m\tremaining: 50.5s\n",
      "141:\tloss: 0.8480000\tbest: 0.8800000 (6)\ttotal: 2m 1s\tremaining: 49.6s\n",
      "142:\tloss: 0.8560000\tbest: 0.8800000 (6)\ttotal: 2m 2s\tremaining: 48.9s\n",
      "143:\tloss: 0.8560000\tbest: 0.8800000 (6)\ttotal: 2m 3s\tremaining: 48s\n",
      "144:\tloss: 0.8720000\tbest: 0.8800000 (6)\ttotal: 2m 6s\tremaining: 47.9s\n",
      "145:\tloss: 0.8800000\tbest: 0.8800000 (6)\ttotal: 2m 7s\tremaining: 47.2s\n",
      "146:\tloss: 0.8400000\tbest: 0.8800000 (6)\ttotal: 2m 11s\tremaining: 47.5s\n",
      "147:\tloss: 0.8560000\tbest: 0.8800000 (6)\ttotal: 2m 12s\tremaining: 46.6s\n",
      "148:\tloss: 0.8480000\tbest: 0.8800000 (6)\ttotal: 2m 16s\tremaining: 46.8s\n",
      "149:\tloss: 0.8560000\tbest: 0.8800000 (6)\ttotal: 2m 17s\tremaining: 45.9s\n",
      "150:\tloss: 0.8400000\tbest: 0.8800000 (6)\ttotal: 2m 17s\tremaining: 44.8s\n",
      "151:\tloss: 0.8480000\tbest: 0.8800000 (6)\ttotal: 2m 19s\tremaining: 43.9s\n",
      "152:\tloss: 0.8560000\tbest: 0.8800000 (6)\ttotal: 2m 20s\tremaining: 43.2s\n",
      "153:\tloss: 0.8720000\tbest: 0.8800000 (6)\ttotal: 2m 24s\tremaining: 43.1s\n",
      "154:\tloss: 0.8560000\tbest: 0.8800000 (6)\ttotal: 2m 25s\tremaining: 42.4s\n",
      "155:\tloss: 0.8480000\tbest: 0.8800000 (6)\ttotal: 2m 25s\tremaining: 41.2s\n",
      "156:\tloss: 0.8400000\tbest: 0.8800000 (6)\ttotal: 2m 26s\tremaining: 40.2s\n",
      "157:\tloss: 0.8640000\tbest: 0.8800000 (6)\ttotal: 2m 29s\tremaining: 39.6s\n",
      "158:\tloss: 0.8480000\tbest: 0.8800000 (6)\ttotal: 2m 29s\tremaining: 38.6s\n",
      "159:\tloss: 0.8640000\tbest: 0.8800000 (6)\ttotal: 2m 31s\tremaining: 37.8s\n",
      "160:\tloss: 0.8480000\tbest: 0.8800000 (6)\ttotal: 2m 31s\tremaining: 36.7s\n",
      "161:\tloss: 0.8640000\tbest: 0.8800000 (6)\ttotal: 2m 31s\tremaining: 35.6s\n",
      "162:\tloss: 0.8560000\tbest: 0.8800000 (6)\ttotal: 2m 32s\tremaining: 34.6s\n",
      "163:\tloss: 0.8640000\tbest: 0.8800000 (6)\ttotal: 2m 32s\tremaining: 33.5s\n",
      "164:\tloss: 0.8560000\tbest: 0.8800000 (6)\ttotal: 2m 33s\tremaining: 32.6s\n",
      "165:\tloss: 0.8560000\tbest: 0.8800000 (6)\ttotal: 2m 34s\tremaining: 31.6s\n",
      "166:\tloss: 0.8640000\tbest: 0.8800000 (6)\ttotal: 2m 34s\tremaining: 30.5s\n",
      "167:\tloss: 0.8640000\tbest: 0.8800000 (6)\ttotal: 2m 35s\tremaining: 29.6s\n",
      "168:\tloss: 0.8480000\tbest: 0.8800000 (6)\ttotal: 2m 37s\tremaining: 28.9s\n",
      "169:\tloss: 0.8480000\tbest: 0.8800000 (6)\ttotal: 2m 41s\tremaining: 28.4s\n",
      "170:\tloss: 0.8480000\tbest: 0.8800000 (6)\ttotal: 2m 41s\tremaining: 27.5s\n",
      "171:\tloss: 0.8480000\tbest: 0.8800000 (6)\ttotal: 2m 42s\tremaining: 26.4s\n",
      "172:\tloss: 0.8480000\tbest: 0.8800000 (6)\ttotal: 2m 43s\tremaining: 25.4s\n",
      "173:\tloss: 0.8400000\tbest: 0.8800000 (6)\ttotal: 2m 44s\tremaining: 24.6s\n",
      "174:\tloss: 0.8800000\tbest: 0.8800000 (6)\ttotal: 2m 48s\tremaining: 24s\n",
      "175:\tloss: 0.8480000\tbest: 0.8800000 (6)\ttotal: 2m 49s\tremaining: 23.1s\n",
      "176:\tloss: 0.8560000\tbest: 0.8800000 (6)\ttotal: 2m 50s\tremaining: 22.1s\n",
      "177:\tloss: 0.8560000\tbest: 0.8800000 (6)\ttotal: 2m 50s\tremaining: 21s\n",
      "178:\tloss: 0.8480000\tbest: 0.8800000 (6)\ttotal: 2m 50s\tremaining: 20s\n",
      "179:\tloss: 0.8480000\tbest: 0.8800000 (6)\ttotal: 2m 50s\tremaining: 19s\n",
      "180:\tloss: 0.8560000\tbest: 0.8800000 (6)\ttotal: 2m 51s\tremaining: 18s\n",
      "181:\tloss: 0.8560000\tbest: 0.8800000 (6)\ttotal: 2m 52s\tremaining: 17.1s\n",
      "182:\tloss: 0.8400000\tbest: 0.8800000 (6)\ttotal: 2m 53s\tremaining: 16.1s\n",
      "183:\tloss: 0.8560000\tbest: 0.8800000 (6)\ttotal: 2m 53s\tremaining: 15.1s\n",
      "184:\tloss: 0.8480000\tbest: 0.8800000 (6)\ttotal: 2m 54s\tremaining: 14.1s\n",
      "185:\tloss: 0.8480000\tbest: 0.8800000 (6)\ttotal: 2m 54s\tremaining: 13.2s\n",
      "186:\tloss: 0.8400000\tbest: 0.8800000 (6)\ttotal: 2m 55s\tremaining: 12.2s\n",
      "187:\tloss: 0.8480000\tbest: 0.8800000 (6)\ttotal: 2m 55s\tremaining: 11.2s\n",
      "188:\tloss: 0.8560000\tbest: 0.8800000 (6)\ttotal: 2m 57s\tremaining: 10.3s\n",
      "189:\tloss: 0.8240000\tbest: 0.8800000 (6)\ttotal: 2m 57s\tremaining: 9.35s\n",
      "190:\tloss: 0.8640000\tbest: 0.8800000 (6)\ttotal: 2m 57s\tremaining: 8.38s\n",
      "191:\tloss: 0.8480000\tbest: 0.8800000 (6)\ttotal: 3m\tremaining: 7.52s\n",
      "192:\tloss: 0.8560000\tbest: 0.8800000 (6)\ttotal: 3m 1s\tremaining: 6.59s\n",
      "193:\tloss: 0.8480000\tbest: 0.8800000 (6)\ttotal: 3m 2s\tremaining: 5.65s\n",
      "194:\tloss: 0.8560000\tbest: 0.8800000 (6)\ttotal: 3m 3s\tremaining: 4.7s\n",
      "195:\tloss: 0.8640000\tbest: 0.8800000 (6)\ttotal: 3m 3s\tremaining: 3.75s\n",
      "196:\tloss: 0.8640000\tbest: 0.8800000 (6)\ttotal: 3m 3s\tremaining: 2.8s\n",
      "197:\tloss: 0.8640000\tbest: 0.8800000 (6)\ttotal: 3m 4s\tremaining: 1.86s\n",
      "198:\tloss: 0.8480000\tbest: 0.8800000 (6)\ttotal: 3m 5s\tremaining: 931ms\n",
      "199:\tloss: 0.8640000\tbest: 0.8800000 (6)\ttotal: 3m 6s\tremaining: 0us\n",
      "Estimating final quality...\n"
     ]
    }
   ],
   "source": [
    "# Do a randomized search in the hyperparameter space\n",
    "\n",
    "params = {'iterations': np.arange(50, 551, 20),\n",
    "        'learning_rate': [0.01, 0.03, 0.05, 0.1, 0.15, 0.2, 0.3],\n",
    "        'depth': np.arange(3, 10, 2),\n",
    "        'min_child_samples': [1, 3, 5, 7],\n",
    "        'subsample': np.arange(0.7, 1.001, 0.01),\n",
    "        'rsm': np.arange(0.7, 1.001, 0.01), # similar to colsample_bylevel\n",
    "        'l2_leaf_reg': np.arange(0.5, 1.001, 0.1),\n",
    "        'random_seed': np.arange(100, 201)\n",
    "         }\n",
    "\n",
    "model = CatBoostClassifier(loss_function='Logloss', \n",
    "                           eval_metric='Accuracy',\n",
    "                           cat_features=titanic_categories)\n",
    "\n",
    "result = model.randomized_search(params, \n",
    "                            partition_random_seed=np.random.randint(1000),\n",
    "                                 X=X_train, y=y_train,\n",
    "                                 cv=5, n_iter=200, stratified=True)\n"
   ]
  },
  {
   "cell_type": "code",
   "execution_count": 97,
   "metadata": {
    "scrolled": true
   },
   "outputs": [
    {
     "data": {
      "text/plain": [
       "{'min_data_in_leaf': 5,\n",
       " 'random_seed': 193,\n",
       " 'depth': 5,\n",
       " 'iterations': 410,\n",
       " 'subsample': 0.73,\n",
       " 'rsm': 0.7,\n",
       " 'learning_rate': 0.1,\n",
       " 'l2_leaf_reg': 0.5}"
      ]
     },
     "execution_count": 97,
     "metadata": {},
     "output_type": "execute_result"
    }
   ],
   "source": [
    "best_param = result['params']\n",
    "best_param"
   ]
  },
  {
   "cell_type": "code",
   "execution_count": 98,
   "metadata": {},
   "outputs": [
    {
     "data": {
      "text/plain": [
       "array([0, 1, 0, 0, 0])"
      ]
     },
     "execution_count": 98,
     "metadata": {},
     "output_type": "execute_result"
    }
   ],
   "source": [
    "cat_pred = model.predict(X_test)\n",
    "cat_pred[:5]"
   ]
  },
  {
   "cell_type": "code",
   "execution_count": 99,
   "metadata": {
    "scrolled": true
   },
   "outputs": [
    {
     "data": {
      "text/plain": [
       "0.8917910447761194"
      ]
     },
     "execution_count": 99,
     "metadata": {},
     "output_type": "execute_result"
    }
   ],
   "source": [
    "from sklearn.metrics import accuracy_score\n",
    "accuracy_score(y_test, cat_pred)"
   ]
  },
  {
   "cell_type": "code",
   "execution_count": 100,
   "metadata": {},
   "outputs": [
    {
     "name": "stdout",
     "output_type": "stream",
     "text": [
      "[[150  15]\n",
      " [ 14  89]]\n"
     ]
    },
    {
     "data": {
      "image/png": "[encoded data removed]",
      "text/plain": [
       "<Figure size 432x288 with 2 Axes>"
      ]
     },
     "metadata": {},
     "output_type": "display_data"
    }
   ],
   "source": [
    "from sklearn.metrics import confusion_matrix\n",
    "cm = confusion_matrix(y_test, cat_pred)\n",
    "print(cm)\n",
    "\n",
    "plt.figure(figsize = (6,4))\n",
    "plt.ticklabel_format(style='plain', axis='y', useOffset=False)\n",
    "sns.set(font_scale=1.4)\n",
    "sns.heatmap(cm, annot=True, annot_kws={\"size\": 16}, fmt='g',cmap='Greens')\n",
    "plt.xlabel('Predict')\n",
    "plt.ylabel('Actual')\n",
    "plt.show()"
   ]
  },
  {
   "cell_type": "markdown",
   "metadata": {},
   "source": [
    "### Train CatBoostClassifier again with best params from randomized_search() function"
   ]
  },
  {
   "cell_type": "code",
   "execution_count": 101,
   "metadata": {
    "scrolled": false
   },
   "outputs": [
    {
     "data": {
      "text/plain": [
       "{'min_data_in_leaf': 5,\n",
       " 'random_seed': 193,\n",
       " 'depth': 5,\n",
       " 'iterations': 410,\n",
       " 'subsample': 0.73,\n",
       " 'rsm': 0.7,\n",
       " 'learning_rate': 0.1,\n",
       " 'l2_leaf_reg': 0.5,\n",
       " 'loss_function': 'Logloss',\n",
       " 'eval_metric': 'Accuracy'}"
      ]
     },
     "execution_count": 101,
     "metadata": {},
     "output_type": "execute_result"
    }
   ],
   "source": [
    "best_param['loss_function'] = 'Logloss'\n",
    "best_param['eval_metric'] = 'Accuracy'\n",
    "best_param"
   ]
  },
  {
   "cell_type": "code",
   "execution_count": 102,
   "metadata": {
    "scrolled": false
   },
   "outputs": [
    {
     "name": "stdout",
     "output_type": "stream",
     "text": [
      "0:\tlearn: 0.8105939\ttotal: 3.26ms\tremaining: 1.33s\n",
      "100:\tlearn: 0.8860353\ttotal: 224ms\tremaining: 685ms\n",
      "200:\tlearn: 0.9470305\ttotal: 416ms\tremaining: 432ms\n",
      "300:\tlearn: 0.9678973\ttotal: 624ms\tremaining: 226ms\n",
      "400:\tlearn: 0.9887640\ttotal: 852ms\tremaining: 19.1ms\n",
      "409:\tlearn: 0.9887640\ttotal: 878ms\tremaining: 0us\n"
     ]
    },
    {
     "data": {
      "text/plain": [
       "<catboost.core.CatBoostClassifier at 0x1255c4550>"
      ]
     },
     "execution_count": 102,
     "metadata": {},
     "output_type": "execute_result"
    }
   ],
   "source": [
    "cat_model = CatBoostClassifier(cat_features=titanic_categories,\n",
    "                               verbose=100,\n",
    "                               **best_param)\n",
    "cat_model.fit(X_train, y_train)"
   ]
  },
  {
   "cell_type": "code",
   "execution_count": 108,
   "metadata": {},
   "outputs": [
    {
     "name": "stdout",
     "output_type": "stream",
     "text": [
      "[[150  15]\n",
      " [ 14  89]]\n"
     ]
    },
    {
     "data": {
      "image/png": "[encoded data removed]",
      "text/plain": [
       "<Figure size 432x288 with 2 Axes>"
      ]
     },
     "metadata": {},
     "output_type": "display_data"
    }
   ],
   "source": [
    "# Confusion matrix\n",
    "dval_predictions = cat_model.predict(X_test)\n",
    "\n",
    "from sklearn.metrics import confusion_matrix\n",
    "cm = confusion_matrix(y_test, dval_predictions)\n",
    "print(cm)\n",
    "\n",
    "plt.figure(figsize = (6,4))\n",
    "plt.ticklabel_format(style='plain', axis='y', useOffset=False)\n",
    "sns.set(font_scale=1.4)\n",
    "sns.heatmap(cm, annot=True, annot_kws={\"size\": 16}, fmt='g',cmap='Greens')\n",
    "plt.xlabel('Predict')\n",
    "plt.ylabel('Actual')\n",
    "plt.show()"
   ]
  },
  {
   "cell_type": "code",
   "execution_count": 104,
   "metadata": {
    "scrolled": false
   },
   "outputs": [
    {
     "name": "stdout",
     "output_type": "stream",
     "text": [
      "              precision    recall  f1-score   support\n",
      "\n",
      "           0       0.91      0.91      0.91       165\n",
      "           1       0.86      0.86      0.86       103\n",
      "\n",
      "    accuracy                           0.89       268\n",
      "   macro avg       0.89      0.89      0.89       268\n",
      "weighted avg       0.89      0.89      0.89       268\n",
      "\n"
     ]
    }
   ],
   "source": [
    "from sklearn.metrics import classification_report\n",
    "print(classification_report(y_test, dval_predictions))"
   ]
  },
  {
   "cell_type": "code",
   "execution_count": 105,
   "metadata": {
    "scrolled": true
   },
   "outputs": [
    {
     "data": {
      "text/plain": [
       "array([13.57182252, 15.56787507,  5.44580672, 21.78909964, 18.04362237,\n",
       "        3.24183426, 10.09419708, 12.24574234])"
      ]
     },
     "execution_count": 105,
     "metadata": {},
     "output_type": "execute_result"
    }
   ],
   "source": [
    "cat_model.get_feature_importance()"
   ]
  },
  {
   "cell_type": "code",
   "execution_count": 106,
   "metadata": {
    "scrolled": false
   },
   "outputs": [
    {
     "data": {
      "text/html": [
       "<div>\n",
       "<style scoped>\n",
       "    .dataframe tbody tr th:only-of-type {\n",
       "        vertical-align: middle;\n",
       "    }\n",
       "\n",
       "    .dataframe tbody tr th {\n",
       "        vertical-align: top;\n",
       "    }\n",
       "\n",
       "    .dataframe thead th {\n",
       "        text-align: right;\n",
       "    }\n",
       "</style>\n",
       "<table border=\"1\" class=\"dataframe\">\n",
       "  <thead>\n",
       "    <tr style=\"text-align: right;\">\n",
       "      <th></th>\n",
       "      <th>Feature</th>\n",
       "      <th>VarImp</th>\n",
       "    </tr>\n",
       "  </thead>\n",
       "  <tbody>\n",
       "    <tr>\n",
       "      <th>3</th>\n",
       "      <td>Age</td>\n",
       "      <td>21.789100</td>\n",
       "    </tr>\n",
       "    <tr>\n",
       "      <th>4</th>\n",
       "      <td>Fare</td>\n",
       "      <td>18.043622</td>\n",
       "    </tr>\n",
       "    <tr>\n",
       "      <th>1</th>\n",
       "      <td>Name</td>\n",
       "      <td>15.567875</td>\n",
       "    </tr>\n",
       "    <tr>\n",
       "      <th>0</th>\n",
       "      <td>Pclass</td>\n",
       "      <td>13.571823</td>\n",
       "    </tr>\n",
       "    <tr>\n",
       "      <th>7</th>\n",
       "      <td>Famsize_grp</td>\n",
       "      <td>12.245742</td>\n",
       "    </tr>\n",
       "    <tr>\n",
       "      <th>6</th>\n",
       "      <td>Embarked</td>\n",
       "      <td>10.094197</td>\n",
       "    </tr>\n",
       "    <tr>\n",
       "      <th>2</th>\n",
       "      <td>Sex</td>\n",
       "      <td>5.445807</td>\n",
       "    </tr>\n",
       "    <tr>\n",
       "      <th>5</th>\n",
       "      <td>Cabin</td>\n",
       "      <td>3.241834</td>\n",
       "    </tr>\n",
       "  </tbody>\n",
       "</table>\n",
       "</div>"
      ],
      "text/plain": [
       "       Feature     VarImp\n",
       "3          Age  21.789100\n",
       "4         Fare  18.043622\n",
       "1         Name  15.567875\n",
       "0       Pclass  13.571823\n",
       "7  Famsize_grp  12.245742\n",
       "6     Embarked  10.094197\n",
       "2          Sex   5.445807\n",
       "5        Cabin   3.241834"
      ]
     },
     "execution_count": 106,
     "metadata": {},
     "output_type": "execute_result"
    }
   ],
   "source": [
    "# create a feature importance table in descending order\n",
    "\n",
    "feat_import = [t for t in zip(features, cat_model.get_feature_importance())]\n",
    "feat_import_df = pd.DataFrame(feat_import, columns=['Feature', 'VarImp'])\n",
    "feat_import_df = feat_import_df.sort_values('VarImp', ascending=False)\n",
    "feat_import_df[feat_import_df['VarImp'] > 0]"
   ]
  },
  {
   "cell_type": "code",
   "execution_count": 131,
   "metadata": {},
   "outputs": [],
   "source": [
    "# save the catboost model to a file for later retrieval \n",
    "cat_model.save_model('catmodel')"
   ]
  },
  {
   "cell_type": "code",
   "execution_count": 135,
   "metadata": {},
   "outputs": [],
   "source": [
    "# load a catboost model from file and make predictions\n",
    "\n",
    "# model_from_file = CatBoostClassifier()\n",
    "# model_from_file.load_model('catmodel')\n",
    "# model_from_file.predict(X_test)[:5]"
   ]
  },
  {
   "cell_type": "markdown",
   "metadata": {},
   "source": [
    "### RandomisedSearchCV with CatBoostClassifier  "
   ]
  },
  {
   "cell_type": "code",
   "execution_count": 423,
   "metadata": {
    "scrolled": false
   },
   "outputs": [
    {
     "name": "stdout",
     "output_type": "stream",
     "text": [
      "Fitting 5 folds for each of 200 candidates, totalling 1000 fits\n"
     ]
    },
    {
     "name": "stderr",
     "output_type": "stream",
     "text": [
      "[Parallel(n_jobs=-1)]: Using backend LokyBackend with 8 concurrent workers.\n",
      "[Parallel(n_jobs=-1)]: Done  34 tasks      | elapsed:   21.4s\n",
      "[Parallel(n_jobs=-1)]: Done 184 tasks      | elapsed:  2.6min\n",
      "[Parallel(n_jobs=-1)]: Done 434 tasks      | elapsed:  5.2min\n",
      "[Parallel(n_jobs=-1)]: Done 784 tasks      | elapsed:  9.2min\n",
      "[Parallel(n_jobs=-1)]: Done 1000 out of 1000 | elapsed: 34.2min finished\n"
     ]
    },
    {
     "data": {
      "text/plain": [
       "RandomizedSearchCV(cv=StratifiedKFold(n_splits=5, random_state=1, shuffle=True),\n",
       "                   estimator=<catboost.core.CatBoostClassifier object at 0x12fba8b38>,\n",
       "                   n_iter=200, n_jobs=-1,\n",
       "                   param_distributions={'depth': array([3, 5, 7, 9]),\n",
       "                                        'iterations': array([100, 120, 140, 160, 180, 200, 220, 240, 260, 280, 300, 320, 340,\n",
       "       360, 380, 400, 420, 440, 460, 480, 500, 520, 540, 560]),\n",
       "                                        'l2_leaf_reg': array([0....\n",
       "                                        'rsm': array([0.7 , 0.71, 0.72, 0.73, 0.74, 0.75, 0.76, 0.77, 0.78, 0.79, 0.8 ,\n",
       "       0.81, 0.82, 0.83, 0.84, 0.85, 0.86, 0.87, 0.88, 0.89, 0.9 , 0.91,\n",
       "       0.92, 0.93, 0.94, 0.95, 0.96, 0.97, 0.98, 0.99, 1.  ]),\n",
       "                                        'subsample': array([0.7 , 0.71, 0.72, 0.73, 0.74, 0.75, 0.76, 0.77, 0.78, 0.79, 0.8 ,\n",
       "       0.81, 0.82, 0.83, 0.84, 0.85, 0.86, 0.87, 0.88, 0.89, 0.9 , 0.91,\n",
       "       0.92, 0.93, 0.94, 0.95, 0.96, 0.97, 0.98, 0.99, 1.  ])},\n",
       "                   scoring='accuracy', verbose=1)"
      ]
     },
     "execution_count": 423,
     "metadata": {},
     "output_type": "execute_result"
    }
   ],
   "source": [
    "from sklearn.model_selection import RandomizedSearchCV\n",
    "from sklearn.model_selection import StratifiedKFold\n",
    "\n",
    "model = CatBoostClassifier(loss_function='Logloss', \n",
    "                           eval_metric='Accuracy',\n",
    "                           verbose=False,\n",
    "                           cat_features=titanic_categories)\n",
    "kfold = StratifiedKFold(n_splits=5, shuffle=True, random_state=1)\n",
    "\n",
    "# set the randomised search space for hyperparameters\n",
    "\n",
    "params = {'iterations': np.arange(100, 561, 20),\n",
    "          'learning_rate': [0.01, 0.03, 0.05, 0.1, 0.2, 0.3],\n",
    "        'depth': np.arange(3, 10, 2),\n",
    "        'min_child_samples': [1, 3, 5, 7],\n",
    "        'subsample': np.arange(0.7, 1.001, 0.01),\n",
    "        'rsm': np.arange(0.7, 1.001, 0.01), # similar to colsample_bylevel\n",
    "        'l2_leaf_reg': np.arange(0.5, 1.001, 0.1),\n",
    "        'random_seed': np.arange(100, 201)\n",
    "         }\n",
    "\n",
    "# randomly sample 200 hyperparameter sets from the search space and \n",
    "# train the CatBoostClassifier\n",
    "# Note that it will take quite some processing time to run through the  \n",
    "# 200 hyperparam sets in RandomizedSearchCV with CatBoostClassifier\n",
    "\n",
    "random_search = RandomizedSearchCV(model, params, cv=kfold, n_jobs=-1,\n",
    "                                  scoring='accuracy', n_iter=200,\n",
    "                                  verbose=1)\n",
    "random_search.fit(X_train, y_train)\n"
   ]
  },
  {
   "cell_type": "code",
   "execution_count": 424,
   "metadata": {
    "scrolled": false
   },
   "outputs": [
    {
     "data": {
      "text/plain": [
       "{'subsample': 0.9600000000000002,\n",
       " 'rsm': 0.8600000000000001,\n",
       " 'random_seed': 189,\n",
       " 'min_child_samples': 5,\n",
       " 'learning_rate': 0.05,\n",
       " 'l2_leaf_reg': 0.7,\n",
       " 'iterations': 380,\n",
       " 'depth': 3}"
      ]
     },
     "execution_count": 424,
     "metadata": {},
     "output_type": "execute_result"
    }
   ],
   "source": [
    "randparam = random_search.best_params_\n",
    "randparam     # check out the best hyperparam set from randomised search"
   ]
  },
  {
   "cell_type": "code",
   "execution_count": 425,
   "metadata": {},
   "outputs": [
    {
     "data": {
      "text/plain": [
       "0.8281806451612903"
      ]
     },
     "execution_count": 425,
     "metadata": {},
     "output_type": "execute_result"
    }
   ],
   "source": [
    "# return the highest accuracy score with this hyperparam set\n",
    "random_search.best_score_  "
   ]
  },
  {
   "cell_type": "code",
   "execution_count": 426,
   "metadata": {
    "scrolled": true
   },
   "outputs": [
    {
     "data": {
      "text/plain": [
       "47"
      ]
     },
     "execution_count": 426,
     "metadata": {},
     "output_type": "execute_result"
    }
   ],
   "source": [
    "max_idx = random_search.cv_results_['mean_test_score'].argmax()\n",
    "max_idx"
   ]
  },
  {
   "cell_type": "code",
   "execution_count": 427,
   "metadata": {},
   "outputs": [
    {
     "name": "stdout",
     "output_type": "stream",
     "text": [
      "0.824\n",
      "0.848\n",
      "0.856\n",
      "0.8145161290322581\n",
      "0.7983870967741935\n"
     ]
    }
   ],
   "source": [
    "# examine the accuracy score for 5 split folds that average to the \n",
    "# best score for the hyperparam set\n",
    "for n in range(5):\n",
    "    print(random_search.cv_results_[f'split{n}_test_score'][max_idx])    "
   ]
  },
  {
   "cell_type": "code",
   "execution_count": 428,
   "metadata": {
    "scrolled": true
   },
   "outputs": [
    {
     "data": {
      "text/plain": [
       "array([0, 1, 0, 0, 0])"
      ]
     },
     "execution_count": 428,
     "metadata": {},
     "output_type": "execute_result"
    }
   ],
   "source": [
    "pred = random_search.predict(X_test)\n",
    "pred[:5]"
   ]
  },
  {
   "cell_type": "code",
   "execution_count": 429,
   "metadata": {},
   "outputs": [
    {
     "name": "stdout",
     "output_type": "stream",
     "text": [
      "[[149  16]\n",
      " [ 18  85]]\n"
     ]
    },
    {
     "data": {
      "image/png": "[encoded data removed]",
      "text/plain": [
       "<Figure size 432x288 with 2 Axes>"
      ]
     },
     "metadata": {},
     "output_type": "display_data"
    }
   ],
   "source": [
    "from sklearn.metrics import confusion_matrix\n",
    "cm = confusion_matrix(y_test, pred)\n",
    "print(cm)\n",
    "\n",
    "plt.figure(figsize = (6,4))\n",
    "plt.ticklabel_format(style='plain', axis='y', useOffset=False)\n",
    "sns.set(font_scale=1.4)\n",
    "sns.heatmap(cm, annot=True, annot_kws={\"size\": 16}, fmt='g',cmap='Greens')\n",
    "plt.xlabel('Predict')\n",
    "plt.ylabel('Actual')\n",
    "plt.show()"
   ]
  },
  {
   "cell_type": "code",
   "execution_count": 430,
   "metadata": {
    "scrolled": true
   },
   "outputs": [
    {
     "name": "stdout",
     "output_type": "stream",
     "text": [
      "              precision    recall  f1-score   support\n",
      "\n",
      "           0       0.89      0.90      0.90       165\n",
      "           1       0.84      0.83      0.83       103\n",
      "\n",
      "    accuracy                           0.87       268\n",
      "   macro avg       0.87      0.86      0.87       268\n",
      "weighted avg       0.87      0.87      0.87       268\n",
      "\n"
     ]
    }
   ],
   "source": [
    "from sklearn.metrics import classification_report\n",
    "print(classification_report(y_test, pred))"
   ]
  },
  {
   "cell_type": "code",
   "execution_count": null,
   "metadata": {},
   "outputs": [],
   "source": []
  },
  {
   "cell_type": "code",
   "execution_count": null,
   "metadata": {},
   "outputs": [],
   "source": []
  },
  {
   "cell_type": "code",
   "execution_count": null,
   "metadata": {},
   "outputs": [],
   "source": []
  },
  {
   "cell_type": "code",
   "execution_count": null,
   "metadata": {},
   "outputs": [],
   "source": []
  }
 ],
 "metadata": {
  "kernelspec": {
   "display_name": "Python 3",
   "language": "python",
   "name": "python3"
  },
  "language_info": {
   "codemirror_mode": {
    "name": "ipython",
    "version": 3
   },
   "file_extension": ".py",
   "mimetype": "text/x-python",
   "name": "python",
   "nbconvert_exporter": "python",
   "pygments_lexer": "ipython3",
   "version": "3.6.7"
  }
 },
 "nbformat": 4,
 "nbformat_minor": 1
}
